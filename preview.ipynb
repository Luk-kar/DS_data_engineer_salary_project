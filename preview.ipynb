{
 "cells": [
  {
   "cell_type": "code",
   "execution_count": 1,
   "metadata": {},
   "outputs": [],
   "source": [
    "import pandas as pd\n",
    "\n",
    "file_path = \"data\\clean\\_Socioeconomic data\\euro_rates_03_04_2023.csv\"\n",
    "\n",
    "df = pd.read_csv(file_path)"
   ]
  },
  {
   "cell_type": "code",
   "execution_count": 9,
   "metadata": {},
   "outputs": [
    {
     "data": {
      "text/plain": [
       "14    AUD\n",
       "2     BGN\n",
       "15    BRL\n",
       "16    CAD\n",
       "10    CHF\n",
       "17    CNY\n",
       "3     CZK\n",
       "4     DKK\n",
       "5     GBP\n",
       "18    HKD\n",
       "6     HUF\n",
       "19    IDR\n",
       "20    ILS\n",
       "21    INR\n",
       "11    ISK\n",
       "1     JPY\n",
       "22    KRW\n",
       "23    MXN\n",
       "24    MYR\n",
       "12    NOK\n",
       "25    NZD\n",
       "26    PHP\n",
       "7     PLN\n",
       "8     RON\n",
       "9     SEK\n",
       "27    SGD\n",
       "28    THB\n",
       "13    TRY\n",
       "0     USD\n",
       "29    ZAR\n",
       "Name: Currency, dtype: object"
      ]
     },
     "execution_count": 9,
     "metadata": {},
     "output_type": "execute_result"
    }
   ],
   "source": [
    "df['Currency'].sort_values()"
   ]
  },
  {
   "cell_type": "code",
   "execution_count": 3,
   "metadata": {},
   "outputs": [],
   "source": [
    "currencies = {\"AUD\",\n",
    "\"CAD\",\n",
    "\"CHF\",\n",
    "\"CZK\",\n",
    "\"DKK\",\n",
    "\"EUR\",\n",
    "\"GBP\",\n",
    "\"HKD\",\n",
    "\"NOK\",\n",
    "\"NZD\",\n",
    "\"PLN\",\n",
    "\"RON\",\n",
    "\"SEK\",\n",
    "\"SGD\",\n",
    "\"USD\"}"
   ]
  },
  {
   "cell_type": "code",
   "execution_count": 8,
   "metadata": {},
   "outputs": [
    {
     "data": {
      "text/plain": [
       "{'EUR'}"
      ]
     },
     "execution_count": 8,
     "metadata": {},
     "output_type": "execute_result"
    }
   ],
   "source": [
    "unique_currencies = set(df['Currency'].to_list())\n",
    "currencies - unique_currencies"
   ]
  }
 ],
 "metadata": {
  "kernelspec": {
   "display_name": "Python 3",
   "language": "python",
   "name": "python3"
  },
  "language_info": {
   "codemirror_mode": {
    "name": "ipython",
    "version": 3
   },
   "file_extension": ".py",
   "mimetype": "text/x-python",
   "name": "python",
   "nbconvert_exporter": "python",
   "pygments_lexer": "ipython3",
   "version": "3.11.1"
  },
  "orig_nbformat": 4
 },
 "nbformat": 4,
 "nbformat_minor": 2
}
