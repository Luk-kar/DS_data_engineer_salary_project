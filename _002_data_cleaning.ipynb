{
 "cells": [
  {
   "attachments": {},
   "cell_type": "markdown",
   "metadata": {},
   "source": [
    "#### 1. Importing all packages"
   ]
  },
  {
   "cell_type": "code",
   "execution_count": 109,
   "metadata": {},
   "outputs": [],
   "source": [
    "# External\n",
    "import numpy as np\n",
    "import pandas as pd"
   ]
  },
  {
   "attachments": {},
   "cell_type": "markdown",
   "metadata": {},
   "source": [
    "#### 2. Importing  a CSV file"
   ]
  },
  {
   "cell_type": "code",
   "execution_count": 99,
   "metadata": {},
   "outputs": [
    {
     "data": {
      "text/html": [
       "<div>\n",
       "<style scoped>\n",
       "    .dataframe tbody tr th:only-of-type {\n",
       "        vertical-align: middle;\n",
       "    }\n",
       "\n",
       "    .dataframe tbody tr th {\n",
       "        vertical-align: top;\n",
       "    }\n",
       "\n",
       "    .dataframe thead th {\n",
       "        text-align: right;\n",
       "    }\n",
       "</style>\n",
       "<table border=\"1\" class=\"dataframe\">\n",
       "  <thead>\n",
       "    <tr style=\"text-align: right;\">\n",
       "      <th></th>\n",
       "      <th>Company_name</th>\n",
       "      <th>Rating</th>\n",
       "      <th>Location</th>\n",
       "      <th>Job_title</th>\n",
       "      <th>Description</th>\n",
       "      <th>Salary</th>\n",
       "      <th>Job_age</th>\n",
       "      <th>Easy_apply</th>\n",
       "      <th>Employees</th>\n",
       "      <th>Type_of_ownership</th>\n",
       "      <th>...</th>\n",
       "      <th>CEO_approval</th>\n",
       "      <th>Career_opportunities</th>\n",
       "      <th>Comp_&amp;_benefits</th>\n",
       "      <th>Culture_&amp;_values</th>\n",
       "      <th>Senior_management</th>\n",
       "      <th>Work/Life_balance</th>\n",
       "      <th>Pros</th>\n",
       "      <th>Cons</th>\n",
       "      <th>Benefits_rating</th>\n",
       "      <th>Benefits_reviews</th>\n",
       "    </tr>\n",
       "  </thead>\n",
       "  <tbody>\n",
       "    <tr>\n",
       "      <th>0</th>\n",
       "      <td>Infoway solutions LLC</td>\n",
       "      <td>3.9</td>\n",
       "      <td>Santa Clara, CA</td>\n",
       "      <td>Data Engineer</td>\n",
       "      <td>Need min 10+ Years exp\\nData Engineer\\nBay Are...</td>\n",
       "      <td>Employer Provided Salary:$68.00 Per Hour</td>\n",
       "      <td>3d</td>\n",
       "      <td>True</td>\n",
       "      <td>NaN</td>\n",
       "      <td>Company - Private</td>\n",
       "      <td>...</td>\n",
       "      <td>0.84</td>\n",
       "      <td>4.0</td>\n",
       "      <td>3.9</td>\n",
       "      <td>4.0</td>\n",
       "      <td>3.7</td>\n",
       "      <td>3.9</td>\n",
       "      <td>['\"Nice and friendly work environment\" (in 1 r...</td>\n",
       "      <td>['No Cons have been reported by the Glassdoor ...</td>\n",
       "      <td>2.2</td>\n",
       "      <td>NaN</td>\n",
       "    </tr>\n",
       "    <tr>\n",
       "      <th>1</th>\n",
       "      <td>Optimal Inc.</td>\n",
       "      <td>3.6</td>\n",
       "      <td>Dearborn, MI</td>\n",
       "      <td>Data Engineer - Terraform</td>\n",
       "      <td>Position Description:\\nThe GDIA Data Factory P...</td>\n",
       "      <td>$63K - $90K (Glassdoor est.)</td>\n",
       "      <td>12d</td>\n",
       "      <td>True</td>\n",
       "      <td>1 to 50</td>\n",
       "      <td>Nonprofit Organization</td>\n",
       "      <td>...</td>\n",
       "      <td>0.78</td>\n",
       "      <td>3.2</td>\n",
       "      <td>3.7</td>\n",
       "      <td>3.3</td>\n",
       "      <td>2.6</td>\n",
       "      <td>4.5</td>\n",
       "      <td>['No Pros have been reported by the Glassdoor ...</td>\n",
       "      <td>['\"Antisocial and downright rude CEO, callous ...</td>\n",
       "      <td>5.0</td>\n",
       "      <td>NaN</td>\n",
       "    </tr>\n",
       "    <tr>\n",
       "      <th>2</th>\n",
       "      <td>Strivernet RPO Services Ltd</td>\n",
       "      <td>NaN</td>\n",
       "      <td>Santa Clara, CA</td>\n",
       "      <td>Data Engineer</td>\n",
       "      <td>(W2 CANDIDATES ONLY) (SANTA CLARA, CA)\\nPLEASE...</td>\n",
       "      <td>Employer Provided Salary:$90.00 - $95.00 Per Hour</td>\n",
       "      <td>5d</td>\n",
       "      <td>True</td>\n",
       "      <td>NaN</td>\n",
       "      <td>Company - Public</td>\n",
       "      <td>...</td>\n",
       "      <td>NaN</td>\n",
       "      <td>NaN</td>\n",
       "      <td>NaN</td>\n",
       "      <td>NaN</td>\n",
       "      <td>NaN</td>\n",
       "      <td>NaN</td>\n",
       "      <td>NaN</td>\n",
       "      <td>NaN</td>\n",
       "      <td>NaN</td>\n",
       "      <td>NaN</td>\n",
       "    </tr>\n",
       "    <tr>\n",
       "      <th>3</th>\n",
       "      <td>Futuretech Consultants LLC</td>\n",
       "      <td>NaN</td>\n",
       "      <td>Newton, MS</td>\n",
       "      <td>Snowflake Data Engineer</td>\n",
       "      <td>My name is Dileep and I am a recruiter at Futu...</td>\n",
       "      <td>Employer Provided Salary:$40.00 - $45.00 Per Hour</td>\n",
       "      <td>30d+</td>\n",
       "      <td>True</td>\n",
       "      <td>NaN</td>\n",
       "      <td>NaN</td>\n",
       "      <td>...</td>\n",
       "      <td>NaN</td>\n",
       "      <td>NaN</td>\n",
       "      <td>NaN</td>\n",
       "      <td>NaN</td>\n",
       "      <td>NaN</td>\n",
       "      <td>NaN</td>\n",
       "      <td>NaN</td>\n",
       "      <td>NaN</td>\n",
       "      <td>NaN</td>\n",
       "      <td>NaN</td>\n",
       "    </tr>\n",
       "    <tr>\n",
       "      <th>4</th>\n",
       "      <td>Clairvoyant</td>\n",
       "      <td>4.4</td>\n",
       "      <td>Remote</td>\n",
       "      <td>Data Engineer (MDM)</td>\n",
       "      <td>Required Skills:\\nMust have 5-8+ Years of expe...</td>\n",
       "      <td>Employer Provided Salary:$65.00 - $70.00 Per Hour</td>\n",
       "      <td>12d</td>\n",
       "      <td>True</td>\n",
       "      <td>51 to 200</td>\n",
       "      <td>Company - Private</td>\n",
       "      <td>...</td>\n",
       "      <td>0.87</td>\n",
       "      <td>4.1</td>\n",
       "      <td>4.2</td>\n",
       "      <td>3.9</td>\n",
       "      <td>4.1</td>\n",
       "      <td>4.0</td>\n",
       "      <td>['\"Benefits, compensation, clean work environm...</td>\n",
       "      <td>['No Cons have been reported by the Glassdoor ...</td>\n",
       "      <td>NaN</td>\n",
       "      <td>NaN</td>\n",
       "    </tr>\n",
       "  </tbody>\n",
       "</table>\n",
       "<p>5 rows × 25 columns</p>\n",
       "</div>"
      ],
      "text/plain": [
       "                  Company_name  Rating         Location  \\\n",
       "0        Infoway solutions LLC     3.9  Santa Clara, CA   \n",
       "1                 Optimal Inc.     3.6     Dearborn, MI   \n",
       "2  Strivernet RPO Services Ltd     NaN  Santa Clara, CA   \n",
       "3   Futuretech Consultants LLC     NaN       Newton, MS   \n",
       "4                  Clairvoyant     4.4           Remote   \n",
       "\n",
       "                   Job_title  \\\n",
       "0              Data Engineer   \n",
       "1  Data Engineer - Terraform   \n",
       "2              Data Engineer   \n",
       "3    Snowflake Data Engineer   \n",
       "4        Data Engineer (MDM)   \n",
       "\n",
       "                                         Description  \\\n",
       "0  Need min 10+ Years exp\\nData Engineer\\nBay Are...   \n",
       "1  Position Description:\\nThe GDIA Data Factory P...   \n",
       "2  (W2 CANDIDATES ONLY) (SANTA CLARA, CA)\\nPLEASE...   \n",
       "3  My name is Dileep and I am a recruiter at Futu...   \n",
       "4  Required Skills:\\nMust have 5-8+ Years of expe...   \n",
       "\n",
       "                                              Salary Job_age  Easy_apply  \\\n",
       "0           Employer Provided Salary:$68.00 Per Hour      3d        True   \n",
       "1                       $63K - $90K (Glassdoor est.)     12d        True   \n",
       "2  Employer Provided Salary:$90.00 - $95.00 Per Hour      5d        True   \n",
       "3  Employer Provided Salary:$40.00 - $45.00 Per Hour    30d+        True   \n",
       "4  Employer Provided Salary:$65.00 - $70.00 Per Hour     12d        True   \n",
       "\n",
       "   Employees       Type_of_ownership  ... CEO_approval  Career_opportunities  \\\n",
       "0        NaN       Company - Private  ...         0.84                   4.0   \n",
       "1    1 to 50  Nonprofit Organization  ...         0.78                   3.2   \n",
       "2        NaN        Company - Public  ...          NaN                   NaN   \n",
       "3        NaN                     NaN  ...          NaN                   NaN   \n",
       "4  51 to 200       Company - Private  ...         0.87                   4.1   \n",
       "\n",
       "  Comp_&_benefits Culture_&_values  Senior_management  Work/Life_balance  \\\n",
       "0             3.9              4.0                3.7                3.9   \n",
       "1             3.7              3.3                2.6                4.5   \n",
       "2             NaN              NaN                NaN                NaN   \n",
       "3             NaN              NaN                NaN                NaN   \n",
       "4             4.2              3.9                4.1                4.0   \n",
       "\n",
       "                                                Pros  \\\n",
       "0  ['\"Nice and friendly work environment\" (in 1 r...   \n",
       "1  ['No Pros have been reported by the Glassdoor ...   \n",
       "2                                                NaN   \n",
       "3                                                NaN   \n",
       "4  ['\"Benefits, compensation, clean work environm...   \n",
       "\n",
       "                                                Cons  Benefits_rating  \\\n",
       "0  ['No Cons have been reported by the Glassdoor ...              2.2   \n",
       "1  ['\"Antisocial and downright rude CEO, callous ...              5.0   \n",
       "2                                                NaN              NaN   \n",
       "3                                                NaN              NaN   \n",
       "4  ['No Cons have been reported by the Glassdoor ...              NaN   \n",
       "\n",
       "   Benefits_reviews  \n",
       "0               NaN  \n",
       "1               NaN  \n",
       "2               NaN  \n",
       "3               NaN  \n",
       "4               NaN  \n",
       "\n",
       "[5 rows x 25 columns]"
      ]
     },
     "execution_count": 99,
     "metadata": {},
     "output_type": "execute_result"
    }
   ],
   "source": [
    "df = pd.read_csv(\"data/RAW/Data_Engineer_06-03-2023_23-41.csv\")\n",
    "df.head()"
   ]
  },
  {
   "cell_type": "code",
   "execution_count": 100,
   "metadata": {},
   "outputs": [
    {
     "data": {
      "text/plain": [
       "Index(['Company_name', 'Rating', 'Location', 'Job_title', 'Description',\n",
       "       'Salary', 'Job_age', 'Easy_apply', 'Employees', 'Type_of_ownership',\n",
       "       'Sector', 'Founded', 'Industry', 'Revenue_USD', 'Friend_recommend',\n",
       "       'CEO_approval', 'Career_opportunities', 'Comp_&_benefits',\n",
       "       'Culture_&_values', 'Senior_management', 'Work/Life_balance', 'Pros',\n",
       "       'Cons', 'Benefits_rating', 'Benefits_reviews'],\n",
       "      dtype='object')"
      ]
     },
     "execution_count": 100,
     "metadata": {},
     "output_type": "execute_result"
    }
   ],
   "source": [
    "df.columns"
   ]
  },
  {
   "attachments": {},
   "cell_type": "markdown",
   "metadata": {},
   "source": [
    "#### 3. Remove rows only with NaNs"
   ]
  },
  {
   "cell_type": "code",
   "execution_count": 101,
   "metadata": {},
   "outputs": [
    {
     "data": {
      "text/plain": [
       "(900, 25)"
      ]
     },
     "execution_count": 101,
     "metadata": {},
     "output_type": "execute_result"
    }
   ],
   "source": [
    "df = df.dropna(how='all')\n",
    "df.shape"
   ]
  },
  {
   "attachments": {},
   "cell_type": "markdown",
   "metadata": {},
   "source": [
    "There is no empty rows"
   ]
  },
  {
   "attachments": {},
   "cell_type": "markdown",
   "metadata": {},
   "source": [
    "#### 4. Remove duplicates"
   ]
  },
  {
   "cell_type": "code",
   "execution_count": 102,
   "metadata": {},
   "outputs": [
    {
     "data": {
      "text/plain": [
       "(220, 25)"
      ]
     },
     "execution_count": 102,
     "metadata": {},
     "output_type": "execute_result"
    }
   ],
   "source": [
    "df = df.drop_duplicates()\n",
    "df.shape"
   ]
  },
  {
   "attachments": {},
   "cell_type": "markdown",
   "metadata": {},
   "source": [
    "There is huge amount of duplicates. But this is the feature of glassdoor"
   ]
  },
  {
   "attachments": {},
   "cell_type": "markdown",
   "metadata": {},
   "source": [
    "#### 5. Remove empty columns"
   ]
  },
  {
   "cell_type": "code",
   "execution_count": 103,
   "metadata": {},
   "outputs": [
    {
     "data": {
      "text/plain": [
       "(220, 25)"
      ]
     },
     "execution_count": 103,
     "metadata": {},
     "output_type": "execute_result"
    }
   ],
   "source": [
    "df = df.dropna(axis=1, how='all')\n",
    "df.shape"
   ]
  },
  {
   "attachments": {},
   "cell_type": "markdown",
   "metadata": {},
   "source": [
    "There is no empty columns"
   ]
  },
  {
   "attachments": {},
   "cell_type": "markdown",
   "metadata": {},
   "source": [
    "#### 6. Now we will split `Location` column into `State` and `City`."
   ]
  },
  {
   "cell_type": "code",
   "execution_count": 104,
   "metadata": {},
   "outputs": [
    {
     "data": {
      "text/plain": [
       "0    Santa Clara, CA\n",
       "1       Dearborn, MI\n",
       "2    Santa Clara, CA\n",
       "3         Newton, MS\n",
       "4             Remote\n",
       "Name: Location, dtype: object"
      ]
     },
     "execution_count": 104,
     "metadata": {},
     "output_type": "execute_result"
    }
   ],
   "source": [
    "df['Location'].head()"
   ]
  },
  {
   "cell_type": "code",
   "execution_count": 105,
   "metadata": {},
   "outputs": [
    {
     "data": {
      "text/plain": [
       "0    Santa Clara\n",
       "1       Dearborn\n",
       "2    Santa Clara\n",
       "3         Newton\n",
       "4         Remote\n",
       "Name: City, dtype: object"
      ]
     },
     "execution_count": 105,
     "metadata": {},
     "output_type": "execute_result"
    }
   ],
   "source": [
    "df['City'] = df['Location'].apply(lambda x: x.split(',')[0] if \",\" in x else x)\n",
    "df['City'].head()"
   ]
  },
  {
   "cell_type": "code",
   "execution_count": 106,
   "metadata": {},
   "outputs": [
    {
     "data": {
      "text/plain": [
       "0        CA\n",
       "1        MI\n",
       "2        CA\n",
       "3        MS\n",
       "4    Remote\n",
       "Name: State, dtype: object"
      ]
     },
     "execution_count": 106,
     "metadata": {},
     "output_type": "execute_result"
    }
   ],
   "source": [
    "df['State'] = df['Location'].apply(lambda x: x.split(',')[1] if \",\" in x else x)\n",
    "df['State'].head()"
   ]
  },
  {
   "attachments": {},
   "cell_type": "markdown",
   "metadata": {},
   "source": [
    "#### 7. Add job title seniority"
   ]
  },
  {
   "cell_type": "code",
   "execution_count": 108,
   "metadata": {},
   "outputs": [
    {
     "data": {
      "text/plain": [
       "array(['Data Engineer', 'Data Engineer - Terraform',\n",
       "       'Snowflake Data Engineer', 'Data Engineer (MDM)',\n",
       "       'AWS Data Engineer', 'DATA ENGINEER', 'Big Data Engineer',\n",
       "       'Sr. Data Engineer', 'Data Engineer - Flink', 'Jr. Data Engineer',\n",
       "       'Data Engineer - Remote', 'Data Engineer (L5)',\n",
       "       'Software Data Engineer', 'GCP Data Engineer',\n",
       "       'Senior Data Engineer', 'Azure Cloud Data Engineer',\n",
       "       'GCP DATA ENGINEER', 'Data Test Engineer', 'Azure Data Engineer',\n",
       "       'Senior Azure Data Bricks Engineer', 'Data Analytics Engineer',\n",
       "       'Data Engineer (W2 and onsite)', 'Senior Big Data Engineer',\n",
       "       'Data Engineer- Google Cloud',\n",
       "       'Data Engineer (ETL & System Administration concentration)',\n",
       "       'Data Engineer/Data Analyst', 'Data Engineer/Data Scientist',\n",
       "       'ETL Data Engineer', 'Lead Data Engineer',\n",
       "       'Sr. Data Engineer with Snowflake', 'Junior Data Engineer',\n",
       "       'Senior Data Engineer - Remote', 'Data Engineer Level 3',\n",
       "       'Cloud Data Engineer (Azure)', 'Senior Software Engineer, Data',\n",
       "       'Technical Support Engineer (L5) - Data Platform, Big Data / Analytics',\n",
       "       'Full Stack Data Engineer', 'Data Engineer IC4 - US ONLY',\n",
       "       'Data Engineer I',\n",
       "       'Senior Health Data and Interoperability Engineer',\n",
       "       'Azure Data Warehouse Engineer', 'Data Logging Engineer',\n",
       "       'ETL Engineer/ Data Analyst - Software Engineer III',\n",
       "       'Software Engineer III (AI, Data, Python)',\n",
       "       'Software/GCP Data Engineer (W2 only)', 'Software Engineer (Data)',\n",
       "       'Junior Big Data Engineer - C11', 'Anaplan Data Engineer',\n",
       "       'Data Software Engineer',\n",
       "       'Data Engineer (ETL & Data Catalogue Support)',\n",
       "       'Data Scientist / Data Engineer',\n",
       "       'Big Data Sytems Engineer(Hadoop)',\n",
       "       'Data Engineer - Need locals to CA', 'Data Engineer (ETL)',\n",
       "       'Python Data Engineer', 'Data engineer',\n",
       "       'Data Engineer - SnowFlake, Azure Data, Terraform',\n",
       "       'Senior Data Engineer [ Remote ]',\n",
       "       'Senior Data Engineer, Analytics', 'Cloud Data Engineer',\n",
       "       'Software Engineer, Data', 'Data Engineer 925',\n",
       "       'Senior Azure Data Engineer', 'Data Engineer ETL',\n",
       "       'Big Data Engineer, Senior'], dtype=object)"
      ]
     },
     "execution_count": 108,
     "metadata": {},
     "output_type": "execute_result"
    }
   ],
   "source": [
    "df['Job_title'].unique()"
   ]
  },
  {
   "cell_type": "code",
   "execution_count": 121,
   "metadata": {},
   "outputs": [
    {
     "data": {
      "text/plain": [
       "Senior    45\n",
       "Junior     4\n",
       "Lead       4\n",
       "Name: Seniority, dtype: int64"
      ]
     },
     "execution_count": 121,
     "metadata": {},
     "output_type": "execute_result"
    }
   ],
   "source": [
    "def get_seniority(job_title:str):\n",
    "\n",
    "    seniority = {\n",
    "        'Junior' : [\"Jr.\", \"Junior\"],\n",
    "        'Mid' : [\"Mid\", \"Middle\"],\n",
    "        'Senior': [\"Sr.\", \"Senior\"],\n",
    "        'Lead': \"Lead\",\n",
    "        'Principle' : \"Principle\"\n",
    "    }\n",
    "    \n",
    "    if seniority['Junior'][0] in job_title or seniority['Junior'][1] in job_title :\n",
    "        return \"Junior\"\n",
    "    elif seniority['Mid'][0] in job_title or seniority['Mid'][1] in job_title :\n",
    "        return \"Mid\"\n",
    "    elif seniority['Senior'][0] in job_title or seniority['Senior'][1] in job_title :\n",
    "        return \"Senior\"\n",
    "    elif seniority['Lead'] in job_title:\n",
    "        return \"Lead\"\n",
    "    elif seniority['Principle'] in job_title:\n",
    "        return \"Principle\"\n",
    "    else:\n",
    "        return np.nan\n",
    "    \n",
    "df['Seniority'] = df['Job_title'].apply(get_seniority)\n",
    "\n",
    "del get_seniority\n",
    "\n",
    "df['Seniority'].value_counts()"
   ]
  },
  {
   "attachments": {},
   "cell_type": "markdown",
   "metadata": {},
   "source": [
    "Add non-standard seniority"
   ]
  },
  {
   "cell_type": "code",
   "execution_count": null,
   "metadata": {},
   "outputs": [],
   "source": [
    "# Data Engineer (L5) - Netflix senior - Senior\n",
    "# Infoorigin Inc - Data Engineer Level 3 - Principle\n",
    "# Technical Support Engineer (L5) - Data Platform, Big Data / Analytics - Senior\n",
    "# Data Engineer IC4 - Lead\n",
    "# JPMorgan Chase Bank, N.A., ETL Engineer/ Data Analyst - Software Engineer III - Mid\n",
    "# Software Engineer III (AI, Data, Python) - Mid\n",
    "# Data Engineer 925 - Senior"
   ]
  }
 ],
 "metadata": {
  "kernelspec": {
   "display_name": "Python 3",
   "language": "python",
   "name": "python3"
  },
  "language_info": {
   "codemirror_mode": {
    "name": "ipython",
    "version": 3
   },
   "file_extension": ".py",
   "mimetype": "text/x-python",
   "name": "python",
   "nbconvert_exporter": "python",
   "pygments_lexer": "ipython3",
   "version": "3.11.1"
  },
  "orig_nbformat": 4
 },
 "nbformat": 4,
 "nbformat_minor": 2
}
