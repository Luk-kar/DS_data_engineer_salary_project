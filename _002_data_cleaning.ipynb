{
 "cells": [
  {
   "attachments": {},
   "cell_type": "markdown",
   "metadata": {},
   "source": [
    "#### 1. Importing all packages"
   ]
  },
  {
   "cell_type": "code",
   "execution_count": 576,
   "metadata": {},
   "outputs": [],
   "source": [
    "# External\n",
    "import numpy as np\n",
    "import pandas as pd\n",
    "import re"
   ]
  },
  {
   "attachments": {},
   "cell_type": "markdown",
   "metadata": {},
   "source": [
    "#### 2. Importing  a CSV file"
   ]
  },
  {
   "cell_type": "code",
   "execution_count": 577,
   "metadata": {},
   "outputs": [
    {
     "data": {
      "text/html": [
       "<div>\n",
       "<style scoped>\n",
       "    .dataframe tbody tr th:only-of-type {\n",
       "        vertical-align: middle;\n",
       "    }\n",
       "\n",
       "    .dataframe tbody tr th {\n",
       "        vertical-align: top;\n",
       "    }\n",
       "\n",
       "    .dataframe thead th {\n",
       "        text-align: right;\n",
       "    }\n",
       "</style>\n",
       "<table border=\"1\" class=\"dataframe\">\n",
       "  <thead>\n",
       "    <tr style=\"text-align: right;\">\n",
       "      <th></th>\n",
       "      <th>Company_name</th>\n",
       "      <th>Rating</th>\n",
       "      <th>Location</th>\n",
       "      <th>Job_title</th>\n",
       "      <th>Description</th>\n",
       "      <th>Salary</th>\n",
       "      <th>Job_age</th>\n",
       "      <th>Easy_apply</th>\n",
       "      <th>Employees</th>\n",
       "      <th>Type_of_ownership</th>\n",
       "      <th>...</th>\n",
       "      <th>CEO_approval</th>\n",
       "      <th>Career_opportunities</th>\n",
       "      <th>Comp_&amp;_benefits</th>\n",
       "      <th>Culture_&amp;_values</th>\n",
       "      <th>Senior_management</th>\n",
       "      <th>Work/Life_balance</th>\n",
       "      <th>Pros</th>\n",
       "      <th>Cons</th>\n",
       "      <th>Benefits_rating</th>\n",
       "      <th>Benefits_reviews</th>\n",
       "    </tr>\n",
       "  </thead>\n",
       "  <tbody>\n",
       "    <tr>\n",
       "      <th>0</th>\n",
       "      <td>Infoway solutions LLC</td>\n",
       "      <td>3.9</td>\n",
       "      <td>Santa Clara, CA</td>\n",
       "      <td>Data Engineer</td>\n",
       "      <td>Need min 10+ Years exp\\nData Engineer\\nBay Are...</td>\n",
       "      <td>Employer Provided Salary:$68.00 Per Hour</td>\n",
       "      <td>3d</td>\n",
       "      <td>True</td>\n",
       "      <td>NaN</td>\n",
       "      <td>Company - Private</td>\n",
       "      <td>...</td>\n",
       "      <td>0.84</td>\n",
       "      <td>4.0</td>\n",
       "      <td>3.9</td>\n",
       "      <td>4.0</td>\n",
       "      <td>3.7</td>\n",
       "      <td>3.9</td>\n",
       "      <td>['\"Nice and friendly work environment\" (in 1 r...</td>\n",
       "      <td>['No Cons have been reported by the Glassdoor ...</td>\n",
       "      <td>2.2</td>\n",
       "      <td>NaN</td>\n",
       "    </tr>\n",
       "    <tr>\n",
       "      <th>1</th>\n",
       "      <td>Optimal Inc.</td>\n",
       "      <td>3.6</td>\n",
       "      <td>Dearborn, MI</td>\n",
       "      <td>Data Engineer - Terraform</td>\n",
       "      <td>Position Description:\\nThe GDIA Data Factory P...</td>\n",
       "      <td>$63K - $90K (Glassdoor est.)</td>\n",
       "      <td>12d</td>\n",
       "      <td>True</td>\n",
       "      <td>1 to 50</td>\n",
       "      <td>Nonprofit Organization</td>\n",
       "      <td>...</td>\n",
       "      <td>0.78</td>\n",
       "      <td>3.2</td>\n",
       "      <td>3.7</td>\n",
       "      <td>3.3</td>\n",
       "      <td>2.6</td>\n",
       "      <td>4.5</td>\n",
       "      <td>['No Pros have been reported by the Glassdoor ...</td>\n",
       "      <td>['\"Antisocial and downright rude CEO, callous ...</td>\n",
       "      <td>5.0</td>\n",
       "      <td>NaN</td>\n",
       "    </tr>\n",
       "    <tr>\n",
       "      <th>2</th>\n",
       "      <td>Strivernet RPO Services Ltd</td>\n",
       "      <td>NaN</td>\n",
       "      <td>Santa Clara, CA</td>\n",
       "      <td>Data Engineer</td>\n",
       "      <td>(W2 CANDIDATES ONLY) (SANTA CLARA, CA)\\nPLEASE...</td>\n",
       "      <td>Employer Provided Salary:$90.00 - $95.00 Per Hour</td>\n",
       "      <td>5d</td>\n",
       "      <td>True</td>\n",
       "      <td>NaN</td>\n",
       "      <td>Company - Public</td>\n",
       "      <td>...</td>\n",
       "      <td>NaN</td>\n",
       "      <td>NaN</td>\n",
       "      <td>NaN</td>\n",
       "      <td>NaN</td>\n",
       "      <td>NaN</td>\n",
       "      <td>NaN</td>\n",
       "      <td>NaN</td>\n",
       "      <td>NaN</td>\n",
       "      <td>NaN</td>\n",
       "      <td>NaN</td>\n",
       "    </tr>\n",
       "    <tr>\n",
       "      <th>3</th>\n",
       "      <td>Futuretech Consultants LLC</td>\n",
       "      <td>NaN</td>\n",
       "      <td>Newton, MS</td>\n",
       "      <td>Snowflake Data Engineer</td>\n",
       "      <td>My name is Dileep and I am a recruiter at Futu...</td>\n",
       "      <td>Employer Provided Salary:$40.00 - $45.00 Per Hour</td>\n",
       "      <td>30d+</td>\n",
       "      <td>True</td>\n",
       "      <td>NaN</td>\n",
       "      <td>NaN</td>\n",
       "      <td>...</td>\n",
       "      <td>NaN</td>\n",
       "      <td>NaN</td>\n",
       "      <td>NaN</td>\n",
       "      <td>NaN</td>\n",
       "      <td>NaN</td>\n",
       "      <td>NaN</td>\n",
       "      <td>NaN</td>\n",
       "      <td>NaN</td>\n",
       "      <td>NaN</td>\n",
       "      <td>NaN</td>\n",
       "    </tr>\n",
       "    <tr>\n",
       "      <th>4</th>\n",
       "      <td>Clairvoyant</td>\n",
       "      <td>4.4</td>\n",
       "      <td>Remote</td>\n",
       "      <td>Data Engineer (MDM)</td>\n",
       "      <td>Required Skills:\\nMust have 5-8+ Years of expe...</td>\n",
       "      <td>Employer Provided Salary:$65.00 - $70.00 Per Hour</td>\n",
       "      <td>12d</td>\n",
       "      <td>True</td>\n",
       "      <td>51 to 200</td>\n",
       "      <td>Company - Private</td>\n",
       "      <td>...</td>\n",
       "      <td>0.87</td>\n",
       "      <td>4.1</td>\n",
       "      <td>4.2</td>\n",
       "      <td>3.9</td>\n",
       "      <td>4.1</td>\n",
       "      <td>4.0</td>\n",
       "      <td>['\"Benefits, compensation, clean work environm...</td>\n",
       "      <td>['No Cons have been reported by the Glassdoor ...</td>\n",
       "      <td>NaN</td>\n",
       "      <td>NaN</td>\n",
       "    </tr>\n",
       "  </tbody>\n",
       "</table>\n",
       "<p>5 rows × 25 columns</p>\n",
       "</div>"
      ],
      "text/plain": [
       "                  Company_name  Rating         Location  \\\n",
       "0        Infoway solutions LLC     3.9  Santa Clara, CA   \n",
       "1                 Optimal Inc.     3.6     Dearborn, MI   \n",
       "2  Strivernet RPO Services Ltd     NaN  Santa Clara, CA   \n",
       "3   Futuretech Consultants LLC     NaN       Newton, MS   \n",
       "4                  Clairvoyant     4.4           Remote   \n",
       "\n",
       "                   Job_title  \\\n",
       "0              Data Engineer   \n",
       "1  Data Engineer - Terraform   \n",
       "2              Data Engineer   \n",
       "3    Snowflake Data Engineer   \n",
       "4        Data Engineer (MDM)   \n",
       "\n",
       "                                         Description  \\\n",
       "0  Need min 10+ Years exp\\nData Engineer\\nBay Are...   \n",
       "1  Position Description:\\nThe GDIA Data Factory P...   \n",
       "2  (W2 CANDIDATES ONLY) (SANTA CLARA, CA)\\nPLEASE...   \n",
       "3  My name is Dileep and I am a recruiter at Futu...   \n",
       "4  Required Skills:\\nMust have 5-8+ Years of expe...   \n",
       "\n",
       "                                              Salary Job_age  Easy_apply  \\\n",
       "0           Employer Provided Salary:$68.00 Per Hour      3d        True   \n",
       "1                       $63K - $90K (Glassdoor est.)     12d        True   \n",
       "2  Employer Provided Salary:$90.00 - $95.00 Per Hour      5d        True   \n",
       "3  Employer Provided Salary:$40.00 - $45.00 Per Hour    30d+        True   \n",
       "4  Employer Provided Salary:$65.00 - $70.00 Per Hour     12d        True   \n",
       "\n",
       "   Employees       Type_of_ownership  ... CEO_approval  Career_opportunities  \\\n",
       "0        NaN       Company - Private  ...         0.84                   4.0   \n",
       "1    1 to 50  Nonprofit Organization  ...         0.78                   3.2   \n",
       "2        NaN        Company - Public  ...          NaN                   NaN   \n",
       "3        NaN                     NaN  ...          NaN                   NaN   \n",
       "4  51 to 200       Company - Private  ...         0.87                   4.1   \n",
       "\n",
       "  Comp_&_benefits Culture_&_values  Senior_management  Work/Life_balance  \\\n",
       "0             3.9              4.0                3.7                3.9   \n",
       "1             3.7              3.3                2.6                4.5   \n",
       "2             NaN              NaN                NaN                NaN   \n",
       "3             NaN              NaN                NaN                NaN   \n",
       "4             4.2              3.9                4.1                4.0   \n",
       "\n",
       "                                                Pros  \\\n",
       "0  ['\"Nice and friendly work environment\" (in 1 r...   \n",
       "1  ['No Pros have been reported by the Glassdoor ...   \n",
       "2                                                NaN   \n",
       "3                                                NaN   \n",
       "4  ['\"Benefits, compensation, clean work environm...   \n",
       "\n",
       "                                                Cons  Benefits_rating  \\\n",
       "0  ['No Cons have been reported by the Glassdoor ...              2.2   \n",
       "1  ['\"Antisocial and downright rude CEO, callous ...              5.0   \n",
       "2                                                NaN              NaN   \n",
       "3                                                NaN              NaN   \n",
       "4  ['No Cons have been reported by the Glassdoor ...              NaN   \n",
       "\n",
       "   Benefits_reviews  \n",
       "0               NaN  \n",
       "1               NaN  \n",
       "2               NaN  \n",
       "3               NaN  \n",
       "4               NaN  \n",
       "\n",
       "[5 rows x 25 columns]"
      ]
     },
     "execution_count": 577,
     "metadata": {},
     "output_type": "execute_result"
    }
   ],
   "source": [
    "df = pd.read_csv(\"data/RAW/Data_Engineer_06-03-2023_23-41.csv\")\n",
    "df.head()"
   ]
  },
  {
   "cell_type": "code",
   "execution_count": 578,
   "metadata": {},
   "outputs": [
    {
     "data": {
      "text/plain": [
       "Index(['Company_name', 'Rating', 'Location', 'Job_title', 'Description',\n",
       "       'Salary', 'Job_age', 'Easy_apply', 'Employees', 'Type_of_ownership',\n",
       "       'Sector', 'Founded', 'Industry', 'Revenue_USD', 'Friend_recommend',\n",
       "       'CEO_approval', 'Career_opportunities', 'Comp_&_benefits',\n",
       "       'Culture_&_values', 'Senior_management', 'Work/Life_balance', 'Pros',\n",
       "       'Cons', 'Benefits_rating', 'Benefits_reviews'],\n",
       "      dtype='object')"
      ]
     },
     "execution_count": 578,
     "metadata": {},
     "output_type": "execute_result"
    }
   ],
   "source": [
    "df.columns"
   ]
  },
  {
   "attachments": {},
   "cell_type": "markdown",
   "metadata": {},
   "source": [
    "#### 3. Remove rows only with NaNs"
   ]
  },
  {
   "cell_type": "code",
   "execution_count": 579,
   "metadata": {},
   "outputs": [
    {
     "data": {
      "text/plain": [
       "(900, 25)"
      ]
     },
     "execution_count": 579,
     "metadata": {},
     "output_type": "execute_result"
    }
   ],
   "source": [
    "df = df.dropna(how='all')\n",
    "df.shape"
   ]
  },
  {
   "attachments": {},
   "cell_type": "markdown",
   "metadata": {},
   "source": [
    "There is no empty rows"
   ]
  },
  {
   "attachments": {},
   "cell_type": "markdown",
   "metadata": {},
   "source": [
    "#### 4. Remove duplicates"
   ]
  },
  {
   "cell_type": "code",
   "execution_count": 580,
   "metadata": {},
   "outputs": [
    {
     "data": {
      "text/plain": [
       "(220, 25)"
      ]
     },
     "execution_count": 580,
     "metadata": {},
     "output_type": "execute_result"
    }
   ],
   "source": [
    "df = df.drop_duplicates()\n",
    "df.shape"
   ]
  },
  {
   "attachments": {},
   "cell_type": "markdown",
   "metadata": {},
   "source": [
    "There is huge amount of duplicates. But this is the feature of glassdoor"
   ]
  },
  {
   "attachments": {},
   "cell_type": "markdown",
   "metadata": {},
   "source": [
    "#### 5. Remove empty columns"
   ]
  },
  {
   "cell_type": "code",
   "execution_count": 581,
   "metadata": {},
   "outputs": [
    {
     "data": {
      "text/plain": [
       "(220, 25)"
      ]
     },
     "execution_count": 581,
     "metadata": {},
     "output_type": "execute_result"
    }
   ],
   "source": [
    "df = df.dropna(axis=1, how='all')\n",
    "df.shape"
   ]
  },
  {
   "attachments": {},
   "cell_type": "markdown",
   "metadata": {},
   "source": [
    "There is no empty columns"
   ]
  },
  {
   "attachments": {},
   "cell_type": "markdown",
   "metadata": {},
   "source": [
    "#### 6. Now we will split `Location` column into `State` and `City`."
   ]
  },
  {
   "cell_type": "code",
   "execution_count": 582,
   "metadata": {},
   "outputs": [
    {
     "data": {
      "text/plain": [
       "0    Santa Clara, CA\n",
       "1       Dearborn, MI\n",
       "2    Santa Clara, CA\n",
       "3         Newton, MS\n",
       "4             Remote\n",
       "Name: Location, dtype: object"
      ]
     },
     "execution_count": 582,
     "metadata": {},
     "output_type": "execute_result"
    }
   ],
   "source": [
    "df['Location'].head()"
   ]
  },
  {
   "cell_type": "code",
   "execution_count": 583,
   "metadata": {},
   "outputs": [
    {
     "data": {
      "text/plain": [
       "0    Santa Clara\n",
       "1       Dearborn\n",
       "2    Santa Clara\n",
       "3         Newton\n",
       "4         Remote\n",
       "Name: City, dtype: object"
      ]
     },
     "execution_count": 583,
     "metadata": {},
     "output_type": "execute_result"
    }
   ],
   "source": [
    "df['City'] = df['Location'].apply(lambda x: x.split(',')[0] if \",\" in x else x)\n",
    "df['City'].head()"
   ]
  },
  {
   "cell_type": "code",
   "execution_count": 584,
   "metadata": {},
   "outputs": [
    {
     "data": {
      "text/plain": [
       "0        CA\n",
       "1        MI\n",
       "2        CA\n",
       "3        MS\n",
       "4    Remote\n",
       "Name: State, dtype: object"
      ]
     },
     "execution_count": 584,
     "metadata": {},
     "output_type": "execute_result"
    }
   ],
   "source": [
    "df['State'] = df['Location'].apply(lambda x: x.split(',')[1] if \",\" in x else x)\n",
    "df['State'].head()"
   ]
  },
  {
   "cell_type": "code",
   "execution_count": 585,
   "metadata": {},
   "outputs": [],
   "source": [
    "# Cleanup\n",
    "del df['Location']"
   ]
  },
  {
   "attachments": {},
   "cell_type": "markdown",
   "metadata": {},
   "source": [
    "#### 7. Add job title seniority"
   ]
  },
  {
   "cell_type": "code",
   "execution_count": 586,
   "metadata": {},
   "outputs": [
    {
     "data": {
      "text/plain": [
       "array(['Data Engineer', 'Data Engineer - Terraform',\n",
       "       'Snowflake Data Engineer', 'Data Engineer (MDM)',\n",
       "       'AWS Data Engineer', 'DATA ENGINEER', 'Big Data Engineer',\n",
       "       'Sr. Data Engineer', 'Data Engineer - Flink', 'Jr. Data Engineer',\n",
       "       'Data Engineer - Remote', 'Data Engineer (L5)',\n",
       "       'Software Data Engineer', 'GCP Data Engineer',\n",
       "       'Senior Data Engineer', 'Azure Cloud Data Engineer',\n",
       "       'GCP DATA ENGINEER', 'Data Test Engineer', 'Azure Data Engineer',\n",
       "       'Senior Azure Data Bricks Engineer', 'Data Analytics Engineer',\n",
       "       'Data Engineer (W2 and onsite)', 'Senior Big Data Engineer',\n",
       "       'Data Engineer- Google Cloud',\n",
       "       'Data Engineer (ETL & System Administration concentration)',\n",
       "       'Data Engineer/Data Analyst', 'Data Engineer/Data Scientist',\n",
       "       'ETL Data Engineer', 'Lead Data Engineer',\n",
       "       'Sr. Data Engineer with Snowflake', 'Junior Data Engineer',\n",
       "       'Senior Data Engineer - Remote', 'Data Engineer Level 3',\n",
       "       'Cloud Data Engineer (Azure)', 'Senior Software Engineer, Data',\n",
       "       'Technical Support Engineer (L5) - Data Platform, Big Data / Analytics',\n",
       "       'Full Stack Data Engineer', 'Data Engineer IC4 - US ONLY',\n",
       "       'Data Engineer I',\n",
       "       'Senior Health Data and Interoperability Engineer',\n",
       "       'Azure Data Warehouse Engineer', 'Data Logging Engineer',\n",
       "       'ETL Engineer/ Data Analyst - Software Engineer III',\n",
       "       'Software Engineer III (AI, Data, Python)',\n",
       "       'Software/GCP Data Engineer (W2 only)', 'Software Engineer (Data)',\n",
       "       'Junior Big Data Engineer - C11', 'Anaplan Data Engineer',\n",
       "       'Data Software Engineer',\n",
       "       'Data Engineer (ETL & Data Catalogue Support)',\n",
       "       'Data Scientist / Data Engineer',\n",
       "       'Big Data Sytems Engineer(Hadoop)',\n",
       "       'Data Engineer - Need locals to CA', 'Data Engineer (ETL)',\n",
       "       'Python Data Engineer', 'Data engineer',\n",
       "       'Data Engineer - SnowFlake, Azure Data, Terraform',\n",
       "       'Senior Data Engineer [ Remote ]',\n",
       "       'Senior Data Engineer, Analytics', 'Cloud Data Engineer',\n",
       "       'Software Engineer, Data', 'Data Engineer 925',\n",
       "       'Senior Azure Data Engineer', 'Data Engineer ETL',\n",
       "       'Big Data Engineer, Senior'], dtype=object)"
      ]
     },
     "execution_count": 586,
     "metadata": {},
     "output_type": "execute_result"
    }
   ],
   "source": [
    "df['Job_title'].unique()"
   ]
  },
  {
   "cell_type": "code",
   "execution_count": 587,
   "metadata": {},
   "outputs": [
    {
     "data": {
      "text/plain": [
       "Senior    45\n",
       "Junior     4\n",
       "Lead       4\n",
       "Name: Seniority, dtype: int64"
      ]
     },
     "execution_count": 587,
     "metadata": {},
     "output_type": "execute_result"
    }
   ],
   "source": [
    "def get_seniority(job_title:str):\n",
    "\n",
    "    seniority = {\n",
    "        'Junior' : [\"Jr.\", \"Junior\"],\n",
    "        'Mid' : [\"Mid\", \"Middle\"],\n",
    "        'Senior': [\"Sr.\", \"Senior\"],\n",
    "        'Lead': \"Lead\",\n",
    "        'Principle' : \"Principle\"\n",
    "    }\n",
    "    \n",
    "    if seniority['Junior'][0] in job_title or seniority['Junior'][1] in job_title :\n",
    "        return \"Junior\"\n",
    "    elif seniority['Mid'][0] in job_title or seniority['Mid'][1] in job_title :\n",
    "        return \"Mid\"\n",
    "    elif seniority['Senior'][0] in job_title or seniority['Senior'][1] in job_title :\n",
    "        return \"Senior\"\n",
    "    elif seniority['Lead'] in job_title:\n",
    "        return \"Lead\"\n",
    "    elif seniority['Principle'] in job_title:\n",
    "        return \"Principle\"\n",
    "    else:\n",
    "        return np.nan\n",
    "    \n",
    "df['Seniority'] = df['Job_title'].apply(get_seniority)\n",
    "\n",
    "del get_seniority\n",
    "\n",
    "df['Seniority'].value_counts()"
   ]
  },
  {
   "attachments": {},
   "cell_type": "markdown",
   "metadata": {},
   "source": [
    "Add non-standard seniority"
   ]
  },
  {
   "cell_type": "code",
   "execution_count": 588,
   "metadata": {},
   "outputs": [
    {
     "data": {
      "text/plain": [
       "Senior    50\n",
       "Lead       5\n",
       "Junior     4\n",
       "Mid        1\n",
       "Name: Seniority, dtype: int64"
      ]
     },
     "execution_count": 588,
     "metadata": {},
     "output_type": "execute_result"
    }
   ],
   "source": [
    "def apply_seniority_level(df, job_title, company_name, seniority_level):\n",
    "    df['Seniority'] = df.apply(\n",
    "        lambda row: seniority_level if row['Job_title'] == job_title and row['Company_name'] == company_name else row['Seniority'],\n",
    "        axis=1\n",
    "    )\n",
    "\n",
    "apply_seniority_level(df, \"Data Engineer (L5)\", \"Netflix\", \"Senior\")\n",
    "apply_seniority_level(df, \"Technical Support Engineer (L5) - Data Platform, Big Data / Analytics\", \"Netflix\", \"Senior\")\n",
    "apply_seniority_level(df, \"Data Engineer Level 3\", \"Infoorigin Inc\", \"Mid\")\n",
    "apply_seniority_level(df, \"Data Engineer IC4 - US ONLY\", \"Braintrust\", \"Lead\")\n",
    "apply_seniority_level(df, \"ETL Engineer/ Data Analyst - Software Engineer III\", \"JPMorgan Chase Bank, N.A.\", \"Senior\")\n",
    "apply_seniority_level(df, \"Software Engineer III (AI, Data, Python)\", \"JPMorgan Chase Bank, N.A.\", \"Senior\")\n",
    "apply_seniority_level(df, \"Data Engineer 925\", \"Certec Consulting\", \"Senior\")\n",
    "\n",
    "del apply_seniority_level\n",
    "\n",
    "df['Seniority'].value_counts()\n"
   ]
  },
  {
   "attachments": {},
   "cell_type": "markdown",
   "metadata": {},
   "source": [
    "#### 8. Parse salary"
   ]
  },
  {
   "attachments": {},
   "cell_type": "markdown",
   "metadata": {},
   "source": [
    "##### 8.1 Employer provided salary"
   ]
  },
  {
   "cell_type": "code",
   "execution_count": 589,
   "metadata": {},
   "outputs": [
    {
     "data": {
      "text/plain": [
       "True     128\n",
       "False     92\n",
       "Name: Salary_employer_provided, dtype: int64"
      ]
     },
     "execution_count": 589,
     "metadata": {},
     "output_type": "execute_result"
    }
   ],
   "source": [
    "df['Salary_employer_provided'] = df['Salary'].apply(lambda salary : True if isinstance(salary, str) and \"Employer Provided Salary\" in salary else False)\n",
    "df['Salary_employer_provided'].value_counts()"
   ]
  },
  {
   "attachments": {},
   "cell_type": "markdown",
   "metadata": {},
   "source": [
    "#### 8.2 Salary per hour"
   ]
  },
  {
   "cell_type": "code",
   "execution_count": 590,
   "metadata": {},
   "outputs": [
    {
     "data": {
      "text/plain": [
       "False    139\n",
       "True      81\n",
       "Name: Salary_hourly, dtype: int64"
      ]
     },
     "execution_count": 590,
     "metadata": {},
     "output_type": "execute_result"
    }
   ],
   "source": [
    "df['Salary_hourly'] = df['Salary'].apply(lambda salary : True if isinstance(salary, str) and \"Per Hour\" in salary else False)\n",
    "df['Salary_hourly'].value_counts()"
   ]
  },
  {
   "attachments": {},
   "cell_type": "markdown",
   "metadata": {},
   "source": [
    "#### 8.3 Salary min"
   ]
  },
  {
   "cell_type": "code",
   "execution_count": 591,
   "metadata": {},
   "outputs": [
    {
     "data": {
      "text/plain": [
       "0      141440.0\n",
       "1       63000.0\n",
       "2      187200.0\n",
       "3       83200.0\n",
       "4      135200.0\n",
       "         ...   \n",
       "624         NaN\n",
       "755         NaN\n",
       "778     81000.0\n",
       "825    120640.0\n",
       "895         NaN\n",
       "Name: Salary_min, Length: 220, dtype: float64"
      ]
     },
     "execution_count": 591,
     "metadata": {},
     "output_type": "execute_result"
    }
   ],
   "source": [
    "def get_salary_min(salary):\n",
    "\n",
    "    if isinstance(salary, str):\n",
    "\n",
    "        pattern_salary = r\"(\\d+(\\.\\d+)?K?)\"\n",
    "        match_min: str = re.findall(pattern_salary, salary)[0][0]\n",
    "\n",
    "        if \"K\" in match_min:\n",
    "            match_min = float(match_min.replace(\"K\", \"\"))\n",
    "            match_min *= 1000\n",
    "\n",
    "        return float(match_min)\n",
    "\n",
    "    else:\n",
    "\n",
    "        return salary\n",
    "    \n",
    "def calculate_yearly_income(hourly_rate):\n",
    "\n",
    "    hours_per_week = 40\n",
    "    WEEKS_PER_YEAR = 52\n",
    "    HOURS_PER_YEAR = WEEKS_PER_YEAR * hours_per_week\n",
    "    gross_income = hourly_rate * HOURS_PER_YEAR\n",
    "    return gross_income\n",
    "\n",
    "df['Salary_min'] = df['Salary'].apply(get_salary_min)\n",
    "df['Salary_min'] = df.apply(\n",
    "        lambda row: calculate_yearly_income(row['Salary_min']) if row['Salary_hourly'] == True else row['Salary_min'],\n",
    "        axis=1\n",
    "    )\n",
    "\n",
    "del get_salary_min\n",
    "\n",
    "df['Salary_min']"
   ]
  },
  {
   "attachments": {},
   "cell_type": "markdown",
   "metadata": {},
   "source": [
    "#### 8.4 Salary max"
   ]
  },
  {
   "cell_type": "code",
   "execution_count": 592,
   "metadata": {},
   "outputs": [
    {
     "data": {
      "text/plain": [
       "0      141440.0\n",
       "1       90000.0\n",
       "2      197600.0\n",
       "3       93600.0\n",
       "4      145600.0\n",
       "         ...   \n",
       "624         NaN\n",
       "755         NaN\n",
       "778    115000.0\n",
       "825    131040.0\n",
       "895         NaN\n",
       "Name: Salary_max, Length: 220, dtype: float64"
      ]
     },
     "execution_count": 592,
     "metadata": {},
     "output_type": "execute_result"
    }
   ],
   "source": [
    "def get_salary_max(salary):\n",
    "\n",
    "    if isinstance(salary, str):\n",
    "\n",
    "        pattern_salary = r\"(\\d+(\\.\\d+)?K?)\"\n",
    "        match_max: str = re.findall(pattern_salary, salary)[-1][0]\n",
    "\n",
    "        if \"K\" in match_max:\n",
    "            match_max = float(match_max.replace(\"K\", \"\"))\n",
    "            match_max *= 1000\n",
    "\n",
    "        return float(match_max)\n",
    "\n",
    "    else:\n",
    "\n",
    "        return salary\n",
    "\n",
    "df['Salary_max'] = df['Salary'].apply(get_salary_max)\n",
    "df['Salary_max'] = df.apply(\n",
    "        lambda row: calculate_yearly_income(row['Salary_max']) if row['Salary_hourly'] == True else row['Salary_max'],\n",
    "        axis=1\n",
    "    )\n",
    "\n",
    "del get_salary_max\n",
    "\n",
    "df['Salary_max']"
   ]
  },
  {
   "cell_type": "code",
   "execution_count": 593,
   "metadata": {},
   "outputs": [],
   "source": [
    "# Cleanup\n",
    "\n",
    "del calculate_yearly_income"
   ]
  },
  {
   "attachments": {},
   "cell_type": "markdown",
   "metadata": {},
   "source": [
    "#### 8.5 Salary currency "
   ]
  },
  {
   "cell_type": "code",
   "execution_count": 594,
   "metadata": {},
   "outputs": [
    {
     "data": {
      "text/plain": [
       "$    199\n",
       "Name: Salary_currency, dtype: int64"
      ]
     },
     "execution_count": 594,
     "metadata": {},
     "output_type": "execute_result"
    }
   ],
   "source": [
    "def get_currency(salary: str):\n",
    "\n",
    "    if isinstance(salary, str):\n",
    "\n",
    "        pattern_currency = r\"(.+?(?=\\d))\"\n",
    "\n",
    "        if \"Employer Provided Salary\" in salary:\n",
    "            pattern_currency = r\"(\\:.+?(?=\\d))\"\n",
    "\n",
    "        matched = re.search(pattern_currency, salary)\n",
    "\n",
    "        currency = matched.group(1).strip().replace(\":\", \"\")\n",
    "\n",
    "        return currency\n",
    "\n",
    "    else:\n",
    "\n",
    "        return salary\n",
    "    \n",
    "df['Salary_currency'] = df['Salary'].apply(get_currency)\n",
    "    \n",
    "del get_currency\n",
    "    \n",
    "df['Salary_currency'].value_counts()"
   ]
  },
  {
   "cell_type": "code",
   "execution_count": 595,
   "metadata": {},
   "outputs": [],
   "source": [
    "del df['Salary']"
   ]
  },
  {
   "attachments": {},
   "cell_type": "markdown",
   "metadata": {},
   "source": [
    "#### 8.6 Salary average"
   ]
  },
  {
   "cell_type": "code",
   "execution_count": 596,
   "metadata": {},
   "outputs": [
    {
     "data": {
      "text/plain": [
       "0      141440.0\n",
       "1       76500.0\n",
       "2      192400.0\n",
       "3       88400.0\n",
       "4      140400.0\n",
       "         ...   \n",
       "624         NaN\n",
       "755         NaN\n",
       "778     98000.0\n",
       "825    125840.0\n",
       "895         NaN\n",
       "Name: Salary_avg, Length: 220, dtype: float64"
      ]
     },
     "execution_count": 596,
     "metadata": {},
     "output_type": "execute_result"
    }
   ],
   "source": [
    "df['Salary_avg'] = (df['Salary_max']+df['Salary_min'])/2\n",
    "df['Salary_avg']"
   ]
  },
  {
   "attachments": {},
   "cell_type": "markdown",
   "metadata": {},
   "source": [
    "#### 9. Employees"
   ]
  },
  {
   "cell_type": "code",
   "execution_count": 597,
   "metadata": {},
   "outputs": [
    {
     "data": {
      "text/plain": [
       "1 to 50          56\n",
       "51 to 200        50\n",
       "10000+           23\n",
       "1001 to 5000     20\n",
       "201 to 500       15\n",
       "501 to 1000      10\n",
       "5001 to 10000     4\n",
       "Name: Employees, dtype: int64"
      ]
     },
     "execution_count": 597,
     "metadata": {},
     "output_type": "execute_result"
    }
   ],
   "source": [
    "df['Employees'].value_counts()"
   ]
  },
  {
   "attachments": {},
   "cell_type": "markdown",
   "metadata": {},
   "source": [
    "#### 10. Type of ownership"
   ]
  },
  {
   "cell_type": "code",
   "execution_count": 598,
   "metadata": {},
   "outputs": [
    {
     "data": {
      "text/plain": [
       "Company - Private                 119\n",
       "Company - Public                   57\n",
       "Nonprofit Organization              7\n",
       "Contract                            5\n",
       "Subsidiary or Business Segment      4\n",
       "Self-employed                       2\n",
       "Private Practice / Firm             2\n",
       "Name: Type_of_ownership, dtype: int64"
      ]
     },
     "execution_count": 598,
     "metadata": {},
     "output_type": "execute_result"
    }
   ],
   "source": [
    "df['Type_of_ownership'].value_counts()"
   ]
  },
  {
   "attachments": {},
   "cell_type": "markdown",
   "metadata": {},
   "source": [
    "#### 11. Sector"
   ]
  },
  {
   "cell_type": "code",
   "execution_count": 599,
   "metadata": {},
   "outputs": [
    {
     "data": {
      "text/plain": [
       "Information Technology                         77\n",
       "Financial Services                             16\n",
       "Human Resources & Staffing                      7\n",
       "Management & Consulting                         7\n",
       "Insurance                                       5\n",
       "Manufacturing                                   5\n",
       "Education                                       4\n",
       "Healthcare                                      4\n",
       "Energy, Mining & Utilities                      4\n",
       "Media & Communication                           3\n",
       "Pharmaceutical & Biotechnology                  3\n",
       "Retail & Wholesale                              2\n",
       "Nonprofit & NGO                                 1\n",
       "Agriculture                                     1\n",
       "Transportation & Logistics                      1\n",
       "Arts, Entertainment & Recreation                1\n",
       "Personal Consumer Services                      1\n",
       "Aerospace & Defense                             1\n",
       "Construction, Repair & Maintenance Services     1\n",
       "Name: Sector, dtype: int64"
      ]
     },
     "execution_count": 599,
     "metadata": {},
     "output_type": "execute_result"
    }
   ],
   "source": [
    "df['Sector'].value_counts()"
   ]
  },
  {
   "attachments": {},
   "cell_type": "markdown",
   "metadata": {},
   "source": [
    "#### 12. Industry"
   ]
  },
  {
   "cell_type": "code",
   "execution_count": 600,
   "metadata": {},
   "outputs": [
    {
     "data": {
      "text/plain": [
       "Information Technology Support Services    49\n",
       "Computer Hardware Development              10\n",
       "Enterprise Software & Network Solutions     9\n",
       "Business Consulting                         7\n",
       "Banking & Lending                           6\n",
       "Internet & Web Services                     6\n",
       "Investment & Asset Management               5\n",
       "Insurance Carriers                          5\n",
       "HR Consulting                               5\n",
       "Health Care Services & Hospitals            4\n",
       "Energy & Utilities                          4\n",
       "Financial Transaction Processing            3\n",
       "Software Development                        3\n",
       "Biotech & Pharmaceuticals                   3\n",
       "Education & Training Services               3\n",
       "Accounting & Tax                            2\n",
       "Advertising & Public Relations              2\n",
       "Staffing & Subcontracting                   2\n",
       "Commercial Printing                         2\n",
       "Wholesale                                   1\n",
       "Construction                                1\n",
       "Aerospace & Defense                         1\n",
       "Beauty & Wellness                           1\n",
       "Sports & Recreation                         1\n",
       "Consumer Product Manufacturing              1\n",
       "Video Game Publishing                       1\n",
       "Car & Truck Rental                          1\n",
       "Food & Beverage Manufacturing               1\n",
       "Crop Production                             1\n",
       "Civic & Social Services                     1\n",
       "Automotive Parts & Accessories Stores       1\n",
       "Primary & Secondary Schools                 1\n",
       "Machinery Manufacturing                     1\n",
       "Name: Industry, dtype: int64"
      ]
     },
     "execution_count": 600,
     "metadata": {},
     "output_type": "execute_result"
    }
   ],
   "source": [
    "df['Industry'].value_counts()"
   ]
  },
  {
   "attachments": {},
   "cell_type": "markdown",
   "metadata": {},
   "source": [
    "#### 13. Company age"
   ]
  },
  {
   "cell_type": "code",
   "execution_count": 601,
   "metadata": {},
   "outputs": [
    {
     "data": {
      "text/plain": [
       "16.0     8\n",
       "15.0     8\n",
       "8.0      7\n",
       "10.0     6\n",
       "5.0      5\n",
       "39.0     5\n",
       "9.0      5\n",
       "7.0      5\n",
       "24.0     5\n",
       "27.0     4\n",
       "12.0     4\n",
       "19.0     4\n",
       "20.0     4\n",
       "4.0      3\n",
       "17.0     3\n",
       "25.0     3\n",
       "85.0     3\n",
       "26.0     3\n",
       "6.0      2\n",
       "11.0     2\n",
       "224.0    2\n",
       "14.0     2\n",
       "18.0     2\n",
       "41.0     2\n",
       "13.0     2\n",
       "53.0     1\n",
       "239.0    1\n",
       "76.0     1\n",
       "160.0    1\n",
       "50.0     1\n",
       "122.0    1\n",
       "47.0     1\n",
       "35.0     1\n",
       "81.0     1\n",
       "22.0     1\n",
       "128.0    1\n",
       "211.0    1\n",
       "170.0    1\n",
       "23.0     1\n",
       "171.0    1\n",
       "158.0    1\n",
       "52.0     1\n",
       "97.0     1\n",
       "89.0     1\n",
       "54.0     1\n",
       "77.0     1\n",
       "37.0     1\n",
       "28.0     1\n",
       "106.0    1\n",
       "173.0    1\n",
       "29.0     1\n",
       "3.0      1\n",
       "Name: Company_age, dtype: int64"
      ]
     },
     "execution_count": 601,
     "metadata": {},
     "output_type": "execute_result"
    }
   ],
   "source": [
    "import datetime\n",
    "\n",
    "year = datetime.date.today().year\n",
    "\n",
    "df['Company_age'] = df['Founded'].apply(lambda x: x if np.isnan(x) else int(year - x))\n",
    "df['Company_age'] = df['Company_age']\n",
    "\n",
    "del df['Founded'], year\n",
    "\n",
    "df['Company_age'].value_counts()"
   ]
  },
  {
   "attachments": {},
   "cell_type": "markdown",
   "metadata": {},
   "source": [
    "#### 14. Job age"
   ]
  },
  {
   "cell_type": "code",
   "execution_count": 602,
   "metadata": {},
   "outputs": [
    {
     "data": {
      "text/plain": [
       "array(['10d', '11d', '12d', '13d', '14d', '16d', '17d', '18d', '19d',\n",
       "       '20d', '22d', '24d', '24h', '25d', '26d', '28d', '2d', '30d+',\n",
       "       '3d', '4d', '5d', '6d', '7d', '9d'], dtype=object)"
      ]
     },
     "execution_count": 602,
     "metadata": {},
     "output_type": "execute_result"
    }
   ],
   "source": [
    "np.sort(df['Job_age'].unique())"
   ]
  },
  {
   "cell_type": "code",
   "execution_count": 603,
   "metadata": {},
   "outputs": [
    {
     "data": {
      "text/plain": [
       "31    91\n",
       "1     18\n",
       "3     14\n",
       "12    14\n",
       "6     13\n",
       "13     9\n",
       "2      9\n",
       "5      8\n",
       "4      7\n",
       "18     6\n",
       "10     5\n",
       "24     4\n",
       "17     4\n",
       "20     3\n",
       "19     2\n",
       "9      2\n",
       "7      2\n",
       "25     2\n",
       "14     2\n",
       "16     1\n",
       "28     1\n",
       "11     1\n",
       "22     1\n",
       "26     1\n",
       "Name: Job_age, dtype: int64"
      ]
     },
     "execution_count": 603,
     "metadata": {},
     "output_type": "execute_result"
    }
   ],
   "source": [
    "def clean_job_age(job_age):\n",
    "\n",
    "    if job_age == \"24h\":\n",
    "        job_age = \"1d\"\n",
    "    elif job_age == \"30d+\":\n",
    "        job_age = \"31d\"\n",
    "\n",
    "    return int(job_age.replace(\"d\", \"\"))\n",
    "\n",
    "df['Job_age'] = df['Job_age'].apply(clean_job_age)\n",
    "\n",
    "del clean_job_age\n",
    "df['Job_age'].value_counts()\n"
   ]
  },
  {
   "attachments": {},
   "cell_type": "markdown",
   "metadata": {},
   "source": [
    "#### 15. Revenue"
   ]
  },
  {
   "cell_type": "code",
   "execution_count": 604,
   "metadata": {},
   "outputs": [
    {
     "data": {
      "text/plain": [
       "$5 to $25 million             23\n",
       "$10+ billion                  17\n",
       "$25 to $100 million           16\n",
       "$1 to $5 million              15\n",
       "Less than $1 million           9\n",
       "$100 to $500 million           8\n",
       "$1 to $5 billion               7\n",
       "$5 to $10 billion              5\n",
       "$500 million to $1 billion     4\n",
       "Name: Revenue_USD, dtype: int64"
      ]
     },
     "execution_count": 604,
     "metadata": {},
     "output_type": "execute_result"
    }
   ],
   "source": [
    "df['Revenue_USD'].value_counts()"
   ]
  },
  {
   "attachments": {},
   "cell_type": "markdown",
   "metadata": {},
   "source": [
    "#### 16. Fin preview"
   ]
  },
  {
   "cell_type": "code",
   "execution_count": 605,
   "metadata": {},
   "outputs": [
    {
     "data": {
      "text/plain": [
       "Company_name                 object\n",
       "Rating                      float64\n",
       "Job_title                    object\n",
       "Description                  object\n",
       "Job_age                       int64\n",
       "Easy_apply                     bool\n",
       "Employees                    object\n",
       "Type_of_ownership            object\n",
       "Sector                       object\n",
       "Industry                     object\n",
       "Revenue_USD                  object\n",
       "Friend_recommend            float64\n",
       "CEO_approval                float64\n",
       "Career_opportunities        float64\n",
       "Comp_&_benefits             float64\n",
       "Culture_&_values            float64\n",
       "Senior_management           float64\n",
       "Work/Life_balance           float64\n",
       "Pros                         object\n",
       "Cons                         object\n",
       "Benefits_rating             float64\n",
       "Benefits_reviews             object\n",
       "City                         object\n",
       "State                        object\n",
       "Seniority                    object\n",
       "Salary_employer_provided       bool\n",
       "Salary_hourly                  bool\n",
       "Salary_min                  float64\n",
       "Salary_max                  float64\n",
       "Salary_currency              object\n",
       "Salary_avg                  float64\n",
       "Company_age                 float64\n",
       "dtype: object"
      ]
     },
     "execution_count": 605,
     "metadata": {},
     "output_type": "execute_result"
    }
   ],
   "source": [
    "df.dtypes"
   ]
  },
  {
   "attachments": {},
   "cell_type": "markdown",
   "metadata": {},
   "source": [
    "#### 17. Change the order to more comfy"
   ]
  },
  {
   "attachments": {},
   "cell_type": "markdown",
   "metadata": {},
   "source": [
    "17.1 move salary values"
   ]
  },
  {
   "cell_type": "code",
   "execution_count": 606,
   "metadata": {},
   "outputs": [
    {
     "data": {
      "text/plain": [
       "Company_name                 object\n",
       "Rating                      float64\n",
       "Job_title                    object\n",
       "Salary_min                  float64\n",
       "Salary_max                  float64\n",
       "Salary_avg                  float64\n",
       "Salary_currency              object\n",
       "Salary_employer_provided       bool\n",
       "Salary_hourly                  bool\n",
       "Description                  object\n",
       "Job_age                       int64\n",
       "Easy_apply                     bool\n",
       "Employees                    object\n",
       "Type_of_ownership            object\n",
       "Sector                       object\n",
       "Industry                     object\n",
       "Revenue_USD                  object\n",
       "Friend_recommend            float64\n",
       "CEO_approval                float64\n",
       "Career_opportunities        float64\n",
       "Comp_&_benefits             float64\n",
       "Culture_&_values            float64\n",
       "Senior_management           float64\n",
       "Work/Life_balance           float64\n",
       "Pros                         object\n",
       "Cons                         object\n",
       "Benefits_rating             float64\n",
       "Benefits_reviews             object\n",
       "City                         object\n",
       "State                        object\n",
       "Seniority                    object\n",
       "Company_age                 float64\n",
       "dtype: object"
      ]
     },
     "execution_count": 606,
     "metadata": {},
     "output_type": "execute_result"
    }
   ],
   "source": [
    "def move_column__to_index(column_name: str, index: int):\n",
    "    df.insert(index, column_name, df.pop(column_name))\n",
    "\n",
    "\n",
    "def move_columns_to_index(column_names: list[str], index: int):\n",
    "    for col in column_names:\n",
    "        df.insert(index, col, df.pop(col))\n",
    "        index += 1\n",
    "\n",
    "move_columns_to_index([\n",
    "    'Salary_min', \n",
    "    'Salary_max', \n",
    "    'Salary_avg', \n",
    "    'Salary_currency',\n",
    "    'Salary_employer_provided', \n",
    "    'Salary_hourly'\n",
    "    ], 3\n",
    "    )\n",
    "\n",
    "df.dtypes"
   ]
  },
  {
   "attachments": {},
   "cell_type": "markdown",
   "metadata": {},
   "source": [
    "17.2 Move Seniority"
   ]
  },
  {
   "cell_type": "code",
   "execution_count": 607,
   "metadata": {},
   "outputs": [
    {
     "data": {
      "text/plain": [
       "Company_name                 object\n",
       "Rating                      float64\n",
       "Job_title                    object\n",
       "Seniority                    object\n",
       "Salary_min                  float64\n",
       "Salary_max                  float64\n",
       "Salary_avg                  float64\n",
       "Salary_currency              object\n",
       "Salary_employer_provided       bool\n",
       "Salary_hourly                  bool\n",
       "Description                  object\n",
       "Job_age                       int64\n",
       "Easy_apply                     bool\n",
       "Employees                    object\n",
       "Type_of_ownership            object\n",
       "Sector                       object\n",
       "Industry                     object\n",
       "Revenue_USD                  object\n",
       "Friend_recommend            float64\n",
       "CEO_approval                float64\n",
       "Career_opportunities        float64\n",
       "Comp_&_benefits             float64\n",
       "Culture_&_values            float64\n",
       "Senior_management           float64\n",
       "Work/Life_balance           float64\n",
       "Pros                         object\n",
       "Cons                         object\n",
       "Benefits_rating             float64\n",
       "Benefits_reviews             object\n",
       "City                         object\n",
       "State                        object\n",
       "Company_age                 float64\n",
       "dtype: object"
      ]
     },
     "execution_count": 607,
     "metadata": {},
     "output_type": "execute_result"
    }
   ],
   "source": [
    "move_column__to_index('Seniority', 3)\n",
    "df.dtypes"
   ]
  },
  {
   "attachments": {},
   "cell_type": "markdown",
   "metadata": {},
   "source": [
    "17.3 Move City, State"
   ]
  },
  {
   "cell_type": "code",
   "execution_count": 608,
   "metadata": {},
   "outputs": [
    {
     "data": {
      "text/plain": [
       "Company_name                 object\n",
       "Rating                      float64\n",
       "Job_title                    object\n",
       "Seniority                    object\n",
       "Salary_min                  float64\n",
       "Salary_max                  float64\n",
       "Salary_avg                  float64\n",
       "Salary_currency              object\n",
       "Salary_employer_provided       bool\n",
       "Salary_hourly                  bool\n",
       "Description                  object\n",
       "City                         object\n",
       "State                        object\n",
       "Job_age                       int64\n",
       "Easy_apply                     bool\n",
       "Employees                    object\n",
       "Type_of_ownership            object\n",
       "Sector                       object\n",
       "Industry                     object\n",
       "Revenue_USD                  object\n",
       "Friend_recommend            float64\n",
       "CEO_approval                float64\n",
       "Career_opportunities        float64\n",
       "Comp_&_benefits             float64\n",
       "Culture_&_values            float64\n",
       "Senior_management           float64\n",
       "Work/Life_balance           float64\n",
       "Pros                         object\n",
       "Cons                         object\n",
       "Benefits_rating             float64\n",
       "Benefits_reviews             object\n",
       "Company_age                 float64\n",
       "dtype: object"
      ]
     },
     "execution_count": 608,
     "metadata": {},
     "output_type": "execute_result"
    }
   ],
   "source": [
    "move_columns_to_index(['City', 'State'], 11)\n",
    "df.dtypes"
   ]
  },
  {
   "attachments": {},
   "cell_type": "markdown",
   "metadata": {},
   "source": [
    "17.4 Move Company age"
   ]
  },
  {
   "cell_type": "code",
   "execution_count": 609,
   "metadata": {},
   "outputs": [
    {
     "data": {
      "text/plain": [
       "Company_name                 object\n",
       "Rating                      float64\n",
       "Job_title                    object\n",
       "Seniority                    object\n",
       "Salary_min                  float64\n",
       "Salary_max                  float64\n",
       "Salary_avg                  float64\n",
       "Salary_currency              object\n",
       "Salary_employer_provided       bool\n",
       "Salary_hourly                  bool\n",
       "Description                  object\n",
       "City                         object\n",
       "State                        object\n",
       "Job_age                       int64\n",
       "Easy_apply                     bool\n",
       "Employees                    object\n",
       "Type_of_ownership            object\n",
       "Sector                       object\n",
       "Industry                     object\n",
       "Company_age                 float64\n",
       "Revenue_USD                  object\n",
       "Friend_recommend            float64\n",
       "CEO_approval                float64\n",
       "Career_opportunities        float64\n",
       "Comp_&_benefits             float64\n",
       "Culture_&_values            float64\n",
       "Senior_management           float64\n",
       "Work/Life_balance           float64\n",
       "Pros                         object\n",
       "Cons                         object\n",
       "Benefits_rating             float64\n",
       "Benefits_reviews             object\n",
       "dtype: object"
      ]
     },
     "execution_count": 609,
     "metadata": {},
     "output_type": "execute_result"
    }
   ],
   "source": [
    "move_column__to_index('Company_age', 19)\n",
    "df.dtypes"
   ]
  },
  {
   "attachments": {},
   "cell_type": "markdown",
   "metadata": {},
   "source": [
    "17.5 Move Work/Life_balance "
   ]
  },
  {
   "cell_type": "code",
   "execution_count": 610,
   "metadata": {},
   "outputs": [
    {
     "data": {
      "text/plain": [
       "Company_name                 object\n",
       "Rating                      float64\n",
       "Job_title                    object\n",
       "Seniority                    object\n",
       "Salary_min                  float64\n",
       "Salary_max                  float64\n",
       "Salary_avg                  float64\n",
       "Salary_currency              object\n",
       "Salary_employer_provided       bool\n",
       "Salary_hourly                  bool\n",
       "Description                  object\n",
       "City                         object\n",
       "State                        object\n",
       "Job_age                       int64\n",
       "Easy_apply                     bool\n",
       "Employees                    object\n",
       "Type_of_ownership            object\n",
       "Sector                       object\n",
       "Industry                     object\n",
       "Company_age                 float64\n",
       "Revenue_USD                  object\n",
       "Friend_recommend            float64\n",
       "CEO_approval                float64\n",
       "Career_opportunities        float64\n",
       "Comp_&_benefits             float64\n",
       "Senior_management           float64\n",
       "Work/Life_balance           float64\n",
       "Culture_&_values            float64\n",
       "Pros                         object\n",
       "Cons                         object\n",
       "Benefits_rating             float64\n",
       "Benefits_reviews             object\n",
       "dtype: object"
      ]
     },
     "execution_count": 610,
     "metadata": {},
     "output_type": "execute_result"
    }
   ],
   "source": [
    "move_columns_to_index(['Senior_management', 'Work/Life_balance'], 25)\n",
    "df.dtypes"
   ]
  },
  {
   "attachments": {},
   "cell_type": "markdown",
   "metadata": {},
   "source": [
    "#### 18. Technology requirements"
   ]
  },
  {
   "cell_type": "code",
   "execution_count": null,
   "metadata": {},
   "outputs": [],
   "source": [
    "# todo"
   ]
  }
 ],
 "metadata": {
  "kernelspec": {
   "display_name": "Python 3",
   "language": "python",
   "name": "python3"
  },
  "language_info": {
   "codemirror_mode": {
    "name": "ipython",
    "version": 3
   },
   "file_extension": ".py",
   "mimetype": "text/x-python",
   "name": "python",
   "nbconvert_exporter": "python",
   "pygments_lexer": "ipython3",
   "version": "3.11.1"
  },
  "orig_nbformat": 4
 },
 "nbformat": 4,
 "nbformat_minor": 2
}
