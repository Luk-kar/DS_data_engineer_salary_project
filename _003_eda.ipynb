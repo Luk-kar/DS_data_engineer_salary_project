{
 "cells": [
  {
   "attachments": {},
   "cell_type": "markdown",
   "metadata": {},
   "source": [
    "## Introduction"
   ]
  },
  {
   "attachments": {},
   "cell_type": "markdown",
   "metadata": {},
   "source": [
    "![EDA_illustration](./doc/images/placeholder.png)"
   ]
  },
  {
   "attachments": {},
   "cell_type": "markdown",
   "metadata": {},
   "source": [
    "<div style=\"background-color: rgb(40, 40, 40); padding: 20px\">\n",
    "Data science is an interdisciplinary field that involves the use of statistical, computational, and machine learning techniques to extract insights and knowledge from data.\n",
    "</div>"
   ]
  },
  {
   "attachments": {},
   "cell_type": "markdown",
   "metadata": {},
   "source": [
    "<div style=\"background-color: rgb(40, 40, 40); padding: 20px\">\n",
    "Data Engineers are professionals who specialize in handling and managing large volumes of data. They write computer programs and use various tools to build data pipelines that transform raw data into a more usable format for different teams within a company, including Business Intelligence Analysts, Data Analysts, Data Scientists, Machine Learning Engineers, and Database Administrators.\n",
    "</div>"
   ]
  },
  {
   "attachments": {},
   "cell_type": "markdown",
   "metadata": {},
   "source": [
    "The goal of this project was to gather job postings for `\"Data Engineer\"` positions from www.glassdoor.com and analyze them to identify average salaries, working conditions, benefits, required skills, and trends. The data was collected between `11-04-2023` and `15-04-2023` from `32 countries`, including the USA and Canada, Europe, South East Asia, and Oceania.<br><br>The scraper utilized the Selenium package to provide the necessary client interaction to extract posting information, with a maximum cap of `900 jobs per selected country`. Due to Glassdoor's behavior, the number of job postings was often reduced from `900` to `300` or less after eliminating duplicates. Sometimes, Glassdoor listed irrelevant positions like \"Android Mobile Developer\" or \"Outside Sales Representative\" for a \"Data Engineer\" query, causing the number to drop further.<br><br>\n",
    "The final number of job entries is `3117` positions.<br>That spans countries in North America, Europe, South East Asia, and Oceania.<br><br>\n",
    "It is important to note that the data used in this analysis was obtained by separately scraping job postings for each country, which means that direct comparisons between countries may not be appropriate and the data should be interpreted with caution. Additionally, please keep in mind that there is a cap of 900 in the salary data for some countries, which may impact the accuracy of the comparison.\n",
    "<br><br>This project was inspired by [Ken Jee's work](https://github.com/PlayingNumbers), and the author would like to extend special thanks to him."
   ]
  },
  {
   "attachments": {},
   "cell_type": "markdown",
   "metadata": {},
   "source": [
    "## Table of content"
   ]
  },
  {
   "attachments": {},
   "cell_type": "markdown",
   "metadata": {},
   "source": [
    "# todo"
   ]
  },
  {
   "attachments": {},
   "cell_type": "markdown",
   "metadata": {},
   "source": [
    "## About the data"
   ]
  },
  {
   "attachments": {},
   "cell_type": "markdown",
   "metadata": {},
   "source": [
    "The whole dataset was scraped from [glassdoor.com](www.glassdoor.com)"
   ]
  },
  {
   "attachments": {},
   "cell_type": "markdown",
   "metadata": {},
   "source": [
    "<img src=\"doc\\images\\Glassdoor-Logo.png\"  width=\"60%\" height=\"60%\">"
   ]
  },
  {
   "attachments": {},
   "cell_type": "markdown",
   "metadata": {},
   "source": [
    "<div style=\"background-color: rgb(40, 40, 40); padding: 20px\">\n",
    "\"Our site offers millions of the latest job listings, combined with a growing database of company reviews, CEO approval ratings, salary reports, interview reviews and questions, benefits reviews, office photos, and more. Unlike other job sites, all of the information on our site is shared by those who know a company best - the employees.\"\n",
    "</div>"
   ]
  },
  {
   "attachments": {},
   "cell_type": "markdown",
   "metadata": {},
   "source": [
    "### Before Cleaning"
   ]
  },
  {
   "attachments": {},
   "cell_type": "markdown",
   "metadata": {},
   "source": [
    "In the RAW format, each job contains the following information:\n",
    "- Company_name\n",
    "- Rating\n",
    "- Location\n",
    "- Job_title\n",
    "- Description\n",
    "- Job_age\n",
    "- Easy_apply\n",
    "- Salary\n",
    "- Employees\n",
    "- Type_of_ownership\n",
    "- Sector\n",
    "- Founded\n",
    "- Industry\n",
    "- Revenue_USD\n",
    "- Friend_recommend\n",
    "- CEO_approval\n",
    "- Career_opportunities\n",
    "- Comp_&_benefits\n",
    "- Culture_&_values\n",
    "- Senior_management\n",
    "- Work/Life_balance\n",
    "- Pros\n",
    "- Cons\n",
    "- Benefits_rating\n",
    "- Benefits_reviews"
   ]
  },
  {
   "attachments": {},
   "cell_type": "markdown",
   "metadata": {},
   "source": [
    "### After Cleaning\n",
    "\n",
    "After cleaning and enriching data we have the following columns in multi-index:\n",
    "\n",
    "**Job_details**\n",
    "\n",
    "| columns | description (examples) | data type |\n",
    "|---|---|---|\n",
    "| Title                                             | Data Engineer, BI Engineer...                                     | string |\n",
    "| Description                                       | The description provided by company                               | string |\n",
    "| Seniority                                         | Junior, Mid, Senior, Management                                   | string |\n",
    "| City                                              | Los Angeles, e.g.                                                 | string |\n",
    "| State                                             | California, e.g.                                                  | string |\n",
    "| Country                                           | United States, e.g.                                               | string |\n",
    "| Region                                            | North America, e.g. (and Europe, South East Asia, Oceania)        | string |\n",
    "| Job_age                                           | 1 to 31 (max value, in that case it means \"31+ days\")                  |  int   |\n",
    "| Easy_apply                                        | Y/N (applying via glassdoor)                                      |  bool  |\n",
    "\n",
    "**Salary**<br>\n",
    "All float values are in USD\n",
    "| columns | description (examples) | data type |\n",
    "|---|---|---|\n",
    "| Min                                               | Minimal buck in local currency for the position in the company    | float  |\n",
    "| Max                                               | Maximal buck in local currency for the position in the company    | float  |\n",
    "| Avg                                               | The inner value between the minimal and the maximal               | float  |\n",
    "| Currency (ISO 3 letters standard)                 | The currency in which the salary is paid:<br>USD, EUR, CAD, DKK, HDK, NZD, NOK, PLN, RON, SGD, SEK, CHF, GBP   | string |\n",
    "| Employer_provided                                 | Y/N (Does the employer provide pay scale ranges)                  |  bool  |\n",
    "| Is_hourly                                         | Y/N (Paid by number of worked hours, or monthly)                  |  bool  |\n",
    "| Specified                                         | Y/N (Is or is not salary mentioned in the posting, includes also undefined)                 |  bool  |\n",
    "\n",
    "**Company_info**\n",
    "| columns | description (examples) | data type |\n",
    "|---|---|---|\n",
    "| Name                                          | The Great company Co., Ausgezeichnete Gmbh...                             | string|\n",
    "| Rating                                        | 0.0-5.0, The rating of the company                                        |  int  |\n",
    "| Employees                                     | 1 to 50, 51 to 200, 501 to 1000, 1001 to 5000, 5001 to 10000, 10000+      | string|\n",
    "| Type_of_ownership                             | Company - Private, Company - Public, Subs...                              | string|\n",
    "| Sector                                        | Information Technology, Human Resources & Staffing...                     | string|\n",
    "| Industry                                      | Information Technology Support Services, HR Consulting...                 | string|\n",
    "| Company_age                                   | 2, 12, 333... (The numbers of years in 2023)                              |  int  |\n",
    "| Revenue_USD                                   | Less than $1 million, $1 to $5 million                                    | string|\n",
    "| Friend_recommend                              | 0.00 to 1.00 (0% to 100%)                                                 | float |\n",
    "| CEO_approval                                  | 0.00 to 1.00 (0% to 100%)                                                 | float |\n",
    "| Career_opportunities                          | 0.0 to 5.0                                                                | float |\n",
    "| Comp_&_benefits                               | 0.0 to 5.0                                                                | float |\n",
    "| Senior_management                             | 0.0 to 5.0                                                                | float |\n",
    "| Work/Life_balance                             | 0.0 to 5.0                                                                | float |\n",
    "| Culture_&_values                              | 0.0 to 5.0                                                                | float |\n",
    "| Pros                                          | Pay good money, work isn't too difficult\" (in 2 reviews), ...             |list[str]|\n",
    "| Cons                                          | \"The pay could be better.\" (in 7 reviews), \"Boss culture\" (in 6 reviews)..|list[str]|\n",
    "| Benefits_rating                               | 0.0 to 5.0                                                                | float |\n",
    "| Benefits_reviews                              | 0.0 to 5.0                                                                | float |\n",
    "\n",
    "---\n",
    "\n",
    "(Below are the requirements extracted from the job description)\n",
    "\n",
    "**Education**\n",
    "\n",
    "| columns | description (examples) | data type |\n",
    "|---|---|---|\n",
    "| BA                                            | Y/N                                   |  bool  |\n",
    "| MS                                            | Y/N                                   |  bool  |\n",
    "| Phd                                           | Y/N                                   |  bool  |\n",
    "| Certificate                                | Nanodegree, DataCamp, ..., Other      | string |\n",
    "\n",
    "**Version_control**\n",
    "\n",
    "| columns | description (examples) | data type |\n",
    "|---|---|---|\n",
    "| Git                                           | Github, GitLab, ..., Git (subset of any previous) | string |\n",
    "\n",
    "**Cloud_platforms (Top 10)**\n",
    "\n",
    "| columns | description (examples) | data type |\n",
    "|---|---|---|\n",
    "| AWS                                           | Y/N   |  bool  |\n",
    "| Microsoft_Azure                               | Y/N   |  bool  |\n",
    "| GPC                                           | Y/N   |  bool  |\n",
    "| Alibaba                                       | Y/N   |  bool  |\n",
    "| Oracle                                        | Y/N   |  bool  |\n",
    "| IBM                                           | Y/N   |  bool  |\n",
    "| Tencent                                       | Y/N   |  bool  |\n",
    "| OVHcloud                                      | Y/N   |  bool  |\n",
    "| DigitalOcean                                  | Y/N   |  bool  |\n",
    "| Lincode                                       | Y/N   |  bool  |\n",
    "\n",
    "**RDBMS (Relational Database Management System)**\n",
    "\n",
    "| columns | description (examples) | data type |\n",
    "|---|---|---|\n",
    "| PostgreSQL                                    | Y/N |  bool  |\n",
    "| Microsoft_SQL_Server                          | Y/N |  bool  |\n",
    "| IBM_Db2                                       | Y/N |  bool  |\n",
    "| MySQL                                         | Y/N |  bool  |\n",
    "| Oracle_PL_SQL'                                | Y/N |  bool  |\n",
    "\n",
    "**NOSQL (not only SQL)**\n",
    "\n",
    "| columns | description (examples) | data type |\n",
    "|---|---|---|\n",
    "| MongoDB                                       | Y/N |  bool  |\n",
    "| Cassandra                                     | Y/N |  bool  |\n",
    "| Amazon_DynamoDB                               | Y/N |  bool  | \n",
    "| Neo4j                                         | Y/N |  bool  |\n",
    "\n",
    "**Search_&_Analytics**\n",
    "\n",
    "| columns | description (examples) | data type |\n",
    "|---|---|---|\n",
    "| Apache_Solr                                   | Y/N |  bool  |\n",
    "| Amazon_Redshift                               | Y/N |  bool  |\n",
    "| Google_BigQuery                               | Y/N |  bool  |\n",
    "| Snowflake                                     | Y/N |  bool  |\n",
    "| Oracle_Exadata                                | Y/N |  bool  |\n",
    "| SAP_HANA                                      | Y/N |  bool  |\n",
    "| Teradata                                      | Y/N |  bool  |\n",
    "\n",
    "**Data_integration_and_processing**\n",
    "\n",
    "| columns | description (examples) | data type |\n",
    "|---|---|---|\n",
    "| Informatica_PowerCenter                       | Y/N |  bool  |\n",
    "| Databricks                                    | Y/N |  bool  |\n",
    "| Presto                                        | Y/N |  bool  |\n",
    "\n",
    "**Stream_processing_tools**\n",
    "\n",
    "| columns | description (examples) | data type |\n",
    "|---|---|---|\n",
    "| Apache_Kafka                                  | Y/N |  bool  |     \n",
    "| Apache_Flink                                  | Y/N |  bool  |\n",
    "| Dataflow                                      | Y/N |  bool  |\n",
    "\n",
    "**Workflow_orchestration_tools**\n",
    "\n",
    "| columns | description (examples) | data type |\n",
    "|---|---|---|\n",
    "| Apache_Airflow                                | Y/N |  bool  |\n",
    "| Luigi                                         | Y/N |  bool  |\n",
    "| SSIS                                          | Y/N |  bool  |\n",
    "\n",
    "**Big_Data_processing**\n",
    "\n",
    "| columns | description (examples) | data type |\n",
    "|---|---|---|\n",
    "| Apache_Hadoop                                 | Y/N |  bool  |\n",
    "| Apache_Hive                                   | Y/N |  bool  |\n",
    "| Apache_Spark                                  | Y/N |  bool  |\n",
    "\n",
    "**OS**\n",
    "(Operating system/systems)\n",
    "\n",
    "| columns | description (examples) | data type |\n",
    "|---|---|---|\n",
    "| Linux                                         | Y/N |  bool  |\n",
    "| Unix                                          | Y/N |  bool  |\n",
    "| Windows                                       | Y/N |  bool  |\n",
    "| macOS                                         | Y/N |  bool  |\n",
    "\n",
    "**Programming_languages**\n",
    "\n",
    "| columns | description (examples) | data type |\n",
    "|---|---|---|\n",
    "| Python                                        | Y/N |  bool  |\n",
    "| R                                             | Y/N |  bool  |\n",
    "| Scala                                         | Y/N |  bool  |\n",
    "| Julia                                         | Y/N |  bool  |\n",
    "| SQL                                           | Y/N |  bool  |\n",
    "| Java                                          | Y/N |  bool  |\n",
    "| C++                                           | Y/N |  bool  |\n",
    "| Go                                            | Y/N |  bool  |\n",
    "| Bash                                          | Y/N |  bool  |\n",
    "| PowerShell                                    | Y/N |  bool  |\n",
    "| CLI                                           | Y/N |  bool  |\n",
    "\n",
    "**Business_Intelligence_Tools**\n",
    "\n",
    "| columns | description (examples) | data type |\n",
    "|---|---|---|\n",
    "| Tableau                                       | Y/N |  bool  |\n",
    "| Power_BI                                      | Y/N |  bool  |\n",
    "| Google_Analytics                              | Y/N |  bool  |\n",
    "| QlikView                                      | Y/N |  bool  |\n",
    "| Oracle_BI_server                              | Y/N |  bool  |\n",
    "| SAS_Analytics                                 | Y/N |  bool  |\n",
    "| Lumira                                        | Y/N |  bool  |\n",
    "| Cognos_Impromptu                              | Y/N |  bool  |\n",
    "| MicroStrategy                                 | Y/N |  bool  |\n",
    "| InsightSquared                                | Y/N |  bool  |\n",
    "| Sisense                                       | Y/N |  bool  |\n",
    "| Dundas_BI                                     | Y/N |  bool  |\n",
    "| Domo                                          | Y/N |  bool  |\n",
    "| Looker                                        | Y/N |  bool  |\n",
    "| Excel                                         | Y/N |  bool  |"
   ]
  },
  {
   "attachments": {},
   "cell_type": "markdown",
   "metadata": {},
   "source": [
    "### Basic Exploration"
   ]
  },
  {
   "cell_type": "code",
   "execution_count": 1,
   "metadata": {},
   "outputs": [],
   "source": [
    "import numpy as np\n",
    "import pandas as pd\n",
    "import seaborn as sns\n",
    "import matplotlib.pyplot as plt\n",
    "from pathlib import Path\n",
    "\n",
    "import warnings\n",
    "warnings.filterwarnings('ignore')"
   ]
  },
  {
   "cell_type": "code",
   "execution_count": 2,
   "metadata": {},
   "outputs": [],
   "source": [
    "file_path = Path(\"data\\clean\\Data_Engineer\\Data_Engineer_15-04-2023.csv\")\n",
    "data = pd.read_csv(file_path, index_col=0, header=[0, 1])"
   ]
  },
  {
   "cell_type": "code",
   "execution_count": 3,
   "metadata": {},
   "outputs": [
    {
     "name": "stdout",
     "output_type": "stream",
     "text": [
      "Summary Of The Dataset :\n"
     ]
    },
    {
     "data": {
      "text/html": [
       "<div>\n",
       "<style scoped>\n",
       "    .dataframe tbody tr th:only-of-type {\n",
       "        vertical-align: middle;\n",
       "    }\n",
       "\n",
       "    .dataframe tbody tr th {\n",
       "        vertical-align: top;\n",
       "    }\n",
       "\n",
       "    .dataframe thead tr th {\n",
       "        text-align: left;\n",
       "    }\n",
       "</style>\n",
       "<table border=\"1\" class=\"dataframe\">\n",
       "  <thead>\n",
       "    <tr>\n",
       "      <th></th>\n",
       "      <th>Job_details</th>\n",
       "      <th colspan=\"3\" halign=\"left\">Salary</th>\n",
       "      <th colspan=\"10\" halign=\"left\">Company_info</th>\n",
       "    </tr>\n",
       "    <tr>\n",
       "      <th></th>\n",
       "      <th>Job_age</th>\n",
       "      <th>Min</th>\n",
       "      <th>Max</th>\n",
       "      <th>Avg</th>\n",
       "      <th>Rating</th>\n",
       "      <th>Company_age</th>\n",
       "      <th>Friend_recommend</th>\n",
       "      <th>CEO_approval</th>\n",
       "      <th>Career_opportunities</th>\n",
       "      <th>Comp_&amp;_benefits</th>\n",
       "      <th>Senior_management</th>\n",
       "      <th>Work/Life_balance</th>\n",
       "      <th>Culture_&amp;_values</th>\n",
       "      <th>Benefits_rating</th>\n",
       "    </tr>\n",
       "  </thead>\n",
       "  <tbody>\n",
       "    <tr>\n",
       "      <th>count</th>\n",
       "      <td>3117.000000</td>\n",
       "      <td>776.000000</td>\n",
       "      <td>780.000000</td>\n",
       "      <td>776.000000</td>\n",
       "      <td>2615.000000</td>\n",
       "      <td>1734.000000</td>\n",
       "      <td>2514.000000</td>\n",
       "      <td>1706.000000</td>\n",
       "      <td>2558.000000</td>\n",
       "      <td>2555.000000</td>\n",
       "      <td>2554.000000</td>\n",
       "      <td>2554.000000</td>\n",
       "      <td>2553.000000</td>\n",
       "      <td>1186.000000</td>\n",
       "    </tr>\n",
       "    <tr>\n",
       "      <th>mean</th>\n",
       "      <td>22.440808</td>\n",
       "      <td>81561.865979</td>\n",
       "      <td>103143.353846</td>\n",
       "      <td>92490.216495</td>\n",
       "      <td>3.970975</td>\n",
       "      <td>47.799885</td>\n",
       "      <td>0.775625</td>\n",
       "      <td>0.841014</td>\n",
       "      <td>3.715364</td>\n",
       "      <td>3.653699</td>\n",
       "      <td>3.620399</td>\n",
       "      <td>3.806774</td>\n",
       "      <td>3.843517</td>\n",
       "      <td>3.958432</td>\n",
       "    </tr>\n",
       "    <tr>\n",
       "      <th>std</th>\n",
       "      <td>10.799407</td>\n",
       "      <td>39395.330601</td>\n",
       "      <td>42348.078464</td>\n",
       "      <td>38865.534283</td>\n",
       "      <td>0.561581</td>\n",
       "      <td>52.673791</td>\n",
       "      <td>0.158588</td>\n",
       "      <td>0.149065</td>\n",
       "      <td>0.593382</td>\n",
       "      <td>0.627637</td>\n",
       "      <td>0.665408</td>\n",
       "      <td>0.597282</td>\n",
       "      <td>0.632869</td>\n",
       "      <td>0.647123</td>\n",
       "    </tr>\n",
       "    <tr>\n",
       "      <th>min</th>\n",
       "      <td>1.000000</td>\n",
       "      <td>20240.000000</td>\n",
       "      <td>20240.000000</td>\n",
       "      <td>20240.000000</td>\n",
       "      <td>1.000000</td>\n",
       "      <td>2.000000</td>\n",
       "      <td>0.090000</td>\n",
       "      <td>0.130000</td>\n",
       "      <td>1.000000</td>\n",
       "      <td>1.000000</td>\n",
       "      <td>1.000000</td>\n",
       "      <td>1.000000</td>\n",
       "      <td>1.000000</td>\n",
       "      <td>1.000000</td>\n",
       "    </tr>\n",
       "    <tr>\n",
       "      <th>25%</th>\n",
       "      <td>13.000000</td>\n",
       "      <td>53064.000000</td>\n",
       "      <td>71870.000000</td>\n",
       "      <td>62442.750000</td>\n",
       "      <td>3.700000</td>\n",
       "      <td>15.000000</td>\n",
       "      <td>0.690000</td>\n",
       "      <td>0.780000</td>\n",
       "      <td>3.400000</td>\n",
       "      <td>3.300000</td>\n",
       "      <td>3.200000</td>\n",
       "      <td>3.400000</td>\n",
       "      <td>3.500000</td>\n",
       "      <td>3.700000</td>\n",
       "    </tr>\n",
       "    <tr>\n",
       "      <th>50%</th>\n",
       "      <td>31.000000</td>\n",
       "      <td>72442.500000</td>\n",
       "      <td>94663.500000</td>\n",
       "      <td>83632.250000</td>\n",
       "      <td>4.000000</td>\n",
       "      <td>28.000000</td>\n",
       "      <td>0.800000</td>\n",
       "      <td>0.880000</td>\n",
       "      <td>3.700000</td>\n",
       "      <td>3.700000</td>\n",
       "      <td>3.600000</td>\n",
       "      <td>3.800000</td>\n",
       "      <td>3.900000</td>\n",
       "      <td>4.000000</td>\n",
       "    </tr>\n",
       "    <tr>\n",
       "      <th>75%</th>\n",
       "      <td>31.000000</td>\n",
       "      <td>105763.000000</td>\n",
       "      <td>131250.000000</td>\n",
       "      <td>119500.000000</td>\n",
       "      <td>4.300000</td>\n",
       "      <td>56.000000</td>\n",
       "      <td>0.890000</td>\n",
       "      <td>0.940000</td>\n",
       "      <td>4.000000</td>\n",
       "      <td>4.000000</td>\n",
       "      <td>4.000000</td>\n",
       "      <td>4.200000</td>\n",
       "      <td>4.200000</td>\n",
       "      <td>4.300000</td>\n",
       "    </tr>\n",
       "    <tr>\n",
       "      <th>max</th>\n",
       "      <td>31.000000</td>\n",
       "      <td>325704.000000</td>\n",
       "      <td>271429.000000</td>\n",
       "      <td>227541.000000</td>\n",
       "      <td>5.000000</td>\n",
       "      <td>333.000000</td>\n",
       "      <td>1.000000</td>\n",
       "      <td>1.000000</td>\n",
       "      <td>5.000000</td>\n",
       "      <td>5.000000</td>\n",
       "      <td>5.000000</td>\n",
       "      <td>5.000000</td>\n",
       "      <td>5.000000</td>\n",
       "      <td>5.000000</td>\n",
       "    </tr>\n",
       "  </tbody>\n",
       "</table>\n",
       "</div>"
      ],
      "text/plain": [
       "       Job_details         Salary                               Company_info  \\\n",
       "           Job_age            Min            Max            Avg       Rating   \n",
       "count  3117.000000     776.000000     780.000000     776.000000  2615.000000   \n",
       "mean     22.440808   81561.865979  103143.353846   92490.216495     3.970975   \n",
       "std      10.799407   39395.330601   42348.078464   38865.534283     0.561581   \n",
       "min       1.000000   20240.000000   20240.000000   20240.000000     1.000000   \n",
       "25%      13.000000   53064.000000   71870.000000   62442.750000     3.700000   \n",
       "50%      31.000000   72442.500000   94663.500000   83632.250000     4.000000   \n",
       "75%      31.000000  105763.000000  131250.000000  119500.000000     4.300000   \n",
       "max      31.000000  325704.000000  271429.000000  227541.000000     5.000000   \n",
       "\n",
       "                                                                       \\\n",
       "       Company_age Friend_recommend CEO_approval Career_opportunities   \n",
       "count  1734.000000      2514.000000  1706.000000          2558.000000   \n",
       "mean     47.799885         0.775625     0.841014             3.715364   \n",
       "std      52.673791         0.158588     0.149065             0.593382   \n",
       "min       2.000000         0.090000     0.130000             1.000000   \n",
       "25%      15.000000         0.690000     0.780000             3.400000   \n",
       "50%      28.000000         0.800000     0.880000             3.700000   \n",
       "75%      56.000000         0.890000     0.940000             4.000000   \n",
       "max     333.000000         1.000000     1.000000             5.000000   \n",
       "\n",
       "                                                                            \\\n",
       "      Comp_&_benefits Senior_management Work/Life_balance Culture_&_values   \n",
       "count     2555.000000       2554.000000       2554.000000      2553.000000   \n",
       "mean         3.653699          3.620399          3.806774         3.843517   \n",
       "std          0.627637          0.665408          0.597282         0.632869   \n",
       "min          1.000000          1.000000          1.000000         1.000000   \n",
       "25%          3.300000          3.200000          3.400000         3.500000   \n",
       "50%          3.700000          3.600000          3.800000         3.900000   \n",
       "75%          4.000000          4.000000          4.200000         4.200000   \n",
       "max          5.000000          5.000000          5.000000         5.000000   \n",
       "\n",
       "                       \n",
       "      Benefits_rating  \n",
       "count     1186.000000  \n",
       "mean         3.958432  \n",
       "std          0.647123  \n",
       "min          1.000000  \n",
       "25%          3.700000  \n",
       "50%          4.000000  \n",
       "75%          4.300000  \n",
       "max          5.000000  "
      ]
     },
     "execution_count": 3,
     "metadata": {},
     "output_type": "execute_result"
    }
   ],
   "source": [
    "\n",
    "print(f\"Summary Of The Dataset :\")\n",
    "data.describe()"
   ]
  },
  {
   "cell_type": "code",
   "execution_count": 4,
   "metadata": {},
   "outputs": [],
   "source": [
    "from typing import Literal\n",
    "\n",
    "def show_percentages(df: pd.DataFrame, type: Literal[\"bool\", \"string\"] = \"bool\"):\n",
    "\n",
    "    def to_percent(percentages: pd.DataFrame):\n",
    "        return percentages.apply(lambda x: f'{x:.2%}')\n",
    "\n",
    "    total_jobs = len(df)\n",
    "    print(f\"Number of jobs: {total_jobs}\\n\")\n",
    "\n",
    "    result_df = None\n",
    "\n",
    "    if type == \"bool\":\n",
    "\n",
    "        summed = df.sum()\n",
    "        percentages = df.mean()\n",
    "        percentages_str = to_percent(percentages)\n",
    "        result_df = pd.DataFrame({'Percentage of True Values': percentages_str, 'Occurrence': summed})\n",
    "\n",
    "        num_of_none = (df == False).all(axis=1).sum()\n",
    "        percentages_none = (num_of_none / total_jobs)\n",
    "        percentages_none_str = f'{percentages_none:.2%}'\n",
    "\n",
    "        result_df = result_df.append(pd.DataFrame({'Percentage of True Values': percentages_none_str, 'Occurrence': num_of_none}, index=[\"None\"]))\n",
    "\n",
    "        result_df.sort_values(ascending=False, by=['Occurrence'], inplace=True)\n",
    "\n",
    "    elif type == \"string\": # fix\n",
    "\n",
    "        summed = df.value_counts()\n",
    "        percentages = (df.value_counts() / total_jobs)\n",
    "        percentages.sort_values(ascending=False, inplace=True)\n",
    "        percentages_str = to_percent(percentages)\n",
    "        result_df = pd.DataFrame({'Percentage of True Values': percentages_str, 'Occurrence': summed})\n",
    "\n",
    "        num_of_none = df.isna().sum(skipna=False)\n",
    "        percentages_none = (num_of_none / total_jobs)\n",
    "        percentages_none_str = f'{percentages_none:.2%}'\n",
    "\n",
    "        result_df = result_df.append(pd.DataFrame({'Percentage of True Values': percentages_none_str, 'Occurrence': num_of_none}, index=[\"None\"]))\n",
    "       \n",
    "\n",
    "        result_df.sort_values(ascending=False, by=['Occurrence'], inplace=True)\n",
    "\n",
    "    else:\n",
    "        raise KeyError(f\"Invalid type:\\n{type}\")      \n",
    "\n",
    "    print(result_df)\n"
   ]
  },
  {
   "cell_type": "code",
   "execution_count": 5,
   "metadata": {},
   "outputs": [
    {
     "data": {
      "text/html": [
       "<div>\n",
       "<style scoped>\n",
       "    .dataframe tbody tr th:only-of-type {\n",
       "        vertical-align: middle;\n",
       "    }\n",
       "\n",
       "    .dataframe tbody tr th {\n",
       "        vertical-align: top;\n",
       "    }\n",
       "\n",
       "    .dataframe thead th {\n",
       "        text-align: right;\n",
       "    }\n",
       "</style>\n",
       "<table border=\"1\" class=\"dataframe\">\n",
       "  <thead>\n",
       "    <tr style=\"text-align: right;\">\n",
       "      <th></th>\n",
       "      <th>Title</th>\n",
       "      <th>Description</th>\n",
       "      <th>Seniority</th>\n",
       "      <th>City</th>\n",
       "      <th>State</th>\n",
       "      <th>Country</th>\n",
       "      <th>Region</th>\n",
       "    </tr>\n",
       "  </thead>\n",
       "  <tbody>\n",
       "    <tr>\n",
       "      <th>count</th>\n",
       "      <td>3117</td>\n",
       "      <td>3117</td>\n",
       "      <td>684</td>\n",
       "      <td>2979</td>\n",
       "      <td>277</td>\n",
       "      <td>3117</td>\n",
       "      <td>3117</td>\n",
       "    </tr>\n",
       "    <tr>\n",
       "      <th>unique</th>\n",
       "      <td>1904</td>\n",
       "      <td>2947</td>\n",
       "      <td>4</td>\n",
       "      <td>558</td>\n",
       "      <td>39</td>\n",
       "      <td>32</td>\n",
       "      <td>4</td>\n",
       "    </tr>\n",
       "    <tr>\n",
       "      <th>top</th>\n",
       "      <td>Data Engineer</td>\n",
       "      <td>Canonical is building a comprehensive automati...</td>\n",
       "      <td>Senior</td>\n",
       "      <td>Tel Aviv-Yafo</td>\n",
       "      <td>England</td>\n",
       "      <td>Israel</td>\n",
       "      <td>Europe</td>\n",
       "    </tr>\n",
       "    <tr>\n",
       "      <th>freq</th>\n",
       "      <td>562</td>\n",
       "      <td>13</td>\n",
       "      <td>497</td>\n",
       "      <td>147</td>\n",
       "      <td>73</td>\n",
       "      <td>253</td>\n",
       "      <td>2376</td>\n",
       "    </tr>\n",
       "  </tbody>\n",
       "</table>\n",
       "</div>"
      ],
      "text/plain": [
       "                Title                                        Description  \\\n",
       "count            3117                                               3117   \n",
       "unique           1904                                               2947   \n",
       "top     Data Engineer  Canonical is building a comprehensive automati...   \n",
       "freq              562                                                 13   \n",
       "\n",
       "       Seniority           City     State Country  Region  \n",
       "count        684           2979       277    3117    3117  \n",
       "unique         4            558        39      32       4  \n",
       "top       Senior  Tel Aviv-Yafo   England  Israel  Europe  \n",
       "freq         497            147        73     253    2376  "
      ]
     },
     "execution_count": 5,
     "metadata": {},
     "output_type": "execute_result"
    }
   ],
   "source": [
    "data['Job_details'].describe(include=object)"
   ]
  },
  {
   "cell_type": "code",
   "execution_count": 6,
   "metadata": {},
   "outputs": [
    {
     "name": "stdout",
     "output_type": "stream",
     "text": [
      "Number of jobs: 3117\n",
      "\n",
      "           Percentage of True Values  Occurrence\n",
      "None                          78.06%        2433\n",
      "Senior                        15.94%         497\n",
      "Junior                         3.59%         112\n",
      "Management                     1.51%          47\n",
      "Mid                            0.90%          28\n"
     ]
    }
   ],
   "source": [
    "show_percentages(data['Job_details']['Seniority'], \"string\")"
   ]
  },
  {
   "cell_type": "code",
   "execution_count": 7,
   "metadata": {},
   "outputs": [
    {
     "data": {
      "text/plain": [
       "Israel            253\n",
       "United_States     247\n",
       "France            228\n",
       "Portugal          189\n",
       "Germany           166\n",
       "Sweden            146\n",
       "Austria           139\n",
       "Singapore         138\n",
       "Spain             127\n",
       "Romania           125\n",
       "United_Kingdom    121\n",
       "Poland            110\n",
       "Hong_Kong         105\n",
       "Denmark            91\n",
       "Hungary            86\n",
       "Italy              80\n",
       "Ireland            76\n",
       "Czech_Republic     68\n",
       "Australia          67\n",
       "Belgium            64\n",
       "Switzerland        60\n",
       "Finland            58\n",
       "Greece             56\n",
       "New_Zealand        52\n",
       "South_Korea        46\n",
       "Japan              42\n",
       "Netherlands        40\n",
       "Taiwan             40\n",
       "Luxembourg         40\n",
       "Norway             31\n",
       "Turkey             22\n",
       "Canada              4\n",
       "Name: Country, dtype: int64"
      ]
     },
     "execution_count": 7,
     "metadata": {},
     "output_type": "execute_result"
    }
   ],
   "source": [
    "data['Job_details']['Country'].value_counts()"
   ]
  },
  {
   "cell_type": "code",
   "execution_count": 8,
   "metadata": {},
   "outputs": [
    {
     "data": {
      "text/plain": [
       "Tel Aviv-Yafo    147\n",
       "Singapore        131\n",
       "Portugal         119\n",
       "Remote           102\n",
       "Bucharest         89\n",
       "Hong Kong         88\n",
       "Paris             85\n",
       "Israel            82\n",
       "Stockholm         80\n",
       "Vienna            71\n",
       "Name: City, dtype: int64"
      ]
     },
     "execution_count": 8,
     "metadata": {},
     "output_type": "execute_result"
    }
   ],
   "source": [
    "data['Job_details']['City'].value_counts()[:10]"
   ]
  },
  {
   "cell_type": "code",
   "execution_count": 37,
   "metadata": {},
   "outputs": [
    {
     "name": "stdout",
     "output_type": "stream",
     "text": [
      "\n",
      "    Job offers:\n",
      "    3117\n",
      "    Remote offers:\n",
      "    102\n",
      "    3.27%\n",
      "    Unknown precise location:\n",
      "    138\n",
      "    4.43%\n",
      "    \n"
     ]
    }
   ],
   "source": [
    "num_remote = (data['Job_details']['City'] == 'Remote').sum()\n",
    "job_total = len(data)\n",
    "num_nan_locations = data['Job_details']['City'].isna().sum() \n",
    "\n",
    "print(\n",
    "    f\"\"\"\n",
    "    Job offers:\n",
    "    {job_total}\n",
    "    Remote offers:\n",
    "    {num_remote}\n",
    "    {(num_remote / job_total):.2%}\n",
    "    Unknown precise location:\n",
    "    {num_nan_locations}\n",
    "    {(num_nan_locations / job_total):.2%}\n",
    "    \"\"\"\n",
    ")\n",
    "\n",
    "del num_remote, job_total, num_nan_locations"
   ]
  },
  {
   "cell_type": "code",
   "execution_count": 10,
   "metadata": {},
   "outputs": [
    {
     "name": "stdout",
     "output_type": "stream",
     "text": [
      "Number of jobs: 3117\n",
      "\n",
      "     Percentage of True Values  Occurrence\n",
      "31                      53.38%        1664\n",
      "1                        5.65%         176\n",
      "13                       4.04%         126\n",
      "7                        2.44%          76\n",
      "14                       2.44%          76\n",
      "8                        2.37%          74\n",
      "6                        2.31%          72\n",
      "11                       1.83%          57\n",
      "5                        1.80%          56\n",
      "15                       1.60%          50\n",
      "19                       1.54%          48\n",
      "20                       1.54%          48\n",
      "28                       1.48%          46\n",
      "12                       1.48%          46\n",
      "21                       1.48%          46\n",
      "2                        1.48%          46\n",
      "22                       1.32%          41\n",
      "26                       1.25%          39\n",
      "18                       1.22%          38\n",
      "10                       1.09%          34\n",
      "27                       1.06%          33\n",
      "9                        1.03%          32\n",
      "4                        0.96%          30\n",
      "3                        0.87%          27\n",
      "25                       0.77%          24\n",
      "29                       0.74%          23\n",
      "17                       0.74%          23\n",
      "16                       0.61%          19\n",
      "30                       0.58%          18\n",
      "23                       0.48%          15\n",
      "24                       0.45%          14\n",
      "None                     0.00%           0\n"
     ]
    }
   ],
   "source": [
    "show_percentages(data['Job_details']['Job_age'], \"string\")"
   ]
  },
  {
   "cell_type": "code",
   "execution_count": 11,
   "metadata": {},
   "outputs": [
    {
     "data": {
      "image/png": "[encoded data removed]",
      "text/plain": [
       "<Figure size 800x500 with 1 Axes>"
      ]
     },
     "metadata": {},
     "output_type": "display_data"
    }
   ],
   "source": [
    "plt.figure(figsize=(8,5))\n",
    "plt.title('\\n Distribution of Job Ages\\n', size=16, color='black')\n",
    "plt.xlabel('\\n Rating \\n', fontsize=13, color='black')\n",
    "plt.ylabel('\\n Density\\n', fontsize=13, color='black')\n",
    "plt.xticks(fontsize=13)\n",
    "plt.yticks(fontsize=12)\n",
    "sns.distplot(data['Job_details']['Job_age'],color=\"purple\")\n",
    "plt.show()"
   ]
  },
  {
   "cell_type": "code",
   "execution_count": 53,
   "metadata": {},
   "outputs": [
    {
     "name": "stdout",
     "output_type": "stream",
     "text": [
      "\n",
      "    Easy apply:\n",
      "    Y: 724   23.23%\n",
      "    N: 2393  76.77%\n",
      "    \n"
     ]
    }
   ],
   "source": [
    "jobs_total = len(data)\n",
    "easy_apply = {\n",
    "    \"Y\": data['Job_details']['Easy_apply'].sum(),\n",
    "    \"N\": (~data['Job_details']['Easy_apply']).sum(),\n",
    "}\n",
    "\n",
    "print(\n",
    "    f\"\"\"\n",
    "    Easy apply:\n",
    "    Y: {easy_apply['Y']}   {(easy_apply['Y'] / job_total):.2%}\n",
    "    N: {easy_apply['N']}  {(easy_apply['N'] / job_total):.2%}\n",
    "    \"\"\"\n",
    ")\n",
    "\n",
    "del jobs_total, easy_apply"
   ]
  },
  {
   "cell_type": "code",
   "execution_count": 12,
   "metadata": {},
   "outputs": [
    {
     "data": {
      "text/html": [
       "<div>\n",
       "<style scoped>\n",
       "    .dataframe tbody tr th:only-of-type {\n",
       "        vertical-align: middle;\n",
       "    }\n",
       "\n",
       "    .dataframe tbody tr th {\n",
       "        vertical-align: top;\n",
       "    }\n",
       "\n",
       "    .dataframe thead th {\n",
       "        text-align: right;\n",
       "    }\n",
       "</style>\n",
       "<table border=\"1\" class=\"dataframe\">\n",
       "  <thead>\n",
       "    <tr style=\"text-align: right;\">\n",
       "      <th></th>\n",
       "      <th>Currency</th>\n",
       "    </tr>\n",
       "  </thead>\n",
       "  <tbody>\n",
       "    <tr>\n",
       "      <th>count</th>\n",
       "      <td>787</td>\n",
       "    </tr>\n",
       "    <tr>\n",
       "      <th>unique</th>\n",
       "      <td>15</td>\n",
       "    </tr>\n",
       "    <tr>\n",
       "      <th>top</th>\n",
       "      <td>EUR</td>\n",
       "    </tr>\n",
       "    <tr>\n",
       "      <th>freq</th>\n",
       "      <td>236</td>\n",
       "    </tr>\n",
       "  </tbody>\n",
       "</table>\n",
       "</div>"
      ],
      "text/plain": [
       "       Currency\n",
       "count       787\n",
       "unique       15\n",
       "top         EUR\n",
       "freq        236"
      ]
     },
     "execution_count": 12,
     "metadata": {},
     "output_type": "execute_result"
    }
   ],
   "source": [
    "data['Salary'].describe(include=object)"
   ]
  },
  {
   "cell_type": "code",
   "execution_count": 13,
   "metadata": {},
   "outputs": [
    {
     "data": {
      "text/plain": [
       "False    2330\n",
       "True      787\n",
       "Name: Specified, dtype: int64"
      ]
     },
     "execution_count": 13,
     "metadata": {},
     "output_type": "execute_result"
    }
   ],
   "source": [
    "data['Salary']['Specified'].value_counts(dropna=False)"
   ]
  },
  {
   "cell_type": "code",
   "execution_count": 14,
   "metadata": {},
   "outputs": [
    {
     "data": {
      "text/html": [
       "<div>\n",
       "<style scoped>\n",
       "    .dataframe tbody tr th:only-of-type {\n",
       "        vertical-align: middle;\n",
       "    }\n",
       "\n",
       "    .dataframe tbody tr th {\n",
       "        vertical-align: top;\n",
       "    }\n",
       "\n",
       "    .dataframe thead th {\n",
       "        text-align: right;\n",
       "    }\n",
       "</style>\n",
       "<table border=\"1\" class=\"dataframe\">\n",
       "  <thead>\n",
       "    <tr style=\"text-align: right;\">\n",
       "      <th></th>\n",
       "      <th>Name</th>\n",
       "      <th>Employees</th>\n",
       "      <th>Type_of_ownership</th>\n",
       "      <th>Sector</th>\n",
       "      <th>Industry</th>\n",
       "      <th>Revenue_USD</th>\n",
       "      <th>Pros</th>\n",
       "      <th>Cons</th>\n",
       "      <th>Benefits_reviews</th>\n",
       "    </tr>\n",
       "  </thead>\n",
       "  <tbody>\n",
       "    <tr>\n",
       "      <th>count</th>\n",
       "      <td>3117</td>\n",
       "      <td>2512</td>\n",
       "      <td>2657</td>\n",
       "      <td>2111</td>\n",
       "      <td>2111</td>\n",
       "      <td>1291</td>\n",
       "      <td>2422</td>\n",
       "      <td>2422</td>\n",
       "      <td>793</td>\n",
       "    </tr>\n",
       "    <tr>\n",
       "      <th>unique</th>\n",
       "      <td>1941</td>\n",
       "      <td>7</td>\n",
       "      <td>11</td>\n",
       "      <td>24</td>\n",
       "      <td>80</td>\n",
       "      <td>9</td>\n",
       "      <td>1420</td>\n",
       "      <td>1194</td>\n",
       "      <td>351</td>\n",
       "    </tr>\n",
       "    <tr>\n",
       "      <th>top</th>\n",
       "      <td>Gotfriends</td>\n",
       "      <td>10000+</td>\n",
       "      <td>Company - Private</td>\n",
       "      <td>Information Technology</td>\n",
       "      <td>Information Technology Support Services</td>\n",
       "      <td>$10+ billion</td>\n",
       "      <td>['\"Good people and good managers.\" (in 3 revie...</td>\n",
       "      <td>['No Cons have been reported by the Glassdoor ...</td>\n",
       "      <td>['401K Plan (573 comments)\\n\"6% Match best in ...</td>\n",
       "    </tr>\n",
       "    <tr>\n",
       "      <th>freq</th>\n",
       "      <td>100</td>\n",
       "      <td>685</td>\n",
       "      <td>1551</td>\n",
       "      <td>791</td>\n",
       "      <td>349</td>\n",
       "      <td>376</td>\n",
       "      <td>100</td>\n",
       "      <td>484</td>\n",
       "      <td>32</td>\n",
       "    </tr>\n",
       "  </tbody>\n",
       "</table>\n",
       "</div>"
      ],
      "text/plain": [
       "              Name Employees  Type_of_ownership                  Sector  \\\n",
       "count         3117      2512               2657                    2111   \n",
       "unique        1941         7                 11                      24   \n",
       "top     Gotfriends    10000+  Company - Private  Information Technology   \n",
       "freq           100       685               1551                     791   \n",
       "\n",
       "                                       Industry   Revenue_USD  \\\n",
       "count                                      2111          1291   \n",
       "unique                                       80             9   \n",
       "top     Information Technology Support Services  $10+ billion   \n",
       "freq                                        349           376   \n",
       "\n",
       "                                                     Pros  \\\n",
       "count                                                2422   \n",
       "unique                                               1420   \n",
       "top     ['\"Good people and good managers.\" (in 3 revie...   \n",
       "freq                                                  100   \n",
       "\n",
       "                                                     Cons  \\\n",
       "count                                                2422   \n",
       "unique                                               1194   \n",
       "top     ['No Cons have been reported by the Glassdoor ...   \n",
       "freq                                                  484   \n",
       "\n",
       "                                         Benefits_reviews  \n",
       "count                                                 793  \n",
       "unique                                                351  \n",
       "top     ['401K Plan (573 comments)\\n\"6% Match best in ...  \n",
       "freq                                                   32  "
      ]
     },
     "execution_count": 14,
     "metadata": {},
     "output_type": "execute_result"
    }
   ],
   "source": [
    "data['Company_info'].describe(include=object)"
   ]
  },
  {
   "cell_type": "code",
   "execution_count": 15,
   "metadata": {},
   "outputs": [
    {
     "data": {
      "image/png": "[encoded data removed]",
      "text/plain": [
       "<Figure size 800x500 with 1 Axes>"
      ]
     },
     "metadata": {},
     "output_type": "display_data"
    }
   ],
   "source": [
    "plt.figure(figsize=(8,5))\n",
    "plt.title('\\n Distribution of Companies Ratings\\n', size=16, color='black')\n",
    "plt.xlabel('\\n Rating \\n', fontsize=13, color='black')\n",
    "plt.ylabel('\\n Density\\n', fontsize=13, color='black')\n",
    "plt.xticks(fontsize=13)\n",
    "plt.yticks(fontsize=12)\n",
    "sns.distplot(data['Company_info']['Rating'],color=\"purple\")\n",
    "plt.show()"
   ]
  },
  {
   "cell_type": "code",
   "execution_count": 16,
   "metadata": {},
   "outputs": [
    {
     "data": {
      "image/png": "[encoded data removed]",
      "text/plain": [
       "<Figure size 800x500 with 1 Axes>"
      ]
     },
     "metadata": {},
     "output_type": "display_data"
    }
   ],
   "source": [
    "plt.figure(figsize=(8,5))\n",
    "plt.title('\\n Distribution of Companies Ages\\n', size=16, color='black')\n",
    "plt.xlabel('\\n Rating \\n', fontsize=13, color='black')\n",
    "plt.ylabel('\\n Density\\n', fontsize=13, color='black')\n",
    "plt.xticks(fontsize=13)\n",
    "plt.yticks(fontsize=12)\n",
    "sns.distplot(data['Company_info']['Company_age'],color=\"purple\")\n",
    "plt.show()"
   ]
  },
  {
   "cell_type": "code",
   "execution_count": 17,
   "metadata": {},
   "outputs": [
    {
     "data": {
      "text/plain": [
       "0        7.0\n",
       "1        3.0\n",
       "2        NaN\n",
       "3       96.0\n",
       "4       18.0\n",
       "        ... \n",
       "3112     NaN\n",
       "3113     NaN\n",
       "3114     NaN\n",
       "3115     NaN\n",
       "3116     NaN\n",
       "Name: Company_age, Length: 3117, dtype: float64"
      ]
     },
     "execution_count": 17,
     "metadata": {},
     "output_type": "execute_result"
    }
   ],
   "source": [
    "data['Company_info']['Company_age']"
   ]
  },
  {
   "cell_type": "code",
   "execution_count": 18,
   "metadata": {},
   "outputs": [
    {
     "name": "stdout",
     "output_type": "stream",
     "text": [
      "Number of jobs: 3117\n",
      "\n",
      "     Percentage of True Values  Occurrence\n",
      "None                    93.17%        2904\n",
      "MS                       4.04%         126\n",
      "BA                       3.59%         112\n",
      "Phd                      0.32%          10\n"
     ]
    }
   ],
   "source": [
    "show_percentages(data['Education'][['BA', 'MS', 'Phd']])"
   ]
  },
  {
   "cell_type": "code",
   "execution_count": 19,
   "metadata": {},
   "outputs": [
    {
     "name": "stdout",
     "output_type": "stream",
     "text": [
      "Number of jobs: 3117\n",
      "\n",
      "         Percentage of True Values  Occurrence\n",
      "None                        99.55%        3103\n",
      "Other                        0.42%          13\n",
      "DataCamp                     0.03%           1\n"
     ]
    }
   ],
   "source": [
    "show_percentages(data['Education']['Certificate'], \"string\")"
   ]
  },
  {
   "cell_type": "code",
   "execution_count": 20,
   "metadata": {},
   "outputs": [
    {
     "name": "stdout",
     "output_type": "stream",
     "text": [
      "Number of jobs: 3117\n",
      "\n",
      "          Percentage of True Values  Occurrence\n",
      "None                         97.88%        3051\n",
      "Git                           1.22%          38\n",
      "GitLab                        0.55%          17\n",
      "Github                        0.29%           9\n",
      "Bitbucket                     0.03%           1\n",
      "Launchpad                     0.03%           1\n"
     ]
    }
   ],
   "source": [
    "show_percentages(data['Version_control']['Git'], \"string\")"
   ]
  },
  {
   "cell_type": "code",
   "execution_count": 21,
   "metadata": {},
   "outputs": [
    {
     "name": "stdout",
     "output_type": "stream",
     "text": [
      "Number of jobs: 3117\n",
      "\n",
      "                Percentage of True Values  Occurrence\n",
      "None                               81.65%        2545\n",
      "Microsoft_Azure                     9.91%         309\n",
      "AWS                                 8.73%         272\n",
      "GPC                                 3.66%         114\n",
      "Oracle                              0.13%           4\n",
      "IBM                                 0.10%           3\n",
      "Alibaba                             0.00%           0\n",
      "Tencent                             0.00%           0\n",
      "OVHcloud                            0.00%           0\n",
      "DigitalOcean                        0.00%           0\n",
      "Lincode                             0.00%           0\n"
     ]
    }
   ],
   "source": [
    "show_percentages(data['Cloud_platforms'])"
   ]
  },
  {
   "cell_type": "code",
   "execution_count": 22,
   "metadata": {},
   "outputs": [
    {
     "name": "stdout",
     "output_type": "stream",
     "text": [
      "Number of jobs: 3117\n",
      "\n",
      "                     Percentage of True Values  Occurrence\n",
      "None                                    96.21%        2999\n",
      "PostgreSQL                               1.64%          51\n",
      "MySQL                                    1.64%          51\n",
      "Microsoft_SQL_Server                     1.35%          42\n",
      "Oracle_PL_SQL                            0.35%          11\n",
      "IBM_Db2                                  0.10%           3\n"
     ]
    }
   ],
   "source": [
    "show_percentages(data['RDBMS'])"
   ]
  },
  {
   "cell_type": "code",
   "execution_count": 23,
   "metadata": {},
   "outputs": [
    {
     "name": "stdout",
     "output_type": "stream",
     "text": [
      "Number of jobs: 3117\n",
      "\n",
      "                Percentage of True Values  Occurrence\n",
      "None                               97.98%        3054\n",
      "MongoDB                             1.44%          45\n",
      "Cassandra                           0.55%          17\n",
      "Amazon_DynamoDB                     0.29%           9\n",
      "Neo4j                               0.06%           2\n"
     ]
    }
   ],
   "source": [
    "show_percentages(data['NOSQL'])"
   ]
  },
  {
   "cell_type": "code",
   "execution_count": 24,
   "metadata": {},
   "outputs": [
    {
     "name": "stdout",
     "output_type": "stream",
     "text": [
      "Number of jobs: 3117\n",
      "\n",
      "                Percentage of True Values  Occurrence\n",
      "None                               94.74%        2953\n",
      "Snowflake                           2.73%          85\n",
      "Google_BigQuery                     1.25%          39\n",
      "Amazon_Redshift                     1.09%          34\n",
      "Teradata                            0.67%          21\n",
      "SAP_HANA                            0.22%           7\n",
      "Apache_Solr                         0.06%           2\n",
      "Oracle_Exadata                      0.03%           1\n"
     ]
    }
   ],
   "source": [
    "show_percentages(data['Search_&_Analytics'])"
   ]
  },
  {
   "cell_type": "code",
   "execution_count": 25,
   "metadata": {},
   "outputs": [
    {
     "name": "stdout",
     "output_type": "stream",
     "text": [
      "Number of jobs: 3117\n",
      "\n",
      "                        Percentage of True Values  Occurrence\n",
      "None                                       95.93%        2990\n",
      "Databricks                                  3.56%         111\n",
      "Informatica_PowerCenter                     0.32%          10\n",
      "Presto                                      0.22%           7\n"
     ]
    }
   ],
   "source": [
    "show_percentages(data['Data_integration_and_processing'])"
   ]
  },
  {
   "cell_type": "code",
   "execution_count": 26,
   "metadata": {},
   "outputs": [
    {
     "name": "stdout",
     "output_type": "stream",
     "text": [
      "Number of jobs: 3117\n",
      "\n",
      "                Percentage of True Values  Occurrence\n",
      "None                               94.74%        2953\n",
      "Snowflake                           2.73%          85\n",
      "Google_BigQuery                     1.25%          39\n",
      "Amazon_Redshift                     1.09%          34\n",
      "Teradata                            0.67%          21\n",
      "SAP_HANA                            0.22%           7\n",
      "Apache_Solr                         0.06%           2\n",
      "Oracle_Exadata                      0.03%           1\n"
     ]
    }
   ],
   "source": [
    "show_percentages(data['Search_&_Analytics'])"
   ]
  },
  {
   "cell_type": "code",
   "execution_count": 27,
   "metadata": {},
   "outputs": [
    {
     "name": "stdout",
     "output_type": "stream",
     "text": [
      "Number of jobs: 3117\n",
      "\n",
      "             Percentage of True Values  Occurrence\n",
      "None                            96.18%        2998\n",
      "Apache_Kafka                     3.50%         109\n",
      "Apache_Flink                     0.55%          17\n",
      "Dataflow                         0.19%           6\n"
     ]
    }
   ],
   "source": [
    "show_percentages(data['Stream_processing_tools'])"
   ]
  },
  {
   "cell_type": "code",
   "execution_count": 28,
   "metadata": {},
   "outputs": [
    {
     "name": "stdout",
     "output_type": "stream",
     "text": [
      "Number of jobs: 3117\n",
      "\n",
      "               Percentage of True Values  Occurrence\n",
      "None                              97.21%        3030\n",
      "Apache_Airflow                     2.09%          65\n",
      "SSIS                               0.67%          21\n",
      "Luigi                              0.06%           2\n"
     ]
    }
   ],
   "source": [
    "show_percentages(data['Workflow_orchestration_tools'])"
   ]
  },
  {
   "cell_type": "code",
   "execution_count": 29,
   "metadata": {},
   "outputs": [
    {
     "name": "stdout",
     "output_type": "stream",
     "text": [
      "Number of jobs: 3117\n",
      "\n",
      "              Percentage of True Values  Occurrence\n",
      "None                             90.54%        2822\n",
      "Apache_Spark                      8.76%         273\n",
      "Apache_Hadoop                     2.60%          81\n",
      "Apache_Hive                       1.64%          51\n"
     ]
    }
   ],
   "source": [
    "show_percentages(data['Big_Data_processing'])"
   ]
  },
  {
   "cell_type": "code",
   "execution_count": 30,
   "metadata": {},
   "outputs": [
    {
     "name": "stdout",
     "output_type": "stream",
     "text": [
      "Number of jobs: 3117\n",
      "\n",
      "        Percentage of True Values  Occurrence\n",
      "None                       97.31%        3033\n",
      "Linux                       2.05%          64\n",
      "Unix                        0.48%          15\n",
      "Windows                     0.48%          15\n",
      "macOS                       0.00%           0\n"
     ]
    }
   ],
   "source": [
    "show_percentages(data['OS'])"
   ]
  },
  {
   "cell_type": "code",
   "execution_count": 31,
   "metadata": {},
   "outputs": [
    {
     "name": "stdout",
     "output_type": "stream",
     "text": [
      "Number of jobs: 3117\n",
      "\n",
      "           Percentage of True Values  Occurrence\n",
      "None                          75.20%        2344\n",
      "SQL                           13.60%         424\n",
      "Python                        13.51%         421\n",
      "Java                           4.62%         144\n",
      "Scala                          3.59%         112\n",
      "R                              2.89%          90\n",
      "Bash                           0.32%          10\n",
      "Go                             0.22%           7\n",
      "PowerShell                     0.22%           7\n",
      "CLI                            0.10%           3\n",
      "Julia                          0.00%           0\n",
      "C++                            0.00%           0\n"
     ]
    }
   ],
   "source": [
    "show_percentages(data['Programming_languages'])"
   ]
  },
  {
   "cell_type": "code",
   "execution_count": 32,
   "metadata": {},
   "outputs": [
    {
     "name": "stdout",
     "output_type": "stream",
     "text": [
      "Number of jobs: 3117\n",
      "\n",
      "                 Percentage of True Values  Occurrence\n",
      "None                                96.09%        2995\n",
      "Power_BI                             2.12%          66\n",
      "Tableau                              1.19%          37\n",
      "QlikView                             0.35%          11\n",
      "Looker                               0.35%          11\n",
      "Excel                                0.35%          11\n",
      "Google_Analytics                     0.13%           4\n",
      "MicroStrategy                        0.13%           4\n",
      "Oracle_BI_server                     0.00%           0\n",
      "SAS_Analytics                        0.00%           0\n",
      "Lumira                               0.00%           0\n",
      "Cognos_Impromptu                     0.00%           0\n",
      "InsightSquared                       0.00%           0\n",
      "Sisense                              0.00%           0\n",
      "Dundas_BI                            0.00%           0\n",
      "Domo                                 0.00%           0\n"
     ]
    }
   ],
   "source": [
    "show_percentages(data['Business_Intelligence_Tools'])"
   ]
  },
  {
   "attachments": {},
   "cell_type": "markdown",
   "metadata": {},
   "source": [
    "## Questions to ask"
   ]
  },
  {
   "attachments": {},
   "cell_type": "markdown",
   "metadata": {},
   "source": [
    "1. Countries with Highest Number of Jobs\n",
    "1. Salaries per Country\n",
    "1. Age of Job Postings\n",
    "1. Top 5 Industries with the Highest Number of Jobs\n",
    "1. Top 5 Industries with the Highest Salaries\n",
    "1. Companies with Maximum Number of Job Openings\n",
    "1. Company Ratings\n",
    "1. Company Size\n",
    "1. Company Age\n",
    "1. Company Ownership Type\n",
    "1. Company Revenue\n",
    "1. Remote Job\n",
    "1. Employment Type\n",
    "1. Experience Level\n",
    "1. Skills Required\n",
    "1. Correlation Map"
   ]
  }
 ],
 "metadata": {
  "kernelspec": {
   "display_name": "Python 3",
   "language": "python",
   "name": "python3"
  },
  "language_info": {
   "codemirror_mode": {
    "name": "ipython",
    "version": 3
   },
   "file_extension": ".py",
   "mimetype": "text/x-python",
   "name": "python",
   "nbconvert_exporter": "python",
   "pygments_lexer": "ipython3",
   "version": "3.11.1"
  },
  "orig_nbformat": 4
 },
 "nbformat": 4,
 "nbformat_minor": 2
}
