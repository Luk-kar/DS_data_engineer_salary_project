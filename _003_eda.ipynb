{
 "cells": [
  {
   "attachments": {},
   "cell_type": "markdown",
   "metadata": {},
   "source": [
    "## Introduction"
   ]
  },
  {
   "attachments": {},
   "cell_type": "markdown",
   "metadata": {},
   "source": [
    "![EDA_illustration](./doc/images/placeholder.png)"
   ]
  },
  {
   "attachments": {},
   "cell_type": "markdown",
   "metadata": {},
   "source": [
    "<div style=\"background-color: rgb(40, 40, 40); padding: 20px\">\n",
    "Data science is an interdisciplinary field that involves the use of statistical, computational, and machine learning techniques to extract insights and knowledge from data.\n",
    "</div>"
   ]
  },
  {
   "attachments": {},
   "cell_type": "markdown",
   "metadata": {},
   "source": [
    "<div style=\"background-color: rgb(40, 40, 40); padding: 20px\">\n",
    "Data Engineers are professionals who specialize in handling and managing large volumes of data. They write computer programs and use various tools to build data pipelines that transform raw data into a more usable format for different teams within a company, including Business Intelligence Analysts, Data Analysts, Data Scientists, Machine Learning Engineers, and Database Administrators.\n",
    "</div>"
   ]
  },
  {
   "attachments": {},
   "cell_type": "markdown",
   "metadata": {},
   "source": [
    "The goal of this project was to gather job postings for `\"Data Engineer\"` positions from www.glassdoor.com and analyze them to identify average salaries, working conditions, benefits, required skills, and trends. The data was collected between `11-04-2023` and `15-04-2023` from `32 countries`, including the USA and Canada, Europe, South East Asia, and Oceania.<br><br>The scraper utilized the Selenium package to provide the necessary client interaction to extract posting information, with a maximum cap of `900 jobs per selected country`. Due to Glassdoor's behavior, the number of job postings was often reduced from `900` to `300` or less after eliminating duplicates. Sometimes, Glassdoor listed irrelevant positions like \"Android Mobile Developer\" or \"Outside Sales Representative\" for a \"Data Engineer\" query, causing the number to drop further.<br><br>\n",
    "The final number of job entries is `3117` positions.<br>That spans countries in North America, Europe, South East Asia, and Oceania.<br><br>\n",
    "It is important to note that the data used in this analysis was obtained by separately scraping job postings for each country, which means that direct comparisons between countries may not be appropriate and the data should be interpreted with caution. Additionally, please keep in mind that there is a cap of 900 in the salary data for some countries, which may impact the accuracy of the comparison.\n",
    "<br><br>This project was inspired by [Ken Jee's work](https://github.com/PlayingNumbers), and the author would like to extend special thanks to him."
   ]
  },
  {
   "attachments": {},
   "cell_type": "markdown",
   "metadata": {},
   "source": [
    "## Table of content"
   ]
  },
  {
   "attachments": {},
   "cell_type": "markdown",
   "metadata": {},
   "source": [
    "# todo"
   ]
  },
  {
   "attachments": {},
   "cell_type": "markdown",
   "metadata": {},
   "source": [
    "## About the data"
   ]
  },
  {
   "attachments": {},
   "cell_type": "markdown",
   "metadata": {},
   "source": [
    "The whole dataset was scraped from [glassdoor.com](www.glassdoor.com)"
   ]
  },
  {
   "attachments": {},
   "cell_type": "markdown",
   "metadata": {},
   "source": [
    "<img src=\"doc\\images\\Glassdoor-Logo.png\"  width=\"60%\" height=\"60%\">"
   ]
  },
  {
   "attachments": {},
   "cell_type": "markdown",
   "metadata": {},
   "source": [
    "<div style=\"background-color: rgb(40, 40, 40); padding: 20px\">\n",
    "\"Our site offers millions of the latest job listings, combined with a growing database of company reviews, CEO approval ratings, salary reports, interview reviews and questions, benefits reviews, office photos, and more. Unlike other job sites, all of the information on our site is shared by those who know a company best - the employees.\"\n",
    "</div>"
   ]
  },
  {
   "attachments": {},
   "cell_type": "markdown",
   "metadata": {},
   "source": [
    "### Before Cleaning"
   ]
  },
  {
   "attachments": {},
   "cell_type": "markdown",
   "metadata": {},
   "source": [
    "In the RAW format, each job contains the following information:\n",
    "- Company_name\n",
    "- Rating\n",
    "- Location\n",
    "- Job_title\n",
    "- Description\n",
    "- Job_age\n",
    "- Easy_apply\n",
    "- Salary\n",
    "- Employees\n",
    "- Type_of_ownership\n",
    "- Sector\n",
    "- Founded\n",
    "- Industry\n",
    "- Revenue_USD\n",
    "- Friend_recommend\n",
    "- CEO_approval\n",
    "- Career_opportunities\n",
    "- Comp_&_benefits\n",
    "- Culture_&_values\n",
    "- Senior_management\n",
    "- Work/Life_balance\n",
    "- Pros\n",
    "- Cons\n",
    "- Benefits_rating\n",
    "- Benefits_reviews"
   ]
  },
  {
   "attachments": {},
   "cell_type": "markdown",
   "metadata": {},
   "source": [
    "### After Cleaning\n",
    "\n",
    "After cleaning and enriching data we have the following columns in multi-index:\n",
    "\n",
    "**Job_details**\n",
    "\n",
    "| columns | description (examples) | data type |\n",
    "|---|---|---|\n",
    "| Title                                             | Data Engineer, BI Engineer...                                     | string |\n",
    "| Description                                       | The description provided by company                               | string |\n",
    "| Seniority                                         | Junior, Mid, Senior, Management                                   | string |\n",
    "| City                                              | Los Angeles, e.g.                                                 | string |\n",
    "| State                                             | California, e.g.                                                  | string |\n",
    "| Country                                           | United States, e.g.                                               | string |\n",
    "| Region                                            | North America, e.g. (and Europe, South East Asia, Oceania)        | string |\n",
    "| Job_age                                           | 1 to 31 (max value, in that case it means \"31+ days\")                  |  int   |\n",
    "| Easy_apply                                        | Y/N (applying via glassdoor)                                      |  bool  |\n",
    "\n",
    "**Salary**<br>\n",
    "All float values are in USD\n",
    "| columns | description (examples) | data type |\n",
    "|---|---|---|\n",
    "| Min                                               | Minimal buck in local currency for the position in the company    | float  |\n",
    "| Max                                               | Maximal buck in local currency for the position in the company    | float  |\n",
    "| Avg                                               | The inner value between the minimal and the maximal               | float  |\n",
    "| Currency (ISO 3 letters standard)                 | The currency in which the salary is paid:<br>USD, EUR, CAD, DKK, HDK, NZD, NOK, PLN, RON, SGD, SEK, CHF, GBP   | string |\n",
    "| Employer_provided                                 | Y/N (Does the employer provide pay scale ranges)                  |  bool  |\n",
    "| Is_hourly                                         | Y/N (Paid by number of worked hours, or monthly)                  |  bool  |\n",
    "| Specified                                         | Y/N (Is or is not salary mentioned in the posting, includes also undefined)                 |  bool  |\n",
    "\n",
    "**Company_info**\n",
    "| columns | description (examples) | data type |\n",
    "|---|---|---|\n",
    "| Name                                          | The Great company Co., Ausgezeichnete Gmbh...                             | string|\n",
    "| Rating                                        | 0.0-5.0, The rating of the company                                        |  int  |\n",
    "| Employees                                     | 1 to 50, 51 to 200, 501 to 1000, 1001 to 5000, 5001 to 10000, 10000+      | string|\n",
    "| Type_of_ownership                             | Company - Private, Company - Public, Subs...                              | string|\n",
    "| Sector                                        | Information Technology, Human Resources & Staffing...                     | string|\n",
    "| Industry                                      | Information Technology Support Services, HR Consulting...                 | string|\n",
    "| Company_age                                   | 2, 12, 333... (The numbers of years in 2023)                              |  int  |\n",
    "| Revenue_USD                                   | Less than $1 million, $1 to $5 million                                    | string|\n",
    "| Friend_recommend                              | 0.00 to 1.00 (0% to 100%)                                                 | float |\n",
    "| CEO_approval                                  | 0.00 to 1.00 (0% to 100%)                                                 | float |\n",
    "| Career_opportunities                          | 0.0 to 5.0                                                                | float |\n",
    "| Comp_&_benefits                               | 0.0 to 5.0                                                                | float |\n",
    "| Senior_management                             | 0.0 to 5.0                                                                | float |\n",
    "| Work/Life_balance                             | 0.0 to 5.0                                                                | float |\n",
    "| Culture_&_values                              | 0.0 to 5.0                                                                | float |\n",
    "| Pros                                          | Pay good money, work isn't too difficult\" (in 2 reviews), ...             |list[str]|\n",
    "| Cons                                          | \"The pay could be better.\" (in 7 reviews), \"Boss culture\" (in 6 reviews)..|list[str]|\n",
    "| Benefits_rating                               | 0.0 to 5.0                                                                | float |\n",
    "| Benefits_reviews                              | 0.0 to 5.0                                                                | float |\n",
    "\n",
    "---\n",
    "\n",
    "(Below are the requirements extracted from the job description)\n",
    "\n",
    "**Education**\n",
    "\n",
    "| columns | description (examples) | data type |\n",
    "|---|---|---|\n",
    "| BA                                            | Y/N                                   |  bool  |\n",
    "| MS                                            | Y/N                                   |  bool  |\n",
    "| Phd                                           | Y/N                                   |  bool  |\n",
    "| Certificate                                | Nanodegree, DataCamp, ..., Other      | string |\n",
    "\n",
    "**Version_control**\n",
    "\n",
    "| columns | description (examples) | data type |\n",
    "|---|---|---|\n",
    "| Git                                           | Github, GitLab, ..., Git (subset of any previous) | string |\n",
    "\n",
    "**Cloud_platforms (Top 10)**\n",
    "\n",
    "| columns | description (examples) | data type |\n",
    "|---|---|---|\n",
    "| AWS                                           | Y/N   |  bool  |\n",
    "| Microsoft_Azure                               | Y/N   |  bool  |\n",
    "| GPC                                           | Y/N   |  bool  |\n",
    "| Alibaba                                       | Y/N   |  bool  |\n",
    "| Oracle                                        | Y/N   |  bool  |\n",
    "| IBM                                           | Y/N   |  bool  |\n",
    "| Tencent                                       | Y/N   |  bool  |\n",
    "| OVHcloud                                      | Y/N   |  bool  |\n",
    "| DigitalOcean                                  | Y/N   |  bool  |\n",
    "| Lincode                                       | Y/N   |  bool  |\n",
    "\n",
    "**RDBMS (Relational Database Management System)**\n",
    "\n",
    "| columns | description (examples) | data type |\n",
    "|---|---|---|\n",
    "| PostgreSQL                                    | Y/N |  bool  |\n",
    "| Microsoft_SQL_Server                          | Y/N |  bool  |\n",
    "| IBM_Db2                                       | Y/N |  bool  |\n",
    "| MySQL                                         | Y/N |  bool  |\n",
    "| Oracle_PL_SQL'                                | Y/N |  bool  |\n",
    "\n",
    "**NOSQL (not only SQL)**\n",
    "\n",
    "| columns | description (examples) | data type |\n",
    "|---|---|---|\n",
    "| MongoDB                                       | Y/N |  bool  |\n",
    "| Cassandra                                     | Y/N |  bool  |\n",
    "| Amazon_DynamoDB                               | Y/N |  bool  | \n",
    "| Neo4j                                         | Y/N |  bool  |\n",
    "\n",
    "**Search_&_Analytics**\n",
    "\n",
    "| columns | description (examples) | data type |\n",
    "|---|---|---|\n",
    "| Apache_Solr                                   | Y/N |  bool  |\n",
    "| Amazon_Redshift                               | Y/N |  bool  |\n",
    "| Google_BigQuery                               | Y/N |  bool  |\n",
    "| Snowflake                                     | Y/N |  bool  |\n",
    "| Oracle_Exadata                                | Y/N |  bool  |\n",
    "| SAP_HANA                                      | Y/N |  bool  |\n",
    "| Teradata                                      | Y/N |  bool  |\n",
    "\n",
    "**Data_integration_and_processing**\n",
    "\n",
    "| columns | description (examples) | data type |\n",
    "|---|---|---|\n",
    "| Informatica_PowerCenter                       | Y/N |  bool  |\n",
    "| Databricks                                    | Y/N |  bool  |\n",
    "| Presto                                        | Y/N |  bool  |\n",
    "\n",
    "**Stream_processing_tools**\n",
    "\n",
    "| columns | description (examples) | data type |\n",
    "|---|---|---|\n",
    "| Apache_Kafka                                  | Y/N |  bool  |     \n",
    "| Apache_Flink                                  | Y/N |  bool  |\n",
    "| Dataflow                                      | Y/N |  bool  |\n",
    "\n",
    "**Workflow_orchestration_tools**\n",
    "\n",
    "| columns | description (examples) | data type |\n",
    "|---|---|---|\n",
    "| Apache_Airflow                                | Y/N |  bool  |\n",
    "| Luigi                                         | Y/N |  bool  |\n",
    "| SSIS                                          | Y/N |  bool  |\n",
    "\n",
    "**Big_Data_processing**\n",
    "\n",
    "| columns | description (examples) | data type |\n",
    "|---|---|---|\n",
    "| Apache_Hadoop                                 | Y/N |  bool  |\n",
    "| Apache_Hive                                   | Y/N |  bool  |\n",
    "| Apache_Spark                                  | Y/N |  bool  |\n",
    "\n",
    "**OS**\n",
    "(Operating system/systems)\n",
    "\n",
    "| columns | description (examples) | data type |\n",
    "|---|---|---|\n",
    "| Linux                                         | Y/N |  bool  |\n",
    "| Unix                                          | Y/N |  bool  |\n",
    "| Windows                                       | Y/N |  bool  |\n",
    "| macOS                                         | Y/N |  bool  |\n",
    "\n",
    "**Programming_languages**\n",
    "\n",
    "| columns | description (examples) | data type |\n",
    "|---|---|---|\n",
    "| Python                                        | Y/N |  bool  |\n",
    "| R                                             | Y/N |  bool  |\n",
    "| Scala                                         | Y/N |  bool  |\n",
    "| Julia                                         | Y/N |  bool  |\n",
    "| SQL                                           | Y/N |  bool  |\n",
    "| Java                                          | Y/N |  bool  |\n",
    "| C++                                           | Y/N |  bool  |\n",
    "| Go                                            | Y/N |  bool  |\n",
    "| Bash                                          | Y/N |  bool  |\n",
    "| PowerShell                                    | Y/N |  bool  |\n",
    "| CLI                                           | Y/N |  bool  |\n",
    "\n",
    "**Business_Intelligence_Tools**\n",
    "\n",
    "| columns | description (examples) | data type |\n",
    "|---|---|---|\n",
    "| Tableau                                       | Y/N |  bool  |\n",
    "| Power_BI                                      | Y/N |  bool  |\n",
    "| Google_Analytics                              | Y/N |  bool  |\n",
    "| QlikView                                      | Y/N |  bool  |\n",
    "| Oracle_BI_server                              | Y/N |  bool  |\n",
    "| SAS_Analytics                                 | Y/N |  bool  |\n",
    "| Lumira                                        | Y/N |  bool  |\n",
    "| Cognos_Impromptu                              | Y/N |  bool  |\n",
    "| MicroStrategy                                 | Y/N |  bool  |\n",
    "| InsightSquared                                | Y/N |  bool  |\n",
    "| Sisense                                       | Y/N |  bool  |\n",
    "| Dundas_BI                                     | Y/N |  bool  |\n",
    "| Domo                                          | Y/N |  bool  |\n",
    "| Looker                                        | Y/N |  bool  |\n",
    "| Excel                                         | Y/N |  bool  |"
   ]
  },
  {
   "attachments": {},
   "cell_type": "markdown",
   "metadata": {},
   "source": [
    "### Basic Exploration"
   ]
  },
  {
   "cell_type": "code",
   "execution_count": 1,
   "metadata": {},
   "outputs": [],
   "source": [
    "import numpy as np\n",
    "import pandas as pd\n",
    "import seaborn as sns\n",
    "import matplotlib.pyplot as plt\n",
    "import plotly.express as px\n",
    "from pathlib import Path\n",
    "\n",
    "import warnings\n",
    "warnings.filterwarnings('ignore')"
   ]
  },
  {
   "cell_type": "code",
   "execution_count": 2,
   "metadata": {},
   "outputs": [],
   "source": [
    "file_path = Path(\"data\\clean\\Data_Engineer\\Data_Engineer_15-04-2023.csv\")\n",
    "data = pd.read_csv(file_path, index_col=0, header=[0, 1])"
   ]
  },
  {
   "cell_type": "code",
   "execution_count": 3,
   "metadata": {},
   "outputs": [
    {
     "name": "stdout",
     "output_type": "stream",
     "text": [
      "Summary Of The Numerical Data:\n"
     ]
    },
    {
     "data": {
      "text/html": [
       "<div>\n",
       "<style scoped>\n",
       "    .dataframe tbody tr th:only-of-type {\n",
       "        vertical-align: middle;\n",
       "    }\n",
       "\n",
       "    .dataframe tbody tr th {\n",
       "        vertical-align: top;\n",
       "    }\n",
       "\n",
       "    .dataframe thead tr th {\n",
       "        text-align: left;\n",
       "    }\n",
       "</style>\n",
       "<table border=\"1\" class=\"dataframe\">\n",
       "  <thead>\n",
       "    <tr>\n",
       "      <th></th>\n",
       "      <th>Job_details</th>\n",
       "      <th colspan=\"3\" halign=\"left\">Salary</th>\n",
       "      <th colspan=\"10\" halign=\"left\">Company_info</th>\n",
       "    </tr>\n",
       "    <tr>\n",
       "      <th></th>\n",
       "      <th>Job_age</th>\n",
       "      <th>Min</th>\n",
       "      <th>Max</th>\n",
       "      <th>Avg</th>\n",
       "      <th>Rating</th>\n",
       "      <th>Company_age</th>\n",
       "      <th>Friend_recommend</th>\n",
       "      <th>CEO_approval</th>\n",
       "      <th>Career_opportunities</th>\n",
       "      <th>Comp_&amp;_benefits</th>\n",
       "      <th>Senior_management</th>\n",
       "      <th>Work/Life_balance</th>\n",
       "      <th>Culture_&amp;_values</th>\n",
       "      <th>Benefits_rating</th>\n",
       "    </tr>\n",
       "  </thead>\n",
       "  <tbody>\n",
       "    <tr>\n",
       "      <th>count</th>\n",
       "      <td>3094.00000</td>\n",
       "      <td>765.000000</td>\n",
       "      <td>769.000000</td>\n",
       "      <td>765.000000</td>\n",
       "      <td>2597.000000</td>\n",
       "      <td>1721.000000</td>\n",
       "      <td>2497.000000</td>\n",
       "      <td>1692.000000</td>\n",
       "      <td>2540.000000</td>\n",
       "      <td>2537.000000</td>\n",
       "      <td>2536.000000</td>\n",
       "      <td>2536.000000</td>\n",
       "      <td>2535.000000</td>\n",
       "      <td>1174.000000</td>\n",
       "    </tr>\n",
       "    <tr>\n",
       "      <th>mean</th>\n",
       "      <td>22.51616</td>\n",
       "      <td>81633.309804</td>\n",
       "      <td>103310.979194</td>\n",
       "      <td>92612.167974</td>\n",
       "      <td>3.971506</td>\n",
       "      <td>47.753051</td>\n",
       "      <td>0.775751</td>\n",
       "      <td>0.841070</td>\n",
       "      <td>3.715157</td>\n",
       "      <td>3.654158</td>\n",
       "      <td>3.621491</td>\n",
       "      <td>3.807374</td>\n",
       "      <td>3.843787</td>\n",
       "      <td>3.956899</td>\n",
       "    </tr>\n",
       "    <tr>\n",
       "      <th>std</th>\n",
       "      <td>10.77028</td>\n",
       "      <td>39400.680794</td>\n",
       "      <td>42295.539610</td>\n",
       "      <td>38824.046315</td>\n",
       "      <td>0.560854</td>\n",
       "      <td>52.649820</td>\n",
       "      <td>0.158424</td>\n",
       "      <td>0.148993</td>\n",
       "      <td>0.593548</td>\n",
       "      <td>0.627441</td>\n",
       "      <td>0.664857</td>\n",
       "      <td>0.595417</td>\n",
       "      <td>0.632586</td>\n",
       "      <td>0.647850</td>\n",
       "    </tr>\n",
       "    <tr>\n",
       "      <th>min</th>\n",
       "      <td>1.00000</td>\n",
       "      <td>20240.000000</td>\n",
       "      <td>20240.000000</td>\n",
       "      <td>20240.000000</td>\n",
       "      <td>1.000000</td>\n",
       "      <td>2.000000</td>\n",
       "      <td>0.090000</td>\n",
       "      <td>0.130000</td>\n",
       "      <td>1.000000</td>\n",
       "      <td>1.000000</td>\n",
       "      <td>1.000000</td>\n",
       "      <td>1.000000</td>\n",
       "      <td>1.000000</td>\n",
       "      <td>1.000000</td>\n",
       "    </tr>\n",
       "    <tr>\n",
       "      <th>25%</th>\n",
       "      <td>13.00000</td>\n",
       "      <td>53064.000000</td>\n",
       "      <td>72372.000000</td>\n",
       "      <td>62511.000000</td>\n",
       "      <td>3.700000</td>\n",
       "      <td>15.000000</td>\n",
       "      <td>0.690000</td>\n",
       "      <td>0.780000</td>\n",
       "      <td>3.400000</td>\n",
       "      <td>3.300000</td>\n",
       "      <td>3.200000</td>\n",
       "      <td>3.400000</td>\n",
       "      <td>3.500000</td>\n",
       "      <td>3.700000</td>\n",
       "    </tr>\n",
       "    <tr>\n",
       "      <th>50%</th>\n",
       "      <td>31.00000</td>\n",
       "      <td>72513.000000</td>\n",
       "      <td>95090.000000</td>\n",
       "      <td>83764.500000</td>\n",
       "      <td>4.000000</td>\n",
       "      <td>28.000000</td>\n",
       "      <td>0.800000</td>\n",
       "      <td>0.880000</td>\n",
       "      <td>3.700000</td>\n",
       "      <td>3.700000</td>\n",
       "      <td>3.600000</td>\n",
       "      <td>3.800000</td>\n",
       "      <td>3.900000</td>\n",
       "      <td>4.000000</td>\n",
       "    </tr>\n",
       "    <tr>\n",
       "      <th>75%</th>\n",
       "      <td>31.00000</td>\n",
       "      <td>105763.000000</td>\n",
       "      <td>131000.000000</td>\n",
       "      <td>119500.000000</td>\n",
       "      <td>4.300000</td>\n",
       "      <td>56.000000</td>\n",
       "      <td>0.890000</td>\n",
       "      <td>0.940000</td>\n",
       "      <td>4.000000</td>\n",
       "      <td>4.000000</td>\n",
       "      <td>4.000000</td>\n",
       "      <td>4.200000</td>\n",
       "      <td>4.200000</td>\n",
       "      <td>4.300000</td>\n",
       "    </tr>\n",
       "    <tr>\n",
       "      <th>max</th>\n",
       "      <td>31.00000</td>\n",
       "      <td>325704.000000</td>\n",
       "      <td>271429.000000</td>\n",
       "      <td>227541.000000</td>\n",
       "      <td>5.000000</td>\n",
       "      <td>333.000000</td>\n",
       "      <td>1.000000</td>\n",
       "      <td>1.000000</td>\n",
       "      <td>5.000000</td>\n",
       "      <td>5.000000</td>\n",
       "      <td>5.000000</td>\n",
       "      <td>5.000000</td>\n",
       "      <td>5.000000</td>\n",
       "      <td>5.000000</td>\n",
       "    </tr>\n",
       "  </tbody>\n",
       "</table>\n",
       "</div>"
      ],
      "text/plain": [
       "      Job_details         Salary                               Company_info  \\\n",
       "          Job_age            Min            Max            Avg       Rating   \n",
       "count  3094.00000     765.000000     769.000000     765.000000  2597.000000   \n",
       "mean     22.51616   81633.309804  103310.979194   92612.167974     3.971506   \n",
       "std      10.77028   39400.680794   42295.539610   38824.046315     0.560854   \n",
       "min       1.00000   20240.000000   20240.000000   20240.000000     1.000000   \n",
       "25%      13.00000   53064.000000   72372.000000   62511.000000     3.700000   \n",
       "50%      31.00000   72513.000000   95090.000000   83764.500000     4.000000   \n",
       "75%      31.00000  105763.000000  131000.000000  119500.000000     4.300000   \n",
       "max      31.00000  325704.000000  271429.000000  227541.000000     5.000000   \n",
       "\n",
       "                                                                       \\\n",
       "       Company_age Friend_recommend CEO_approval Career_opportunities   \n",
       "count  1721.000000      2497.000000  1692.000000          2540.000000   \n",
       "mean     47.753051         0.775751     0.841070             3.715157   \n",
       "std      52.649820         0.158424     0.148993             0.593548   \n",
       "min       2.000000         0.090000     0.130000             1.000000   \n",
       "25%      15.000000         0.690000     0.780000             3.400000   \n",
       "50%      28.000000         0.800000     0.880000             3.700000   \n",
       "75%      56.000000         0.890000     0.940000             4.000000   \n",
       "max     333.000000         1.000000     1.000000             5.000000   \n",
       "\n",
       "                                                                            \\\n",
       "      Comp_&_benefits Senior_management Work/Life_balance Culture_&_values   \n",
       "count     2537.000000       2536.000000       2536.000000      2535.000000   \n",
       "mean         3.654158          3.621491          3.807374         3.843787   \n",
       "std          0.627441          0.664857          0.595417         0.632586   \n",
       "min          1.000000          1.000000          1.000000         1.000000   \n",
       "25%          3.300000          3.200000          3.400000         3.500000   \n",
       "50%          3.700000          3.600000          3.800000         3.900000   \n",
       "75%          4.000000          4.000000          4.200000         4.200000   \n",
       "max          5.000000          5.000000          5.000000         5.000000   \n",
       "\n",
       "                       \n",
       "      Benefits_rating  \n",
       "count     1174.000000  \n",
       "mean         3.956899  \n",
       "std          0.647850  \n",
       "min          1.000000  \n",
       "25%          3.700000  \n",
       "50%          4.000000  \n",
       "75%          4.300000  \n",
       "max          5.000000  "
      ]
     },
     "execution_count": 3,
     "metadata": {},
     "output_type": "execute_result"
    }
   ],
   "source": [
    "print(f\"Summary Of The Numerical Data:\")\n",
    "data.describe()"
   ]
  },
  {
   "cell_type": "code",
   "execution_count": 4,
   "metadata": {},
   "outputs": [],
   "source": [
    "from typing import Literal\n",
    "\n",
    "def show_percentages(df: pd.DataFrame, type: Literal[\"bool\", \"string\"] = \"bool\"):\n",
    "\n",
    "    def to_percent(percentages: pd.DataFrame):\n",
    "        return percentages.apply(lambda x: f'{x:.2%}')\n",
    "\n",
    "    total_jobs = len(df)\n",
    "    print(f\"Number of jobs: {total_jobs}\\n\")\n",
    "\n",
    "    result_df = None\n",
    "\n",
    "    if type == \"bool\":\n",
    "\n",
    "        summed = df.sum()\n",
    "        percentages = df.mean()\n",
    "        percentages_str = to_percent(percentages)\n",
    "        result_df = pd.DataFrame({'Percentage of True Values': percentages_str, 'Occurrence': summed})\n",
    "\n",
    "        num_of_none = (df == False).all(axis=1).sum()\n",
    "        percentages_none = (num_of_none / total_jobs)\n",
    "        percentages_none_str = f'{percentages_none:.2%}'\n",
    "\n",
    "        result_df = result_df.append(pd.DataFrame({'Percentage of True Values': percentages_none_str, 'Occurrence': num_of_none}, index=[\"None\"]))\n",
    "\n",
    "        result_df.sort_values(ascending=False, by=['Occurrence'], inplace=True)\n",
    "\n",
    "    elif type == \"string\":\n",
    "\n",
    "        summed = df.value_counts()\n",
    "        percentages = (df.value_counts() / total_jobs)\n",
    "        percentages.sort_values(ascending=False, inplace=True)\n",
    "        percentages_str = to_percent(percentages)\n",
    "        result_df = pd.DataFrame({'Percentage of True Values': percentages_str, 'Occurrence': summed})\n",
    "\n",
    "        num_of_none = df.isna().sum(skipna=False)\n",
    "        percentages_none = (num_of_none / total_jobs)\n",
    "        percentages_none_str = f'{percentages_none:.2%}'\n",
    "\n",
    "        result_df = result_df.append(pd.DataFrame({'Percentage of True Values': percentages_none_str, 'Occurrence': num_of_none}, index=[\"None\"]))\n",
    "       \n",
    "\n",
    "        result_df.sort_values(ascending=False, by=['Occurrence'], inplace=True)\n",
    "\n",
    "    else:\n",
    "        raise KeyError(f\"Invalid type:\\n{type}\")      \n",
    "\n",
    "    print(result_df)\n"
   ]
  },
  {
   "cell_type": "code",
   "execution_count": 5,
   "metadata": {},
   "outputs": [
    {
     "name": "stdout",
     "output_type": "stream",
     "text": [
      "Summary Of The Job Details:\n"
     ]
    },
    {
     "data": {
      "text/html": [
       "<div>\n",
       "<style scoped>\n",
       "    .dataframe tbody tr th:only-of-type {\n",
       "        vertical-align: middle;\n",
       "    }\n",
       "\n",
       "    .dataframe tbody tr th {\n",
       "        vertical-align: top;\n",
       "    }\n",
       "\n",
       "    .dataframe thead th {\n",
       "        text-align: right;\n",
       "    }\n",
       "</style>\n",
       "<table border=\"1\" class=\"dataframe\">\n",
       "  <thead>\n",
       "    <tr style=\"text-align: right;\">\n",
       "      <th></th>\n",
       "      <th>Title</th>\n",
       "      <th>Description</th>\n",
       "      <th>Seniority</th>\n",
       "      <th>City</th>\n",
       "      <th>State</th>\n",
       "      <th>Country</th>\n",
       "      <th>Region</th>\n",
       "    </tr>\n",
       "  </thead>\n",
       "  <tbody>\n",
       "    <tr>\n",
       "      <th>count</th>\n",
       "      <td>3094</td>\n",
       "      <td>3094</td>\n",
       "      <td>678</td>\n",
       "      <td>2956</td>\n",
       "      <td>270</td>\n",
       "      <td>3094</td>\n",
       "      <td>3094</td>\n",
       "    </tr>\n",
       "    <tr>\n",
       "      <th>unique</th>\n",
       "      <td>1904</td>\n",
       "      <td>2947</td>\n",
       "      <td>4</td>\n",
       "      <td>558</td>\n",
       "      <td>39</td>\n",
       "      <td>32</td>\n",
       "      <td>4</td>\n",
       "    </tr>\n",
       "    <tr>\n",
       "      <th>top</th>\n",
       "      <td>Data Engineer</td>\n",
       "      <td>Canonical is building a comprehensive automati...</td>\n",
       "      <td>Senior</td>\n",
       "      <td>Tel Aviv-Yafo</td>\n",
       "      <td>England</td>\n",
       "      <td>Israel</td>\n",
       "      <td>Europe</td>\n",
       "    </tr>\n",
       "    <tr>\n",
       "      <th>freq</th>\n",
       "      <td>558</td>\n",
       "      <td>12</td>\n",
       "      <td>495</td>\n",
       "      <td>146</td>\n",
       "      <td>72</td>\n",
       "      <td>252</td>\n",
       "      <td>2363</td>\n",
       "    </tr>\n",
       "  </tbody>\n",
       "</table>\n",
       "</div>"
      ],
      "text/plain": [
       "                Title                                        Description  \\\n",
       "count            3094                                               3094   \n",
       "unique           1904                                               2947   \n",
       "top     Data Engineer  Canonical is building a comprehensive automati...   \n",
       "freq              558                                                 12   \n",
       "\n",
       "       Seniority           City     State Country  Region  \n",
       "count        678           2956       270    3094    3094  \n",
       "unique         4            558        39      32       4  \n",
       "top       Senior  Tel Aviv-Yafo   England  Israel  Europe  \n",
       "freq         495            146        72     252    2363  "
      ]
     },
     "execution_count": 5,
     "metadata": {},
     "output_type": "execute_result"
    }
   ],
   "source": [
    "print(f\"Summary Of The Job Details:\")\n",
    "data['Job_details'].describe(include=object)"
   ]
  },
  {
   "cell_type": "code",
   "execution_count": 6,
   "metadata": {},
   "outputs": [
    {
     "name": "stdout",
     "output_type": "stream",
     "text": [
      "Seniority Required:\n",
      "Number of jobs: 3094\n",
      "\n",
      "           Percentage of True Values  Occurrence\n",
      "None                          78.09%        2416\n",
      "Senior                        16.00%         495\n",
      "Junior                         3.56%         110\n",
      "Management                     1.52%          47\n",
      "Mid                            0.84%          26\n"
     ]
    }
   ],
   "source": [
    "print(f\"Seniority Required:\")\n",
    "show_percentages(data['Job_details']['Seniority'], \"string\")"
   ]
  },
  {
   "cell_type": "code",
   "execution_count": 7,
   "metadata": {},
   "outputs": [
    {
     "name": "stdout",
     "output_type": "stream",
     "text": [
      "Offers Per Country (keep in mind that samples per country are taken independently, and they are after cleaning and dropping duplicates):\n"
     ]
    },
    {
     "data": {
      "text/plain": [
       "Israel            252\n",
       "United_States     241\n",
       "France            227\n",
       "Portugal          189\n",
       "Germany           164\n",
       "Sweden            145\n",
       "Austria           139\n",
       "Singapore         134\n",
       "Spain             126\n",
       "Romania           123\n",
       "United_Kingdom    118\n",
       "Poland            109\n",
       "Hong_Kong         105\n",
       "Denmark            91\n",
       "Hungary            86\n",
       "Italy              80\n",
       "Ireland            75\n",
       "Czech_Republic     68\n",
       "Australia          67\n",
       "Belgium            64\n",
       "Switzerland        60\n",
       "Finland            58\n",
       "Greece             56\n",
       "New_Zealand        52\n",
       "South_Korea        46\n",
       "Japan              42\n",
       "Netherlands        40\n",
       "Taiwan             40\n",
       "Luxembourg         40\n",
       "Norway             31\n",
       "Turkey             22\n",
       "Canada              4\n",
       "Name: Country, dtype: int64"
      ]
     },
     "execution_count": 7,
     "metadata": {},
     "output_type": "execute_result"
    }
   ],
   "source": [
    "print(f\"Offers Per Country (keep in mind that samples per country are taken independently, and they are after cleaning and dropping duplicates):\")\n",
    "data['Job_details']['Country'].value_counts()"
   ]
  },
  {
   "cell_type": "code",
   "execution_count": 8,
   "metadata": {},
   "outputs": [
    {
     "name": "stdout",
     "output_type": "stream",
     "text": [
      "Offers Per City:\n"
     ]
    },
    {
     "data": {
      "text/plain": [
       "Tel Aviv-Yafo    146\n",
       "Singapore        128\n",
       "Portugal         119\n",
       "Remote           100\n",
       "Hong Kong         88\n",
       "Bucharest         87\n",
       "Paris             85\n",
       "Israel            82\n",
       "Stockholm         80\n",
       "Vienna            71\n",
       "Name: City, dtype: int64"
      ]
     },
     "execution_count": 8,
     "metadata": {},
     "output_type": "execute_result"
    }
   ],
   "source": [
    "print(f\"Offers Per City:\")\n",
    "data['Job_details']['City'].value_counts()[:10]"
   ]
  },
  {
   "cell_type": "code",
   "execution_count": 9,
   "metadata": {},
   "outputs": [
    {
     "name": "stdout",
     "output_type": "stream",
     "text": [
      "Offers Remote:\n",
      "\n",
      "    Remote offers:\n",
      "    100\n",
      "    3.23%\n",
      "\n",
      "    Offers Onsite:\n",
      "    2856\n",
      "    92.31%\n",
      "\n",
      "    Unknown precise location:\n",
      "    138\n",
      "    4.46%\n",
      "    \n"
     ]
    }
   ],
   "source": [
    "print(f\"Offers Remote:\")\n",
    "\n",
    "job_total = len(data)\n",
    "num_remote = (data['Job_details']['City'] == 'Remote').sum()\n",
    "num_nan_locations = data['Job_details']['City'].isna().sum()\n",
    "num_onsite = job_total - (num_remote + num_nan_locations)\n",
    "\n",
    "print(\n",
    "    f\"\"\"\n",
    "    Remote offers:\n",
    "    {num_remote}\n",
    "    {(num_remote / job_total):.2%}\n",
    "\n",
    "    Offers Onsite:\n",
    "    {num_onsite}\n",
    "    {(num_onsite / job_total):.2%}\n",
    "\n",
    "    Unknown precise location:\n",
    "    {num_nan_locations}\n",
    "    {(num_nan_locations / job_total):.2%}\n",
    "    \"\"\"\n",
    ")\n",
    "\n",
    "del num_remote, job_total, num_nan_locations"
   ]
  },
  {
   "cell_type": "code",
   "execution_count": 10,
   "metadata": {},
   "outputs": [
    {
     "name": "stdout",
     "output_type": "stream",
     "text": [
      "Jobs ages in days (31 is 31+ days):\n",
      "\n",
      "Number of jobs: 3094\n",
      "\n",
      "     Percentage of True Values  Occurrence\n",
      "31                      53.72%        1662\n",
      "1                        5.59%         173\n",
      "13                       4.04%         125\n",
      "14                       2.46%          76\n",
      "7                        2.42%          75\n",
      "8                        2.33%          72\n",
      "6                        2.29%          71\n",
      "11                       1.81%          56\n",
      "5                        1.81%          56\n",
      "15                       1.58%          49\n",
      "19                       1.55%          48\n",
      "20                       1.52%          47\n",
      "12                       1.49%          46\n",
      "28                       1.45%          45\n",
      "21                       1.45%          45\n",
      "2                        1.42%          44\n",
      "22                       1.33%          41\n",
      "26                       1.26%          39\n",
      "18                       1.23%          38\n",
      "10                       1.10%          34\n",
      "27                       1.07%          33\n",
      "4                        0.97%          30\n",
      "9                        0.94%          29\n",
      "3                        0.84%          26\n",
      "25                       0.78%          24\n",
      "29                       0.74%          23\n",
      "17                       0.71%          22\n",
      "16                       0.61%          19\n",
      "30                       0.55%          17\n",
      "23                       0.48%          15\n",
      "24                       0.45%          14\n",
      "None                     0.00%           0\n"
     ]
    }
   ],
   "source": [
    "print(f\"Jobs ages in days (31 is 31+ days):\\n\")\n",
    "show_percentages(data['Job_details']['Job_age'], \"string\")"
   ]
  },
  {
   "cell_type": "code",
   "execution_count": 11,
   "metadata": {},
   "outputs": [],
   "source": [
    "def show_distribution(data: pd.DataFrame, title: str):\n",
    "\n",
    "    with plt.style.context('seaborn'):\n",
    "        fig, ax = plt.subplots(figsize=(8, 5))\n",
    "        ax.set_title(f'Distribution of {title}', size=16)\n",
    "        sns.distplot(data, ax=ax, color=\"purple\")\n",
    "        plt.show()\n",
    "    "
   ]
  },
  {
   "cell_type": "code",
   "execution_count": 12,
   "metadata": {},
   "outputs": [
    {
     "data": {
      "image/png": "[encoded data removed]",
      "text/plain": [
       "<Figure size 800x500 with 1 Axes>"
      ]
     },
     "metadata": {},
     "output_type": "display_data"
    }
   ],
   "source": [
    "show_distribution(data['Job_details']['Job_age'], \"Job Ages\")"
   ]
  },
  {
   "cell_type": "code",
   "execution_count": 13,
   "metadata": {},
   "outputs": [
    {
     "name": "stdout",
     "output_type": "stream",
     "text": [
      "Apply via Glassdoor:\n",
      "\n",
      "    Easy apply:\n",
      "    Y: 713   23.04%\n",
      "    N: 2381  76.96%\n",
      "    \n"
     ]
    }
   ],
   "source": [
    "print(f\"Apply via Glassdoor:\")\n",
    "\n",
    "jobs_total = len(data)\n",
    "easy_apply = {\n",
    "    \"Y\": data['Job_details']['Easy_apply'].sum(),\n",
    "    \"N\": (~data['Job_details']['Easy_apply']).sum(),\n",
    "}\n",
    "\n",
    "print(\n",
    "    f\"\"\"\n",
    "    Easy apply:\n",
    "    Y: {easy_apply['Y']}   {(easy_apply['Y'] / jobs_total):.2%}\n",
    "    N: {easy_apply['N']}  {(easy_apply['N'] / jobs_total):.2%}\n",
    "    \"\"\"\n",
    ")\n",
    "\n",
    "del jobs_total, easy_apply"
   ]
  },
  {
   "cell_type": "code",
   "execution_count": 14,
   "metadata": {},
   "outputs": [
    {
     "name": "stdout",
     "output_type": "stream",
     "text": [
      "Salaries Currencies:\n"
     ]
    },
    {
     "data": {
      "text/html": [
       "<div>\n",
       "<style scoped>\n",
       "    .dataframe tbody tr th:only-of-type {\n",
       "        vertical-align: middle;\n",
       "    }\n",
       "\n",
       "    .dataframe tbody tr th {\n",
       "        vertical-align: top;\n",
       "    }\n",
       "\n",
       "    .dataframe thead th {\n",
       "        text-align: right;\n",
       "    }\n",
       "</style>\n",
       "<table border=\"1\" class=\"dataframe\">\n",
       "  <thead>\n",
       "    <tr style=\"text-align: right;\">\n",
       "      <th></th>\n",
       "      <th>Currency</th>\n",
       "    </tr>\n",
       "  </thead>\n",
       "  <tbody>\n",
       "    <tr>\n",
       "      <th>count</th>\n",
       "      <td>776</td>\n",
       "    </tr>\n",
       "    <tr>\n",
       "      <th>unique</th>\n",
       "      <td>15</td>\n",
       "    </tr>\n",
       "    <tr>\n",
       "      <th>top</th>\n",
       "      <td>EUR</td>\n",
       "    </tr>\n",
       "    <tr>\n",
       "      <th>freq</th>\n",
       "      <td>235</td>\n",
       "    </tr>\n",
       "  </tbody>\n",
       "</table>\n",
       "</div>"
      ],
      "text/plain": [
       "       Currency\n",
       "count       776\n",
       "unique       15\n",
       "top         EUR\n",
       "freq        235"
      ]
     },
     "execution_count": 14,
     "metadata": {},
     "output_type": "execute_result"
    }
   ],
   "source": [
    "print(f\"Salaries Currencies:\")\n",
    "\n",
    "data['Salary'].describe(include=object)"
   ]
  },
  {
   "cell_type": "code",
   "execution_count": 15,
   "metadata": {},
   "outputs": [
    {
     "name": "stdout",
     "output_type": "stream",
     "text": [
      "Salaries Specified:\n"
     ]
    },
    {
     "data": {
      "text/plain": [
       "False    74.92%\n",
       "True     25.08%\n",
       "Name: Specified, dtype: object"
      ]
     },
     "execution_count": 15,
     "metadata": {},
     "output_type": "execute_result"
    }
   ],
   "source": [
    "print(f\"Salaries Specified:\")\n",
    "data['Salary']['Specified'].value_counts(dropna=False).map(lambda n: '{:,.2%}'.format(n / len(data)))"
   ]
  },
  {
   "cell_type": "code",
   "execution_count": 16,
   "metadata": {},
   "outputs": [
    {
     "name": "stdout",
     "output_type": "stream",
     "text": [
      "Salaries Provided by Employer:\n"
     ]
    },
    {
     "data": {
      "text/plain": [
       "False    83.68%\n",
       "True     16.32%\n",
       "Name: Employer_provided, dtype: object"
      ]
     },
     "execution_count": 16,
     "metadata": {},
     "output_type": "execute_result"
    }
   ],
   "source": [
    "print(f\"Salaries Provided by Employer:\")\n",
    "\n",
    "data['Salary']['Employer_provided'].value_counts(dropna=False).map(lambda n: '{:,.2%}'.format(n / len(data)))"
   ]
  },
  {
   "cell_type": "code",
   "execution_count": 17,
   "metadata": {},
   "outputs": [
    {
     "name": "stdout",
     "output_type": "stream",
     "text": [
      "Salaries Paid Hourly:\n"
     ]
    },
    {
     "data": {
      "text/plain": [
       "False    94.41%\n",
       "True      5.59%\n",
       "Name: Is_hourly, dtype: object"
      ]
     },
     "execution_count": 17,
     "metadata": {},
     "output_type": "execute_result"
    }
   ],
   "source": [
    "print(f\"Salaries Paid Hourly:\")\n",
    "\n",
    "data['Salary']['Is_hourly'].value_counts(dropna=False).map(lambda n: '{:,.2%}'.format(n / len(data)))"
   ]
  },
  {
   "cell_type": "code",
   "execution_count": 18,
   "metadata": {},
   "outputs": [
    {
     "name": "stdout",
     "output_type": "stream",
     "text": [
      "Summary of Company Info Data:\n"
     ]
    },
    {
     "data": {
      "text/html": [
       "<div>\n",
       "<style scoped>\n",
       "    .dataframe tbody tr th:only-of-type {\n",
       "        vertical-align: middle;\n",
       "    }\n",
       "\n",
       "    .dataframe tbody tr th {\n",
       "        vertical-align: top;\n",
       "    }\n",
       "\n",
       "    .dataframe thead th {\n",
       "        text-align: right;\n",
       "    }\n",
       "</style>\n",
       "<table border=\"1\" class=\"dataframe\">\n",
       "  <thead>\n",
       "    <tr style=\"text-align: right;\">\n",
       "      <th></th>\n",
       "      <th>Name</th>\n",
       "      <th>Employees</th>\n",
       "      <th>Type_of_ownership</th>\n",
       "      <th>Sector</th>\n",
       "      <th>Industry</th>\n",
       "      <th>Revenue_USD</th>\n",
       "      <th>Pros</th>\n",
       "      <th>Cons</th>\n",
       "      <th>Benefits_reviews</th>\n",
       "    </tr>\n",
       "  </thead>\n",
       "  <tbody>\n",
       "    <tr>\n",
       "      <th>count</th>\n",
       "      <td>3094</td>\n",
       "      <td>2493</td>\n",
       "      <td>2637</td>\n",
       "      <td>2094</td>\n",
       "      <td>2094</td>\n",
       "      <td>1278</td>\n",
       "      <td>2404</td>\n",
       "      <td>2404</td>\n",
       "      <td>785</td>\n",
       "    </tr>\n",
       "    <tr>\n",
       "      <th>unique</th>\n",
       "      <td>1941</td>\n",
       "      <td>7</td>\n",
       "      <td>11</td>\n",
       "      <td>24</td>\n",
       "      <td>80</td>\n",
       "      <td>9</td>\n",
       "      <td>1420</td>\n",
       "      <td>1194</td>\n",
       "      <td>351</td>\n",
       "    </tr>\n",
       "    <tr>\n",
       "      <th>top</th>\n",
       "      <td>Gotfriends</td>\n",
       "      <td>10000+</td>\n",
       "      <td>Company - Private</td>\n",
       "      <td>Information Technology</td>\n",
       "      <td>Information Technology Support Services</td>\n",
       "      <td>$10+ billion</td>\n",
       "      <td>['\"Good people and good managers.\" (in 3 revie...</td>\n",
       "      <td>['No Cons have been reported by the Glassdoor ...</td>\n",
       "      <td>['401K Plan (573 comments)\\n\"6% Match best in ...</td>\n",
       "    </tr>\n",
       "    <tr>\n",
       "      <th>freq</th>\n",
       "      <td>100</td>\n",
       "      <td>679</td>\n",
       "      <td>1540</td>\n",
       "      <td>785</td>\n",
       "      <td>346</td>\n",
       "      <td>374</td>\n",
       "      <td>100</td>\n",
       "      <td>481</td>\n",
       "      <td>32</td>\n",
       "    </tr>\n",
       "  </tbody>\n",
       "</table>\n",
       "</div>"
      ],
      "text/plain": [
       "              Name Employees  Type_of_ownership                  Sector  \\\n",
       "count         3094      2493               2637                    2094   \n",
       "unique        1941         7                 11                      24   \n",
       "top     Gotfriends    10000+  Company - Private  Information Technology   \n",
       "freq           100       679               1540                     785   \n",
       "\n",
       "                                       Industry   Revenue_USD  \\\n",
       "count                                      2094          1278   \n",
       "unique                                       80             9   \n",
       "top     Information Technology Support Services  $10+ billion   \n",
       "freq                                        346           374   \n",
       "\n",
       "                                                     Pros  \\\n",
       "count                                                2404   \n",
       "unique                                               1420   \n",
       "top     ['\"Good people and good managers.\" (in 3 revie...   \n",
       "freq                                                  100   \n",
       "\n",
       "                                                     Cons  \\\n",
       "count                                                2404   \n",
       "unique                                               1194   \n",
       "top     ['No Cons have been reported by the Glassdoor ...   \n",
       "freq                                                  481   \n",
       "\n",
       "                                         Benefits_reviews  \n",
       "count                                                 785  \n",
       "unique                                                351  \n",
       "top     ['401K Plan (573 comments)\\n\"6% Match best in ...  \n",
       "freq                                                   32  "
      ]
     },
     "execution_count": 18,
     "metadata": {},
     "output_type": "execute_result"
    }
   ],
   "source": [
    "print(f\"Summary of Company Info Data:\")\n",
    "\n",
    "data['Company_info'].describe(include=object)"
   ]
  },
  {
   "cell_type": "code",
   "execution_count": 19,
   "metadata": {},
   "outputs": [
    {
     "name": "stdout",
     "output_type": "stream",
     "text": [
      "Top 10 employees:\n"
     ]
    },
    {
     "data": {
      "text/plain": [
       "Gotfriends                           100\n",
       "SQlink                                84\n",
       "Accenture                             32\n",
       "Canonical - Jobs                      25\n",
       "Nigel Frank International Limited     19\n",
       "EPAM Systems                          18\n",
       "EY                                    16\n",
       "Vodafone                              15\n",
       "ROCKEN                                15\n",
       "ING                                   15\n",
       "Name: Name, dtype: int64"
      ]
     },
     "execution_count": 19,
     "metadata": {},
     "output_type": "execute_result"
    }
   ],
   "source": [
    "print(f\"Top 10 employees:\")\n",
    "data['Company_info']['Name'].value_counts()[:10]"
   ]
  },
  {
   "cell_type": "code",
   "execution_count": 20,
   "metadata": {},
   "outputs": [
    {
     "data": {
      "image/png": "[encoded data removed]",
      "text/plain": [
       "<Figure size 800x500 with 1 Axes>"
      ]
     },
     "metadata": {},
     "output_type": "display_data"
    }
   ],
   "source": [
    "show_distribution(data['Company_info']['Rating'], \"Companies Ratings\")"
   ]
  },
  {
   "cell_type": "code",
   "execution_count": 21,
   "metadata": {},
   "outputs": [
    {
     "data": {
      "image/png": "[encoded data removed]",
      "text/plain": [
       "<Figure size 800x500 with 1 Axes>"
      ]
     },
     "metadata": {},
     "output_type": "display_data"
    }
   ],
   "source": [
    "show_distribution(data['Company_info']['CEO_approval'], \"CEO approval\")"
   ]
  },
  {
   "cell_type": "code",
   "execution_count": 22,
   "metadata": {},
   "outputs": [
    {
     "data": {
      "image/png": "[encoded data removed]",
      "text/plain": [
       "<Figure size 800x500 with 1 Axes>"
      ]
     },
     "metadata": {},
     "output_type": "display_data"
    }
   ],
   "source": [
    "show_distribution(data['Company_info']['Senior_management'], \"Senior management\")"
   ]
  },
  {
   "cell_type": "code",
   "execution_count": 23,
   "metadata": {},
   "outputs": [
    {
     "data": {
      "image/png": "[encoded data removed]",
      "text/plain": [
       "<Figure size 800x500 with 1 Axes>"
      ]
     },
     "metadata": {},
     "output_type": "display_data"
    }
   ],
   "source": [
    "show_distribution(data['Company_info']['Career_opportunities'], \"Career Opportunities\")"
   ]
  },
  {
   "cell_type": "code",
   "execution_count": 24,
   "metadata": {},
   "outputs": [
    {
     "data": {
      "image/png": "[encoded data removed]",
      "text/plain": [
       "<Figure size 800x500 with 1 Axes>"
      ]
     },
     "metadata": {},
     "output_type": "display_data"
    }
   ],
   "source": [
    "show_distribution(data['Company_info']['Work/Life_balance'], \"Work/Life Balance\")"
   ]
  },
  {
   "cell_type": "code",
   "execution_count": 25,
   "metadata": {},
   "outputs": [
    {
     "data": {
      "image/png": "[encoded data removed]",
      "text/plain": [
       "<Figure size 800x500 with 1 Axes>"
      ]
     },
     "metadata": {},
     "output_type": "display_data"
    }
   ],
   "source": [
    "show_distribution(data['Company_info']['Benefits_rating'], \"Benefits Rating\")"
   ]
  },
  {
   "cell_type": "code",
   "execution_count": 26,
   "metadata": {},
   "outputs": [
    {
     "data": {
      "image/png": "[encoded data removed]",
      "text/plain": [
       "<Figure size 800x500 with 1 Axes>"
      ]
     },
     "metadata": {},
     "output_type": "display_data"
    }
   ],
   "source": [
    "show_distribution(data['Company_info']['Friend_recommend'], \"Friend recommended\")"
   ]
  },
  {
   "cell_type": "code",
   "execution_count": 27,
   "metadata": {},
   "outputs": [
    {
     "name": "stdout",
     "output_type": "stream",
     "text": [
      "Companies Sizes (number of employees):\n"
     ]
    },
    {
     "data": {
      "text/plain": [
       "10000+           21.95%\n",
       "NaN              19.42%\n",
       "51 to 200        13.93%\n",
       "1001 to 5000     13.15%\n",
       "1 to 50          12.38%\n",
       "201 to 500        7.98%\n",
       "501 to 1000       7.14%\n",
       "5001 to 10000     4.04%\n",
       "Name: Employees, dtype: object"
      ]
     },
     "execution_count": 27,
     "metadata": {},
     "output_type": "execute_result"
    }
   ],
   "source": [
    "print(f\"Companies Sizes (number of employees):\")\n",
    "\n",
    "data['Company_info']['Employees'].value_counts(dropna=False).map(lambda n: '{:,.2%}'.format(n / len(data)))"
   ]
  },
  {
   "cell_type": "code",
   "execution_count": 28,
   "metadata": {},
   "outputs": [],
   "source": [
    "def value_counts_percent(df: pd.DataFrame):\n",
    "    return df.value_counts(dropna=False).map(lambda n: '{:,.2%}'.format(n / len(data)))"
   ]
  },
  {
   "cell_type": "code",
   "execution_count": 29,
   "metadata": {},
   "outputs": [
    {
     "name": "stdout",
     "output_type": "stream",
     "text": [
      "Companies Sizes (Revenue):\n"
     ]
    },
    {
     "data": {
      "text/plain": [
       "NaN                           58.69%\n",
       "$10+ billion                  12.09%\n",
       "$1 to $5 billion               6.76%\n",
       "$100 to $500 million           5.49%\n",
       "$25 to $100 million            5.27%\n",
       "$5 to $25 million              3.62%\n",
       "$5 to $10 billion              3.36%\n",
       "$500 million to $1 billion     2.00%\n",
       "$1 to $5 million               1.81%\n",
       "Less than $1 million           0.90%\n",
       "Name: Revenue_USD, dtype: object"
      ]
     },
     "execution_count": 29,
     "metadata": {},
     "output_type": "execute_result"
    }
   ],
   "source": [
    "print(f\"Companies Sizes (Revenue):\")\n",
    "\n",
    "value_counts_percent(data['Company_info']['Revenue_USD'])"
   ]
  },
  {
   "cell_type": "code",
   "execution_count": 30,
   "metadata": {},
   "outputs": [
    {
     "name": "stdout",
     "output_type": "stream",
     "text": [
      "Companies Ownership Type:\n"
     ]
    },
    {
     "data": {
      "text/plain": [
       "Company - Private                 49.77%\n",
       "Company - Public                  28.73%\n",
       "NaN                               14.77%\n",
       "Subsidiary or Business Segment     2.71%\n",
       "Self-employed                      0.97%\n",
       "Government                         0.97%\n",
       "Nonprofit Organization             0.68%\n",
       "Private Practice / Firm            0.58%\n",
       "Contract                           0.42%\n",
       "College / University               0.32%\n",
       "Franchise                          0.03%\n",
       "Hospital                           0.03%\n",
       "Name: Type_of_ownership, dtype: object"
      ]
     },
     "execution_count": 30,
     "metadata": {},
     "output_type": "execute_result"
    }
   ],
   "source": [
    "print(f\"Companies Ownership Type:\")\n",
    "\n",
    "value_counts_percent(data['Company_info']['Type_of_ownership'])"
   ]
  },
  {
   "cell_type": "code",
   "execution_count": 31,
   "metadata": {},
   "outputs": [
    {
     "name": "stdout",
     "output_type": "stream",
     "text": [
      "Companies Sector:\n"
     ]
    },
    {
     "data": {
      "text/plain": [
       "NaN                                            32.32%\n",
       "Information Technology                         25.37%\n",
       "Human Resources & Staffing                      9.99%\n",
       "Financial Services                              6.30%\n",
       "Management & Consulting                         5.85%\n",
       "Manufacturing                                   4.40%\n",
       "Media & Communication                           2.33%\n",
       "Energy, Mining & Utilities                      1.68%\n",
       "Telecommunications                              1.58%\n",
       "Retail & Wholesale                              1.52%\n",
       "Transportation & Logistics                      1.45%\n",
       "Pharmaceutical & Biotechnology                  1.16%\n",
       "Insurance                                       1.16%\n",
       "Construction, Repair & Maintenance Services     0.84%\n",
       "Healthcare                                      0.78%\n",
       "Government & Public Administration              0.71%\n",
       "Education                                       0.68%\n",
       "Aerospace & Defense                             0.68%\n",
       "Real Estate                                     0.42%\n",
       "Arts, Entertainment & Recreation                0.32%\n",
       "Hotels & Travel Accommodation                   0.19%\n",
       "Legal                                           0.10%\n",
       "Nonprofit & NGO                                 0.06%\n",
       "Personal Consumer Services                      0.06%\n",
       "Agriculture                                     0.03%\n",
       "Name: Sector, dtype: object"
      ]
     },
     "execution_count": 31,
     "metadata": {},
     "output_type": "execute_result"
    }
   ],
   "source": [
    "print(f\"Companies Sector:\")\n",
    "\n",
    "value_counts_percent(data['Company_info']['Sector'])"
   ]
  },
  {
   "cell_type": "code",
   "execution_count": 32,
   "metadata": {},
   "outputs": [
    {
     "name": "stdout",
     "output_type": "stream",
     "text": [
      "Companies Industry:\n"
     ]
    },
    {
     "data": {
      "text/plain": [
       "NaN                                        32.32%\n",
       "Information Technology Support Services    11.18%\n",
       "HR Consulting                               6.11%\n",
       "Computer Hardware Development               5.79%\n",
       "Enterprise Software & Network Solutions     4.46%\n",
       "                                            ...  \n",
       "Membership Organizations                    0.03%\n",
       "Music & Sound Production                    0.03%\n",
       "Pharmaceutical                              0.03%\n",
       "Law Firms                                   0.03%\n",
       "Film Production                             0.03%\n",
       "Name: Industry, Length: 81, dtype: object"
      ]
     },
     "execution_count": 32,
     "metadata": {},
     "output_type": "execute_result"
    }
   ],
   "source": [
    "print(f\"Companies Industry:\")\n",
    "\n",
    "value_counts_percent(data['Company_info']['Industry'])"
   ]
  },
  {
   "cell_type": "code",
   "execution_count": 33,
   "metadata": {},
   "outputs": [],
   "source": [
    "del value_counts_percent"
   ]
  },
  {
   "cell_type": "code",
   "execution_count": 34,
   "metadata": {},
   "outputs": [
    {
     "data": {
      "image/png": "[encoded data removed]",
      "text/plain": [
       "<Figure size 800x500 with 1 Axes>"
      ]
     },
     "metadata": {},
     "output_type": "display_data"
    }
   ],
   "source": [
    "show_distribution(data['Company_info']['Company_age'], \"Companies Ages\")"
   ]
  },
  {
   "cell_type": "code",
   "execution_count": 35,
   "metadata": {},
   "outputs": [],
   "source": [
    "del show_distribution"
   ]
  },
  {
   "cell_type": "code",
   "execution_count": 36,
   "metadata": {},
   "outputs": [
    {
     "name": "stdout",
     "output_type": "stream",
     "text": [
      "Education Needed:\n",
      "\n",
      "Number of jobs: 3094\n",
      "\n",
      "     Percentage of True Values  Occurrence\n",
      "None                    93.15%        2882\n",
      "MS                       4.07%         126\n",
      "BA                       3.59%         111\n",
      "Phd                      0.32%          10\n"
     ]
    }
   ],
   "source": [
    "print(f\"Education Needed:\\n\")\n",
    "\n",
    "show_percentages(data['Education'][['BA', 'MS', 'Phd']])"
   ]
  },
  {
   "cell_type": "code",
   "execution_count": 37,
   "metadata": {},
   "outputs": [
    {
     "name": "stdout",
     "output_type": "stream",
     "text": [
      "Certificates Needed:\n",
      "\n",
      "Number of jobs: 3094\n",
      "\n",
      "         Percentage of True Values  Occurrence\n",
      "None                        99.55%        3080\n",
      "Other                        0.42%          13\n",
      "DataCamp                     0.03%           1\n"
     ]
    }
   ],
   "source": [
    "print(f\"Certificates Needed:\\n\")\n",
    "\n",
    "show_percentages(data['Education']['Certificate'], \"string\")"
   ]
  },
  {
   "cell_type": "code",
   "execution_count": 38,
   "metadata": {},
   "outputs": [
    {
     "name": "stdout",
     "output_type": "stream",
     "text": [
      "Version Control:\n",
      "\n",
      "Number of jobs: 3094\n",
      "\n",
      "          Percentage of True Values  Occurrence\n",
      "None                         97.90%        3029\n",
      "Git                           1.20%          37\n",
      "GitLab                        0.55%          17\n",
      "Github                        0.29%           9\n",
      "Bitbucket                     0.03%           1\n",
      "Launchpad                     0.03%           1\n"
     ]
    }
   ],
   "source": [
    "print(f\"Version Control:\\n\")\n",
    "\n",
    "show_percentages(data['Version_control']['Git'], \"string\")"
   ]
  },
  {
   "cell_type": "code",
   "execution_count": 39,
   "metadata": {},
   "outputs": [
    {
     "name": "stdout",
     "output_type": "stream",
     "text": [
      "Version Cloud Platforms:\n",
      "\n",
      "Number of jobs: 3094\n",
      "\n",
      "                Percentage of True Values  Occurrence\n",
      "None                               81.61%        2525\n",
      "Microsoft_Azure                     9.95%         308\n",
      "AWS                                 8.73%         270\n",
      "GPC                                 3.68%         114\n",
      "Oracle                              0.13%           4\n",
      "IBM                                 0.10%           3\n",
      "Alibaba                             0.00%           0\n",
      "Tencent                             0.00%           0\n",
      "OVHcloud                            0.00%           0\n",
      "DigitalOcean                        0.00%           0\n",
      "Lincode                             0.00%           0\n"
     ]
    }
   ],
   "source": [
    "print(f\"Version Cloud Platforms:\\n\")\n",
    "\n",
    "show_percentages(data['Cloud_platforms'])"
   ]
  },
  {
   "cell_type": "code",
   "execution_count": 40,
   "metadata": {},
   "outputs": [
    {
     "name": "stdout",
     "output_type": "stream",
     "text": [
      "Relational Database Management System:\n",
      "\n",
      "Number of jobs: 3094\n",
      "\n",
      "                     Percentage of True Values  Occurrence\n",
      "None                                    96.22%        2977\n",
      "PostgreSQL                               1.62%          50\n",
      "MySQL                                    1.62%          50\n",
      "Microsoft_SQL_Server                     1.36%          42\n",
      "Oracle_PL_SQL                            0.36%          11\n",
      "IBM_Db2                                  0.10%           3\n"
     ]
    }
   ],
   "source": [
    "print(f\"Relational Database Management System:\\n\")\n",
    "\n",
    "show_percentages(data['RDBMS'])"
   ]
  },
  {
   "cell_type": "code",
   "execution_count": 41,
   "metadata": {},
   "outputs": [
    {
     "name": "stdout",
     "output_type": "stream",
     "text": [
      "Any Non-Relational Database:\n",
      "\n",
      "Number of jobs: 3094\n",
      "\n",
      "                Percentage of True Values  Occurrence\n",
      "None                               98.00%        3032\n",
      "MongoDB                             1.42%          44\n",
      "Cassandra                           0.55%          17\n",
      "Amazon_DynamoDB                     0.29%           9\n",
      "Neo4j                               0.06%           2\n"
     ]
    }
   ],
   "source": [
    "print(f\"Any Non-Relational Database:\\n\")\n",
    "\n",
    "show_percentages(data['NOSQL'])"
   ]
  },
  {
   "cell_type": "code",
   "execution_count": 42,
   "metadata": {},
   "outputs": [
    {
     "name": "stdout",
     "output_type": "stream",
     "text": [
      "Search & Analytics:\n",
      "\n",
      "Number of jobs: 3094\n",
      "\n",
      "                Percentage of True Values  Occurrence\n",
      "None                               94.80%        2933\n",
      "Snowflake                           2.65%          82\n",
      "Google_BigQuery                     1.26%          39\n",
      "Amazon_Redshift                     1.10%          34\n",
      "Teradata                            0.68%          21\n",
      "SAP_HANA                            0.23%           7\n",
      "Apache_Solr                         0.06%           2\n",
      "Oracle_Exadata                      0.03%           1\n"
     ]
    }
   ],
   "source": [
    "print(f\"Search & Analytics:\\n\")\n",
    "\n",
    "show_percentages(data['Search_&_Analytics'])"
   ]
  },
  {
   "cell_type": "code",
   "execution_count": 43,
   "metadata": {},
   "outputs": [
    {
     "name": "stdout",
     "output_type": "stream",
     "text": [
      "Data Integration & Processing:\n",
      "\n",
      "Number of jobs: 3094\n",
      "\n",
      "                        Percentage of True Values  Occurrence\n",
      "None                                       95.93%        2968\n",
      "Databricks                                  3.56%         110\n",
      "Informatica_PowerCenter                     0.32%          10\n",
      "Presto                                      0.23%           7\n"
     ]
    }
   ],
   "source": [
    "print(f\"Data Integration & Processing:\\n\")\n",
    "\n",
    "show_percentages(data['Data_integration_and_processing'])"
   ]
  },
  {
   "cell_type": "code",
   "execution_count": 44,
   "metadata": {},
   "outputs": [
    {
     "name": "stdout",
     "output_type": "stream",
     "text": [
      "Stream Processing Tools:\n",
      "\n",
      "Number of jobs: 3094\n",
      "\n",
      "             Percentage of True Values  Occurrence\n",
      "None                            96.25%        2978\n",
      "Apache_Kafka                     3.43%         106\n",
      "Apache_Flink                     0.55%          17\n",
      "Dataflow                         0.19%           6\n"
     ]
    }
   ],
   "source": [
    "print(f\"Stream Processing Tools:\\n\")\n",
    "\n",
    "show_percentages(data['Stream_processing_tools'])"
   ]
  },
  {
   "cell_type": "code",
   "execution_count": 45,
   "metadata": {},
   "outputs": [
    {
     "name": "stdout",
     "output_type": "stream",
     "text": [
      "Workflow Orchestration Tools:\n",
      "\n",
      "Number of jobs: 3094\n",
      "\n",
      "               Percentage of True Values  Occurrence\n",
      "None                              97.22%        3008\n",
      "Apache_Airflow                     2.07%          64\n",
      "SSIS                               0.68%          21\n",
      "Luigi                              0.06%           2\n"
     ]
    }
   ],
   "source": [
    "print(f\"Workflow Orchestration Tools:\\n\")\n",
    "\n",
    "show_percentages(data['Workflow_orchestration_tools'])"
   ]
  },
  {
   "cell_type": "code",
   "execution_count": 46,
   "metadata": {},
   "outputs": [
    {
     "name": "stdout",
     "output_type": "stream",
     "text": [
      "Big Data Processing:\n",
      "\n",
      "Number of jobs: 3094\n",
      "\n",
      "              Percentage of True Values  Occurrence\n",
      "None                             90.56%        2802\n",
      "Apache_Spark                      8.73%         270\n",
      "Apache_Hadoop                     2.59%          80\n",
      "Apache_Hive                       1.65%          51\n"
     ]
    }
   ],
   "source": [
    "print(f\"Big Data Processing:\\n\")\n",
    "\n",
    "show_percentages(data['Big_Data_processing'])"
   ]
  },
  {
   "cell_type": "code",
   "execution_count": 47,
   "metadata": {},
   "outputs": [
    {
     "name": "stdout",
     "output_type": "stream",
     "text": [
      "OS:\n",
      "\n",
      "Number of jobs: 3094\n",
      "\n",
      "        Percentage of True Values  Occurrence\n",
      "None                       97.32%        3011\n",
      "Linux                       2.07%          64\n",
      "Windows                     0.48%          15\n",
      "Unix                        0.45%          14\n",
      "macOS                       0.00%           0\n"
     ]
    }
   ],
   "source": [
    "print(f\"OS:\\n\")\n",
    "\n",
    "show_percentages(data['OS'])"
   ]
  },
  {
   "cell_type": "code",
   "execution_count": 48,
   "metadata": {},
   "outputs": [
    {
     "name": "stdout",
     "output_type": "stream",
     "text": [
      "Programming Languages:\n",
      "\n",
      "Number of jobs: 3094\n",
      "\n",
      "           Percentage of True Values  Occurrence\n",
      "None                          75.27%        2329\n",
      "SQL                           13.61%         421\n",
      "Python                        13.54%         419\n",
      "Java                           4.62%         143\n",
      "Scala                          3.59%         111\n",
      "R                              2.81%          87\n",
      "Bash                           0.32%          10\n",
      "Go                             0.23%           7\n",
      "PowerShell                     0.23%           7\n",
      "CLI                            0.10%           3\n",
      "Julia                          0.00%           0\n",
      "C++                            0.00%           0\n",
      "Rust                           0.00%           0\n"
     ]
    }
   ],
   "source": [
    "print(f\"Programming Languages:\\n\")\n",
    "\n",
    "show_percentages(data['Programming_languages'])"
   ]
  },
  {
   "cell_type": "code",
   "execution_count": 49,
   "metadata": {},
   "outputs": [
    {
     "name": "stdout",
     "output_type": "stream",
     "text": [
      "Business Intelligence Tools:\n",
      "\n",
      "Number of jobs: 3094\n",
      "\n",
      "                 Percentage of True Values  Occurrence\n",
      "None                                96.09%        2973\n",
      "Power_BI                             2.10%          65\n",
      "Tableau                              1.20%          37\n",
      "QlikView                             0.36%          11\n",
      "Looker                               0.36%          11\n",
      "Excel                                0.36%          11\n",
      "Google_Analytics                     0.13%           4\n",
      "MicroStrategy                        0.13%           4\n",
      "Oracle_BI_server                     0.00%           0\n",
      "SAS_Analytics                        0.00%           0\n",
      "Lumira                               0.00%           0\n",
      "Cognos_Impromptu                     0.00%           0\n",
      "InsightSquared                       0.00%           0\n",
      "Sisense                              0.00%           0\n",
      "Dundas_BI                            0.00%           0\n",
      "Domo                                 0.00%           0\n"
     ]
    }
   ],
   "source": [
    "print(f\"Business Intelligence Tools:\\n\")\n",
    "\n",
    "show_percentages(data['Business_Intelligence_Tools'])"
   ]
  },
  {
   "attachments": {},
   "cell_type": "markdown",
   "metadata": {},
   "source": [
    "## Questions to ask"
   ]
  },
  {
   "attachments": {},
   "cell_type": "markdown",
   "metadata": {},
   "source": [
    "1. Countries with The Highest Number of Jobs\n",
    "1. Salaries per Country\n",
    "1. Age of Job Postings\n",
    "1. Top 10 Industries with the Highest Number of Jobs\n",
    "1. Top 10 Industries with the Highest Salaries\n",
    "1. Companies with Maximum Number of Job Openings\n",
    "1. Company Ratings\n",
    "1. Company Size\n",
    "1. Company Age\n",
    "1. Company Ownership Type\n",
    "1. Company Revenue\n",
    "1. Remote Job\n",
    "1. Experience Level\n",
    "1. Skills Required\n",
    "1. Correlation Map"
   ]
  },
  {
   "attachments": {},
   "cell_type": "markdown",
   "metadata": {},
   "source": [
    "## 1. Countries with The Highest Number of Jobs"
   ]
  },
  {
   "cell_type": "code",
   "execution_count": 50,
   "metadata": {},
   "outputs": [
    {
     "name": "stdout",
     "output_type": "stream",
     "text": [
      "Let's explore where are the most positions open to fill in:\n"
     ]
    },
    {
     "data": {
      "image/png": "[encoded data removed]",
      "text/plain": [
       "<Figure size 2000x800 with 1 Axes>"
      ]
     },
     "metadata": {},
     "output_type": "display_data"
    }
   ],
   "source": [
    "plot_data = data[data['Job_details']['Region'] == 'Europe']\n",
    "\n",
    "print(\"Let's explore where are the most positions open to fill in:\")\n",
    "\n",
    "plt.subplots(figsize=(20, 8))\n",
    "p=sns.countplot(x=plot_data[\"Job_details\"]['Country'],order=plot_data[\"Job_details\"]['Country'].value_counts().index[:11], saturation=1, edgecolor = \"#1c1c1c\", linewidth = 4)\n",
    "p.axes.set_title(\"\\nData Science Company's Origins\\n\",fontsize=25)\n",
    "p.axes.set_xlabel(\"\\nOrigin\",fontsize=20)\n",
    "p.axes.set_ylabel(\"Total\",fontsize=20)\n",
    "p.axes.set_xticklabels(p.get_xticklabels(),rotation = 0)\n",
    "for container in p.containers:\n",
    "    p.bar_label(container,label_type=\"center\",padding=6,size=25,color=\"black\",rotation=0,\n",
    "    bbox={\"boxstyle\": \"round\", \"pad\": 0.4, \"facecolor\": \"orange\", \"edgecolor\": \"#1c1c1c\", \"linewidth\" : 4, \"alpha\": 1})\n",
    "\n",
    "\n",
    "sns.despine(left=True, bottom=True)\n",
    "plt.show()"
   ]
  },
  {
   "cell_type": "code",
   "execution_count": 87,
   "metadata": {},
   "outputs": [
    {
     "data": {
      "application/vnd.plotly.v1+json": {
       "config": {
        "plotlyServerURL": "https://plot.ly"
       },
       "data": [
        {
         "coloraxis": "coloraxis",
         "geo": "geo",
         "hovertemplate": "Country=%{location}<br>Company=%{z}<extra></extra>",
         "locationmode": "country names",
         "locations": [
          "Israel",
          "France",
          "Portugal",
          "Germany",
          "Sweden",
          "Austria",
          "Spain",
          "Romania",
          "United_Kingdom",
          "Poland",
          "Denmark",
          "Hungary",
          "Italy",
          "Ireland",
          "Czech_Republic",
          "Belgium",
          "Switzerland",
          "Finland",
          "Greece",
          "Luxembourg",
          "Netherlands",
          "Norway",
          "Turkey"
         ],
         "name": "",
         "type": "choropleth",
         "z": [
          252,
          227,
          189,
          164,
          145,
          139,
          126,
          123,
          118,
          109,
          91,
          86,
          80,
          75,
          68,
          64,
          60,
          58,
          56,
          40,
          40,
          31,
          22
         ]
        }
       ],
       "layout": {
        "coloraxis": {
         "colorbar": {
          "title": {
           "text": "Company"
          }
         },
         "colorscale": [
          [
           0,
           "#0d0887"
          ],
          [
           0.1111111111111111,
           "#46039f"
          ],
          [
           0.2222222222222222,
           "#7201a8"
          ],
          [
           0.3333333333333333,
           "#9c179e"
          ],
          [
           0.4444444444444444,
           "#bd3786"
          ],
          [
           0.5555555555555556,
           "#d8576b"
          ],
          [
           0.6666666666666666,
           "#ed7953"
          ],
          [
           0.7777777777777778,
           "#fb9f3a"
          ],
          [
           0.8888888888888888,
           "#fdca26"
          ],
          [
           1,
           "#f0f921"
          ]
         ]
        },
        "geo": {
         "bgcolor": "#F2EAC5",
         "center": {},
         "domain": {
          "x": [
           0,
           1
          ],
          "y": [
           0,
           1
          ]
         },
         "lataxis": {
          "range": [
           27,
           75
          ]
         },
         "lonaxis": {
          "range": [
           -13,
           50
          ]
         },
         "showlakes": false,
         "showland": false
        },
        "height": 400,
        "legend": {
         "tracegroupgap": 0
        },
        "margin": {
         "b": 0,
         "l": 0,
         "r": 0,
         "t": 0
        },
        "paper_bgcolor": "#F2EAC5",
        "template": {
         "data": {
          "bar": [
           {
            "error_x": {
             "color": "#2a3f5f"
            },
            "error_y": {
             "color": "#2a3f5f"
            },
            "marker": {
             "line": {
              "color": "#E5ECF6",
              "width": 0.5
             },
             "pattern": {
              "fillmode": "overlay",
              "size": 10,
              "solidity": 0.2
             }
            },
            "type": "bar"
           }
          ],
          "barpolar": [
           {
            "marker": {
             "line": {
              "color": "#E5ECF6",
              "width": 0.5
             },
             "pattern": {
              "fillmode": "overlay",
              "size": 10,
              "solidity": 0.2
             }
            },
            "type": "barpolar"
           }
          ],
          "carpet": [
           {
            "aaxis": {
             "endlinecolor": "#2a3f5f",
             "gridcolor": "white",
             "linecolor": "white",
             "minorgridcolor": "white",
             "startlinecolor": "#2a3f5f"
            },
            "baxis": {
             "endlinecolor": "#2a3f5f",
             "gridcolor": "white",
             "linecolor": "white",
             "minorgridcolor": "white",
             "startlinecolor": "#2a3f5f"
            },
            "type": "carpet"
           }
          ],
          "choropleth": [
           {
            "colorbar": {
             "outlinewidth": 0,
             "ticks": ""
            },
            "type": "choropleth"
           }
          ],
          "contour": [
           {
            "colorbar": {
             "outlinewidth": 0,
             "ticks": ""
            },
            "colorscale": [
             [
              0,
              "#0d0887"
             ],
             [
              0.1111111111111111,
              "#46039f"
             ],
             [
              0.2222222222222222,
              "#7201a8"
             ],
             [
              0.3333333333333333,
              "#9c179e"
             ],
             [
              0.4444444444444444,
              "#bd3786"
             ],
             [
              0.5555555555555556,
              "#d8576b"
             ],
             [
              0.6666666666666666,
              "#ed7953"
             ],
             [
              0.7777777777777778,
              "#fb9f3a"
             ],
             [
              0.8888888888888888,
              "#fdca26"
             ],
             [
              1,
              "#f0f921"
             ]
            ],
            "type": "contour"
           }
          ],
          "contourcarpet": [
           {
            "colorbar": {
             "outlinewidth": 0,
             "ticks": ""
            },
            "type": "contourcarpet"
           }
          ],
          "heatmap": [
           {
            "colorbar": {
             "outlinewidth": 0,
             "ticks": ""
            },
            "colorscale": [
             [
              0,
              "#0d0887"
             ],
             [
              0.1111111111111111,
              "#46039f"
             ],
             [
              0.2222222222222222,
              "#7201a8"
             ],
             [
              0.3333333333333333,
              "#9c179e"
             ],
             [
              0.4444444444444444,
              "#bd3786"
             ],
             [
              0.5555555555555556,
              "#d8576b"
             ],
             [
              0.6666666666666666,
              "#ed7953"
             ],
             [
              0.7777777777777778,
              "#fb9f3a"
             ],
             [
              0.8888888888888888,
              "#fdca26"
             ],
             [
              1,
              "#f0f921"
             ]
            ],
            "type": "heatmap"
           }
          ],
          "heatmapgl": [
           {
            "colorbar": {
             "outlinewidth": 0,
             "ticks": ""
            },
            "colorscale": [
             [
              0,
              "#0d0887"
             ],
             [
              0.1111111111111111,
              "#46039f"
             ],
             [
              0.2222222222222222,
              "#7201a8"
             ],
             [
              0.3333333333333333,
              "#9c179e"
             ],
             [
              0.4444444444444444,
              "#bd3786"
             ],
             [
              0.5555555555555556,
              "#d8576b"
             ],
             [
              0.6666666666666666,
              "#ed7953"
             ],
             [
              0.7777777777777778,
              "#fb9f3a"
             ],
             [
              0.8888888888888888,
              "#fdca26"
             ],
             [
              1,
              "#f0f921"
             ]
            ],
            "type": "heatmapgl"
           }
          ],
          "histogram": [
           {
            "marker": {
             "pattern": {
              "fillmode": "overlay",
              "size": 10,
              "solidity": 0.2
             }
            },
            "type": "histogram"
           }
          ],
          "histogram2d": [
           {
            "colorbar": {
             "outlinewidth": 0,
             "ticks": ""
            },
            "colorscale": [
             [
              0,
              "#0d0887"
             ],
             [
              0.1111111111111111,
              "#46039f"
             ],
             [
              0.2222222222222222,
              "#7201a8"
             ],
             [
              0.3333333333333333,
              "#9c179e"
             ],
             [
              0.4444444444444444,
              "#bd3786"
             ],
             [
              0.5555555555555556,
              "#d8576b"
             ],
             [
              0.6666666666666666,
              "#ed7953"
             ],
             [
              0.7777777777777778,
              "#fb9f3a"
             ],
             [
              0.8888888888888888,
              "#fdca26"
             ],
             [
              1,
              "#f0f921"
             ]
            ],
            "type": "histogram2d"
           }
          ],
          "histogram2dcontour": [
           {
            "colorbar": {
             "outlinewidth": 0,
             "ticks": ""
            },
            "colorscale": [
             [
              0,
              "#0d0887"
             ],
             [
              0.1111111111111111,
              "#46039f"
             ],
             [
              0.2222222222222222,
              "#7201a8"
             ],
             [
              0.3333333333333333,
              "#9c179e"
             ],
             [
              0.4444444444444444,
              "#bd3786"
             ],
             [
              0.5555555555555556,
              "#d8576b"
             ],
             [
              0.6666666666666666,
              "#ed7953"
             ],
             [
              0.7777777777777778,
              "#fb9f3a"
             ],
             [
              0.8888888888888888,
              "#fdca26"
             ],
             [
              1,
              "#f0f921"
             ]
            ],
            "type": "histogram2dcontour"
           }
          ],
          "mesh3d": [
           {
            "colorbar": {
             "outlinewidth": 0,
             "ticks": ""
            },
            "type": "mesh3d"
           }
          ],
          "parcoords": [
           {
            "line": {
             "colorbar": {
              "outlinewidth": 0,
              "ticks": ""
             }
            },
            "type": "parcoords"
           }
          ],
          "pie": [
           {
            "automargin": true,
            "type": "pie"
           }
          ],
          "scatter": [
           {
            "fillpattern": {
             "fillmode": "overlay",
             "size": 10,
             "solidity": 0.2
            },
            "type": "scatter"
           }
          ],
          "scatter3d": [
           {
            "line": {
             "colorbar": {
              "outlinewidth": 0,
              "ticks": ""
             }
            },
            "marker": {
             "colorbar": {
              "outlinewidth": 0,
              "ticks": ""
             }
            },
            "type": "scatter3d"
           }
          ],
          "scattercarpet": [
           {
            "marker": {
             "colorbar": {
              "outlinewidth": 0,
              "ticks": ""
             }
            },
            "type": "scattercarpet"
           }
          ],
          "scattergeo": [
           {
            "marker": {
             "colorbar": {
              "outlinewidth": 0,
              "ticks": ""
             }
            },
            "type": "scattergeo"
           }
          ],
          "scattergl": [
           {
            "marker": {
             "colorbar": {
              "outlinewidth": 0,
              "ticks": ""
             }
            },
            "type": "scattergl"
           }
          ],
          "scattermapbox": [
           {
            "marker": {
             "colorbar": {
              "outlinewidth": 0,
              "ticks": ""
             }
            },
            "type": "scattermapbox"
           }
          ],
          "scatterpolar": [
           {
            "marker": {
             "colorbar": {
              "outlinewidth": 0,
              "ticks": ""
             }
            },
            "type": "scatterpolar"
           }
          ],
          "scatterpolargl": [
           {
            "marker": {
             "colorbar": {
              "outlinewidth": 0,
              "ticks": ""
             }
            },
            "type": "scatterpolargl"
           }
          ],
          "scatterternary": [
           {
            "marker": {
             "colorbar": {
              "outlinewidth": 0,
              "ticks": ""
             }
            },
            "type": "scatterternary"
           }
          ],
          "surface": [
           {
            "colorbar": {
             "outlinewidth": 0,
             "ticks": ""
            },
            "colorscale": [
             [
              0,
              "#0d0887"
             ],
             [
              0.1111111111111111,
              "#46039f"
             ],
             [
              0.2222222222222222,
              "#7201a8"
             ],
             [
              0.3333333333333333,
              "#9c179e"
             ],
             [
              0.4444444444444444,
              "#bd3786"
             ],
             [
              0.5555555555555556,
              "#d8576b"
             ],
             [
              0.6666666666666666,
              "#ed7953"
             ],
             [
              0.7777777777777778,
              "#fb9f3a"
             ],
             [
              0.8888888888888888,
              "#fdca26"
             ],
             [
              1,
              "#f0f921"
             ]
            ],
            "type": "surface"
           }
          ],
          "table": [
           {
            "cells": {
             "fill": {
              "color": "#EBF0F8"
             },
             "line": {
              "color": "white"
             }
            },
            "header": {
             "fill": {
              "color": "#C8D4E3"
             },
             "line": {
              "color": "white"
             }
            },
            "type": "table"
           }
          ]
         },
         "layout": {
          "annotationdefaults": {
           "arrowcolor": "#2a3f5f",
           "arrowhead": 0,
           "arrowwidth": 1
          },
          "autotypenumbers": "strict",
          "coloraxis": {
           "colorbar": {
            "outlinewidth": 0,
            "ticks": ""
           }
          },
          "colorscale": {
           "diverging": [
            [
             0,
             "#8e0152"
            ],
            [
             0.1,
             "#c51b7d"
            ],
            [
             0.2,
             "#de77ae"
            ],
            [
             0.3,
             "#f1b6da"
            ],
            [
             0.4,
             "#fde0ef"
            ],
            [
             0.5,
             "#f7f7f7"
            ],
            [
             0.6,
             "#e6f5d0"
            ],
            [
             0.7,
             "#b8e186"
            ],
            [
             0.8,
             "#7fbc41"
            ],
            [
             0.9,
             "#4d9221"
            ],
            [
             1,
             "#276419"
            ]
           ],
           "sequential": [
            [
             0,
             "#0d0887"
            ],
            [
             0.1111111111111111,
             "#46039f"
            ],
            [
             0.2222222222222222,
             "#7201a8"
            ],
            [
             0.3333333333333333,
             "#9c179e"
            ],
            [
             0.4444444444444444,
             "#bd3786"
            ],
            [
             0.5555555555555556,
             "#d8576b"
            ],
            [
             0.6666666666666666,
             "#ed7953"
            ],
            [
             0.7777777777777778,
             "#fb9f3a"
            ],
            [
             0.8888888888888888,
             "#fdca26"
            ],
            [
             1,
             "#f0f921"
            ]
           ],
           "sequentialminus": [
            [
             0,
             "#0d0887"
            ],
            [
             0.1111111111111111,
             "#46039f"
            ],
            [
             0.2222222222222222,
             "#7201a8"
            ],
            [
             0.3333333333333333,
             "#9c179e"
            ],
            [
             0.4444444444444444,
             "#bd3786"
            ],
            [
             0.5555555555555556,
             "#d8576b"
            ],
            [
             0.6666666666666666,
             "#ed7953"
            ],
            [
             0.7777777777777778,
             "#fb9f3a"
            ],
            [
             0.8888888888888888,
             "#fdca26"
            ],
            [
             1,
             "#f0f921"
            ]
           ]
          },
          "colorway": [
           "#636efa",
           "#EF553B",
           "#00cc96",
           "#ab63fa",
           "#FFA15A",
           "#19d3f3",
           "#FF6692",
           "#B6E880",
           "#FF97FF",
           "#FECB52"
          ],
          "font": {
           "color": "#2a3f5f"
          },
          "geo": {
           "bgcolor": "white",
           "lakecolor": "white",
           "landcolor": "#E5ECF6",
           "showlakes": true,
           "showland": true,
           "subunitcolor": "white"
          },
          "hoverlabel": {
           "align": "left"
          },
          "hovermode": "closest",
          "mapbox": {
           "style": "light"
          },
          "paper_bgcolor": "white",
          "plot_bgcolor": "#E5ECF6",
          "polar": {
           "angularaxis": {
            "gridcolor": "white",
            "linecolor": "white",
            "ticks": ""
           },
           "bgcolor": "#E5ECF6",
           "radialaxis": {
            "gridcolor": "white",
            "linecolor": "white",
            "ticks": ""
           }
          },
          "scene": {
           "xaxis": {
            "backgroundcolor": "#E5ECF6",
            "gridcolor": "white",
            "gridwidth": 2,
            "linecolor": "white",
            "showbackground": true,
            "ticks": "",
            "zerolinecolor": "white"
           },
           "yaxis": {
            "backgroundcolor": "#E5ECF6",
            "gridcolor": "white",
            "gridwidth": 2,
            "linecolor": "white",
            "showbackground": true,
            "ticks": "",
            "zerolinecolor": "white"
           },
           "zaxis": {
            "backgroundcolor": "#E5ECF6",
            "gridcolor": "white",
            "gridwidth": 2,
            "linecolor": "white",
            "showbackground": true,
            "ticks": "",
            "zerolinecolor": "white"
           }
          },
          "shapedefaults": {
           "line": {
            "color": "#2a3f5f"
           }
          },
          "ternary": {
           "aaxis": {
            "gridcolor": "white",
            "linecolor": "white",
            "ticks": ""
           },
           "baxis": {
            "gridcolor": "white",
            "linecolor": "white",
            "ticks": ""
           },
           "bgcolor": "#E5ECF6",
           "caxis": {
            "gridcolor": "white",
            "linecolor": "white",
            "ticks": ""
           }
          },
          "title": {
           "x": 0.05
          },
          "xaxis": {
           "automargin": true,
           "gridcolor": "white",
           "linecolor": "white",
           "ticks": "",
           "title": {
            "standoff": 15
           },
           "zerolinecolor": "white",
           "zerolinewidth": 2
          },
          "yaxis": {
           "automargin": true,
           "gridcolor": "white",
           "linecolor": "white",
           "ticks": "",
           "title": {
            "standoff": 15
           },
           "zerolinecolor": "white",
           "zerolinewidth": 2
          }
         }
        },
        "title": {
         "font": {
          "color": "black"
         },
         "text": "Companies in Europe and Israel",
         "x": 0.5,
         "xanchor": "center",
         "y": 0.95,
         "yanchor": "top"
        }
       }
      }
     },
     "metadata": {},
     "output_type": "display_data"
    }
   ],
   "source": [
    "import plotly.express as px\n",
    "\n",
    "fig = px.choropleth(data_frame=plot_data[\"Job_details\"]['Country'].value_counts(),\n",
    "                    locations=plot_data[\"Job_details\"]['Country'].value_counts().index,\n",
    "                    locationmode=\"country names\",\n",
    "                    color=plot_data[\"Job_details\"]['Country'].value_counts().values,\n",
    "                    height=400,\n",
    "                    # scope=\"europe\",\n",
    "                    labels={\"color\": \"Company\", \"locations\": \"Country\"})\n",
    "\n",
    "fig.update_layout(\n",
    "    geo = dict(\n",
    "        lonaxis = dict(\n",
    "            range= [-13.0, 50.0],\n",
    "        ),\n",
    "        lataxis = dict (\n",
    "            range= [27, 75],\n",
    "        ),\n",
    "        showlakes = False,\n",
    "        showland = False,\n",
    "    )\n",
    ")\n",
    "\n",
    "fig.update_layout(title=dict(text=\"Companies in Europe and Israel\",\n",
    "                             y=0.95, x=0.5, xanchor=\"center\", yanchor=\"top\", font_color=\"black\"),\n",
    "                  margin=dict(l=0, r=0, b=0, t=0),\n",
    "                  geo_bgcolor=\"#F2EAC5\",\n",
    "                  paper_bgcolor=\"#F2EAC5\")\n",
    "\n",
    "fig.show()\n"
   ]
  }
 ],
 "metadata": {
  "kernelspec": {
   "display_name": "Python 3",
   "language": "python",
   "name": "python3"
  },
  "language_info": {
   "codemirror_mode": {
    "name": "ipython",
    "version": 3
   },
   "file_extension": ".py",
   "mimetype": "text/x-python",
   "name": "python",
   "nbconvert_exporter": "python",
   "pygments_lexer": "ipython3",
   "version": "3.11.1"
  },
  "orig_nbformat": 4
 },
 "nbformat": 4,
 "nbformat_minor": 2
}
